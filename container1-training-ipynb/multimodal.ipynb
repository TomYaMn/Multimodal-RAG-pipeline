{
 "cells": [
  {
   "cell_type": "code",
   "execution_count": null,
   "metadata": {},
   "outputs": [],
   "source": [
    "%pip install -Uq \"unstructured[pdf]\" pillow lxml\n",
    "%pip install -Uq chromadb tiktoken\n",
    "%pip install -Uq langchain langchain-community langchain-openai langchain-groq\n",
    "%pip install -Uq python_dotenv\n",
    "%pip install unstructured"
   ]
  },
  {
   "cell_type": "code",
   "execution_count": null,
   "metadata": {},
   "outputs": [],
   "source": [
    "import os\n",
    "\n",
    "# keys for the services we will use\n",
    "\n",
    "os.environ[\"OPENAI_API_KEY\"] = \"sk-...\"\n",
    "os.environ[\"GROQ_API_KEY\"] = \"sk-...\"\n",
    "os.environ[\"LANGCHAIN_API_KEY\"] = \"sk-...\"\n",
    "os.environ[\"LANGCHAIN_TRACING_V2\"] = \"true\""
   ]
  },
  {
   "cell_type": "code",
   "execution_count": 1,
   "metadata": {
    "editable": true,
    "slideshow": {
     "slide_type": ""
    },
    "tags": []
   },
   "outputs": [
    {
     "data": {
      "text/plain": [
       "True"
      ]
     },
     "execution_count": 1,
     "metadata": {},
     "output_type": "execute_result"
    }
   ],
   "source": [
    "from dotenv import load_dotenv\n",
    "\n",
    "load_dotenv()"
   ]
  },
  {
   "cell_type": "code",
   "execution_count": null,
   "metadata": {
    "editable": true,
    "slideshow": {
     "slide_type": ""
    },
    "tags": []
   },
   "outputs": [],
   "source": [
    "output_path = \"./content/\"\n",
    "# file_path = output_path + 'attention.pdf'\n",
    "file_path = output_path + 'product.pdf'\n",
    "print(file_path)"
   ]
  },
  {
   "cell_type": "markdown",
   "metadata": {},
   "source": [
    "## Extract the data\n",
    "\n",
    "Extract the elements of the PDF that we will be able to use in the retrieval process. These elements can be: Text, Images, Tables, etc."
   ]
  },
  {
   "cell_type": "code",
   "execution_count": 3,
   "metadata": {
    "editable": true,
    "scrolled": true,
    "slideshow": {
     "slide_type": ""
    },
    "tags": []
   },
   "outputs": [
    {
     "name": "stderr",
     "output_type": "stream",
     "text": [
      "/usr/local/lib/python3.11/site-packages/tqdm/auto.py:21: TqdmWarning: IProgress not found. Please update jupyter and ipywidgets. See https://ipywidgets.readthedocs.io/en/stable/user_install.html\n",
      "  from .autonotebook import tqdm as notebook_tqdm\n"
     ]
    },
    {
     "name": "stdout",
     "output_type": "stream",
     "text": [
      "Wonderful Oddities Shop- The Oddities Collection\n",
      "Step into the Wonderful Oddities Shop, a place where the mysterious and the enchanted intertwine. Tucked away in a forgotten alley, this shop offers rare artifacts imbued with magic, each carrying its own secrets and curses. Browse with caution—every item has a story, and some may change yours\n",
      "forever.\n",
      "ChronoLens Camera (Standard Edition)\n",
      "\n",
      "e A beautifully aged polaroid camera wrapped in cracked leather, its buttons cold to the touch.\n",
      "\n",
      "e When you take a picture, the film develops into a moment in time—not the present, but either past or future.\n",
      "e A faint humming sound echoes before the image reveals itself.\n",
      "\n",
      "e 2,000SGD\n",
      "\n",
      "| ChronoLens Camera (Standard Edition)\n",
      "\n",
      "ChronoLens Camera (Standard Edition)\n",
      "\n",
      "ChronoLens Camera (Limited Edition)\n",
      "\n",
      "e Prints moving ghostly images—a scene unfolding before your eyes.\n",
      "e Ifthe photo develops in red hues, you have witnessed a moment fated to change your life forever.\n",
      "\n",
      "e The camera occasionally trembles in your hands, as if resisting the secrets it reveals.\n",
      "\n",
      "e 3,500SGD\n",
      "\n",
      "ChronoLens Camera (Limited Edition)\n",
      "\n",
      "ChronoLens Camera (Limited Edition)\n",
      "ChronoLens Camera (Cursed Edition)\n",
      "\n",
      "Every photograph contains a shadowy figure, lurking somewhere in the frame.\n",
      "\n",
      "Each time you use it, the figure appears closer to you in the next photo.\n",
      "\n",
      "The lens sometimes fogs up with an eerie breath, even when untouched. 500 SGD\n",
      "\n",
      "500 SGD\n",
      "\n",
      "U Q C F instax\n",
      "ChronoLens Camera (Cursed Edition)\n",
      "\n",
      "ChronoLens Camera (Cursed Edition)\n",
      "\n",
      "Elixir of Renewal (Standard Edition)\n",
      "\n",
      "A ruby-red liquid stored in a delicate glass vial, sealed with wax.\n",
      "\n",
      "One sip, and any injury—from minor cuts to shattered bones—vanishes in seconds.\n",
      "The air smells of fresh rain and blooming roses when uncorked, hinting at its purity.\n",
      "\n",
      "400 SGD\n",
      "\n",
      "Elixir of Renewal (Limited Edition)\n",
      "\n",
      "Heals wounds and restores youth, erasing scars and aging by 5 years per sip.\n",
      "\n",
      "But be warned: for every year gained, a memory is lost—a fair exchange, some might say.\n",
      "The liquid swirls hypnotically, reflecting glimpses of forgotten moments.\n",
      "\n",
      "700 SGD\n",
      "\n",
      "Elixir of Renewal (Cursed Edition)\n",
      "\n",
      "The elixir still heals any wound instantly, but the injury transfers to someone you love.\n",
      "\n",
      "You won’t know who until it’s too late.\n",
      "The vial occasionally shudders, as if something inside it is trying to escape.\n",
      "\n",
      "100 SGD\n",
      "\n",
      "Whispering Quill (Standard Edition)\n",
      "\n",
      "e A quill made from the feather of an unknown bird, always wet with black ink that never runs dry.\n",
      "e When left on parchment, it writes messages from unseen spirits, revealing secrets, forgotten memories, or hidden truths.\n",
      "\n",
      "e Sometimes, it moves on its own, sketching cryptic symbols.\n",
      "\n",
      "e 200SGD\n",
      "\n",
      "Whispering Quill (Standard Edition)\n",
      "\n",
      "Whispering Quill (Limited Edition)\n",
      "e Instead of spirits, the quill writes out prophecies, visions of what is to come.\n",
      "\n",
      "e The ink shifts in colour depending on the danger of the fate being foretold.\n",
      "\n",
      "e The whisper of a voice can sometimes be heard as it glides over paper.\n",
      "\n",
      "e 500 SGD\n",
      "\n",
      "Whispering Quill (Limited Edition)\n",
      "Whispering Quill (Cursed Edition)\n",
      "\n",
      "e Instead of messages, the quill writes your exact moment of death.\n",
      "\n",
      "e The date remains blank—until the day arrives.\n",
      "\n",
      "e The ink never smudges, as if fate itself ensures clarity.\n",
      "\n",
      "e 100SGD\n",
      "\n",
      "Whispering Quill (Cursed Edition)\n",
      "\n",
      "Starlight Jar (Standard Edition)\n",
      "e Acrystal jar containing a shimmering orb of starlight, pulsating with warmth.\n",
      "\n",
      "e When whispered to, the light flickers to respond, guiding the holder towards a place of destiny.\n",
      "\n",
      "e The glow dims when danger is near.\n",
      "\n",
      "e 800 SGD\n",
      "\n",
      "Starlight Jar (Limited Edition)\n",
      "e Once in its lifetime, the star grants a wish—but no one knows the price it will demand.\n",
      "\n",
      "e Legends say some have wished for immortality, only to find themselves trapped in time.\n",
      "\n",
      "e The jar occasionally vibrates, as if something inside stirs restlessly.\n",
      "\n",
      "e 1200SGD\n",
      "\n",
      "Starlight Jar (Cursed Edition)\n",
      "e\n",
      "\n",
      "Instead of light, the jar emits pure darkness, revealing invisible creatures lurking around you.\n",
      "\n",
      "But are they always there... or has the jar summoned them?\n",
      "e\n",
      "\n",
      "e The glass is unnervingly warm, like something is breathing inside.\n",
      "\n",
      "e 200 SGD\n",
      "\n",
      "Shadow Cloak (Standard Edition)\n",
      "\n",
      "e A midnight-black cloak woven from woven void-silk, cold to the touch.\n",
      "\n",
      "e Wrap it around yourself, and you can step into any shadow and emerge from another nearby.\n",
      "another nearby.\n",
      "\n",
      "e Occasionally, whispers from unseen figures are heard when worn.\n",
      "\n",
      "3,000 SGD\n",
      "\n",
      "Aad\n",
      "\n",
      "Shadow Cloak\n",
      "\n",
      "Shadow Cloak (Standard Edition)\n",
      "\n",
      "Shadow Cloak (Limited Edition)\n",
      "\n",
      "e A Purple cloak.\n",
      "\n",
      "Grants 13 minutes of true invisibility per night.\n",
      "e\n",
      "\n",
      "But each use erases a fragment of you from people’s memories.\n",
      "e\n",
      "\n",
      "e The fabric feels heavier with each use, burdened by forgotten identity.\n",
      "\n",
      "5,000 SGD\n",
      "\n",
      "Aah\n",
      "\n",
      "Shadow Cloak (Limited Edition)\n",
      "\n",
      "Shadow Cloak (Cursed Edition)\n",
      "\n",
      "Works the same as the standard version, but each time you use it, you become less human.\n",
      "e\n",
      "\n",
      "e Use it too often, and one day, you will never return from the shadows.\n",
      "\n",
      "e The cloak occasionally tightens on its own, as if reluctant to let go.\n",
      "\n",
      "e 600 SGD\n",
      "\n",
      "Shadow Cloak (Cursed Edition)\n",
      "\n",
      "Hourglass of Regret (Standard Edition)\n",
      "e A delicate golden hourglass, its sand shimmering like crushed diamonds.\n",
      "\n",
      "e When flipped, time reverses by exactly one hour.\n",
      "\n",
      "e The glass vibrates slightly, as if resisting fate’s interference.\n",
      "\n",
      "e 900 SGD\n",
      "\n",
      "Hourglass of Regret (Limited Edition)\n",
      "e Grants the user a full hour of redo, but the more you use it, the more reality fragments.\n",
      "\n",
      "e Sometimes, echoes of past mistakes whisper from the glass.\n",
      "\n",
      "e 1500 SGD\n",
      "\n",
      "Hourglass of Regret (Cursed Edition)\n",
      "\n",
      "e Instead of rewinding one hour, it traps you in an endless 60-second time loop.\n",
      "e The only way out is for someone else to break the glass.\n",
      "\n",
      "e A faint ticking sound grows louder the longer you hold it.\n",
      "\n",
      "e 100SGD\n",
      "\n",
      "Moonstone Compass (Standard Edition)\n",
      "\n",
      "e A beautifully crafted brass compass, its needle never pointing north.\n",
      "e Instead, it leads to what your heart secretly longs for.\n",
      "\n",
      "e The needle quivers when near great danger or deception.\n",
      "\n",
      "e 1,500 SGD\n",
      "\n",
      "Moonstone Compass (Limited Edition)\n",
      "\n",
      "e Can lead to hidden realms beyond our world.\n",
      "\n",
      "e Some say it unlocks pathways to forgotten places where time stands still.\n",
      "e 2,500 SGD\n",
      "\n",
      "Moonstone Compass (Cursed Edition)\n",
      "\n",
      "e Always points to the last person who thought of you.\n",
      "\n",
      "e Ifit starts spinning wildly, someone obsesses over you dangerously.\n",
      "\n",
      "e The metal occasionally feels unnaturally warm, as if touched by unseen hands.\n",
      "\n",
      "e 150SGD\n"
     ]
    }
   ],
   "source": [
    "# import os\n",
    "from unstructured.partition.pdf import partition_pdf\n",
    "\n",
    "# Set the Poppler path environment variable\n",
    "# os.environ[\"POPPLER_PATH\"] = r\"C:\\Program Files\\poppler\\poppler-24.08.0\\Library\\bin\"\n",
    "\n",
    "# Define your file path and output path\n",
    "output_path = \"content/\"\n",
    "file_path = output_path + 'product.pdf'\n",
    "\n",
    "# Reference: https://docs.unstructured.io/open-source/core-functionality/chunking\n",
    "try:\n",
    "    chunks = partition_pdf(\n",
    "        filename=\"content/product.pdf\",\n",
    "        infer_table_structure=True,            # extract tables\n",
    "        strategy=\"hi_res\",                     # mandatory to infer tables\n",
    "\n",
    "        extract_image_block_types=[\"Image\"],   # Add 'Table' to list to extract image of tables\n",
    "        # image_output_dir_path=output_path,   # if None, images and tables will be saved in base64\n",
    "\n",
    "        extract_image_block_to_payload=True,   # if true, will extract base64 for API usage\n",
    "\n",
    "        chunking_strategy=\"by_title\",          # or 'basic'\n",
    "        max_characters=300,                  # defaults to 500\n",
    "        combine_text_under_n_chars=100,       # defaults to 0\n",
    "        new_after_n_chars=400,\n",
    "\n",
    "        poppler_path=r\"C:\\Program Files\\poppler\\poppler-24.08.0\\Library\\bin\",  # Specify poppler_path here\n",
    "\n",
    "        # extract_images_in_pdf=True,          # deprecated\n",
    "    )\n",
    "except FileNotFoundError as e:\n",
    "    print(e)\n",
    "    raise\n",
    "\n",
    "# Optionally, print the chunks or process them as needed\n",
    "for chunk in chunks:\n",
    "    print(chunk)"
   ]
  },
  {
   "cell_type": "code",
   "execution_count": 4,
   "metadata": {
    "editable": true,
    "slideshow": {
     "slide_type": ""
    },
    "tags": []
   },
   "outputs": [
    {
     "data": {
      "text/plain": [
       "27"
      ]
     },
     "execution_count": 4,
     "metadata": {},
     "output_type": "execute_result"
    }
   ],
   "source": [
    "# We get 2 types of elements from the partition_pdf function\n",
    "# set([str(type(el)) for el in chunks])\n",
    "\n",
    "len(chunks)\n",
    "# chunks[3].metadata.orig_elements"
   ]
  },
  {
   "cell_type": "code",
   "execution_count": null,
   "metadata": {
    "editable": true,
    "jupyter": {
     "source_hidden": true
    },
    "slideshow": {
     "slide_type": ""
    },
    "tags": []
   },
   "outputs": [],
   "source": [
    "for ch in chunks[5].metadata.orig_elements:\n",
    "    if \"Table\" in str(type(ch)):\n",
    "        print (ch)"
   ]
  },
  {
   "cell_type": "code",
   "execution_count": null,
   "metadata": {
    "jupyter": {
     "source_hidden": true
    }
   },
   "outputs": [],
   "source": [
    "# Each CompositeElement containes a bunch of related elements.\n",
    "# This makes it easy to use these elements together in a RAG pipeline.\n",
    "\n",
    "tables=[]\n",
    "# chunks[3].metadata.orig_elements\n",
    "\n",
    "for chunk in chunks:\n",
    "    if \"Table\" in str(type(chunk)):\n",
    "        tables.append(chunk)"
   ]
  },
  {
   "cell_type": "code",
   "execution_count": null,
   "metadata": {
    "jupyter": {
     "source_hidden": true
    }
   },
   "outputs": [],
   "source": [
    "# This is what an extracted image looks like.\n",
    "# It contains the base64 representation only because we set the param extract_image_block_to_payload=True\n",
    "\n",
    "elements = chunks[3].metadata.orig_elements\n",
    "chunk_images = [el for el in elements if 'Image' in str(type(el))]\n",
    "chunk_images[0].to_dict()"
   ]
  },
  {
   "cell_type": "markdown",
   "metadata": {},
   "source": [
    "### Separate extracted elements into tables, text, and images"
   ]
  },
  {
   "cell_type": "code",
   "execution_count": 5,
   "metadata": {},
   "outputs": [],
   "source": [
    "# separate tables from texts\n",
    "tables = []\n",
    "texts = []\n",
    "\n",
    "for chunk in chunks:\n",
    "    if \"Table\" in str(type(chunk)):\n",
    "        tables.append(chunk)\n",
    "\n",
    "    if \"CompositeElement\" in str(type((chunk))):\n",
    "        texts.append(chunk)\n",
    "\n",
    "texts = [element.text for element in texts]  # Adjust this depending on the structure of your CompositeElement."
   ]
  },
  {
   "cell_type": "code",
   "execution_count": 6,
   "metadata": {},
   "outputs": [],
   "source": [
    "# Get the images from the CompositeElement objects\n",
    "def get_images_base64(chunks):\n",
    "    images_b64 = []\n",
    "    for chunk in chunks:\n",
    "        if \"CompositeElement\" in str(type(chunk)):\n",
    "            chunk_els = chunk.metadata.orig_elements\n",
    "            for el in chunk_els:\n",
    "                if \"Image\" in str(type(el)):\n",
    "                    images_b64.append(el.metadata.image_base64)\n",
    "    return images_b64\n",
    "\n",
    "images = get_images_base64(chunks)"
   ]
  },
  {
   "cell_type": "markdown",
   "metadata": {},
   "source": [
    "#### Check what the images look like"
   ]
  },
  {
   "cell_type": "code",
   "execution_count": 9,
   "metadata": {},
   "outputs": [
    {
     "data": {
      "image/jpeg": "[encoded data removed]",
      "text/plain": [
       "<IPython.core.display.Image object>"
      ]
     },
     "metadata": {},
     "output_type": "display_data"
    }
   ],
   "source": [
    "import base64\n",
    "from IPython.display import Image, display\n",
    "\n",
    "def display_base64_image(base64_code):\n",
    "    # Decode the base64 string to binary\n",
    "    image_data = base64.b64decode(base64_code)\n",
    "    # Display the image\n",
    "    display(Image(data=image_data))\n",
    "\n",
    "display_base64_image(images[8])"
   ]
  },
  {
   "cell_type": "markdown",
   "metadata": {},
   "source": [
    "## Summarize the data\n",
    "\n",
    "Create a summary of each element extracted from the PDF. This summary will be vectorized and used in the retrieval process."
   ]
  },
  {
   "cell_type": "markdown",
   "metadata": {},
   "source": [
    "### Text and Table summaries\n",
    "\n",
    "We don't need a multimodal model to generate the summaries of the tables and the text. I will use open source models available on Groq."
   ]
  },
  {
   "cell_type": "code",
   "execution_count": null,
   "metadata": {},
   "outputs": [],
   "source": [
    "%pip install -Uq langchain-groq"
   ]
  },
  {
   "cell_type": "code",
   "execution_count": 11,
   "metadata": {},
   "outputs": [],
   "source": [
    "from langchain_groq import ChatGroq\n",
    "from langchain_core.prompts import ChatPromptTemplate\n",
    "from langchain_core.output_parsers import StrOutputParser"
   ]
  },
  {
   "cell_type": "code",
   "execution_count": 14,
   "metadata": {},
   "outputs": [],
   "source": [
    "# Prompt\n",
    "prompt_text = \"\"\"\n",
    "You are an assistant tasked with summarizing text.\n",
    "Give a concise summary of the text.\n",
    "\n",
    "Respond only with the summary, no additionnal comment.\n",
    "Do not start your message by saying \"Here is a summary\" or anything like that.\n",
    "Just give the summary as it is.\n",
    "\n",
    "text chunk: {element}\n",
    "\n",
    "\"\"\"\n",
    "prompt = ChatPromptTemplate.from_template(prompt_text)\n",
    "\n",
    "# Summary chain\n",
    "model = ChatGroq(temperature=0.5, model=\"llama-3.1-8b-instant\")\n",
    "summarize_chain = {\"element\": lambda x: x} | prompt | model | StrOutputParser()"
   ]
  },
  {
   "cell_type": "code",
   "execution_count": 15,
   "metadata": {
    "scrolled": true
   },
   "outputs": [],
   "source": [
    "# Summarize text\n",
    "text_summaries = summarize_chain.batch(texts, {\"max_concurrency\": 3})\n",
    "\n",
    "# # Summarize tables\n",
    "# tables_html = [table.metadata.text_as_html for table in tables]\n",
    "# table_summaries = summarize_chain.batch(tables_html, {\"max_concurrency\": 3})"
   ]
  },
  {
   "cell_type": "markdown",
   "metadata": {},
   "source": [
    "### Image summaries\n",
    "\n",
    "We will use gpt-4o-mini to produce the image summaries."
   ]
  },
  {
   "cell_type": "code",
   "execution_count": null,
   "metadata": {},
   "outputs": [],
   "source": [
    "%pip install -Uq langchain_openai"
   ]
  },
  {
   "cell_type": "code",
   "execution_count": 16,
   "metadata": {
    "editable": true,
    "slideshow": {
     "slide_type": ""
    },
    "tags": []
   },
   "outputs": [],
   "source": [
    "from langchain_openai import ChatOpenAI\n",
    "\n",
    "prompt_template = \"\"\"Describe the image in detail. For context,\n",
    "                  the image is exactly the product that being sold in the wonderful oddities shop\n",
    "                  \"\"\"\n",
    "messages = [\n",
    "    (\n",
    "        \"user\",\n",
    "        [\n",
    "            {\"type\": \"text\", \"text\": prompt_template},\n",
    "            {\n",
    "                \"type\": \"image_url\",\n",
    "                \"image_url\": {\"url\": \"data:image/jpeg;base64,{image}\"},\n",
    "            },\n",
    "        ],\n",
    "    )\n",
    "]\n",
    "\n",
    "prompt = ChatPromptTemplate.from_messages(messages)\n",
    "\n",
    "chain = prompt | ChatOpenAI(model=\"gpt-4o-mini\") | StrOutputParser()\n",
    "\n",
    "\n",
    "image_summaries = chain.batch(images)"
   ]
  },
  {
   "cell_type": "code",
   "execution_count": 17,
   "metadata": {
    "scrolled": true
   },
   "outputs": [
    {
     "data": {
      "text/plain": [
       "['The Wonderful Oddities Shop is home to \"The Oddities Collection\", a unique and fascinating accumulation of strange and unusual items.',\n",
       " \"The Wonderful Oddities Shop, a mysterious store in a forgotten alley, sells rare magical artifacts with secrets and potential curses, each with its own story that may alter the buyer's life.\",\n",
       " 'The concept of \"forever\" refers to a state or period without end, often used to describe eternity or infinity.',\n",
       " 'The ChronoLens Camera is a unique, aged polaroid camera that captures moments in time, but not the present, instead showing either the past or future.',\n",
       " 'A mysterious humming sound precedes the appearance of a ghostly image, revealing a scene in motion.',\n",
       " \"The ChronoLens Camera, a limited edition item, costs 3,500SGD and is said to capture life-changing moments, with its occasional trembling indicating it's revealing secrets.\",\n",
       " 'The ChronoLens Camera (Cursed Edition) takes photographs with a shadowy figure present, which appears closer in each subsequent photo, and occasionally the lens fogs up mysteriously.',\n",
       " 'The ChronoLens Camera (Cursed Edition) is mentioned alongside the Elixir of Renewal, a magical liquid that instantly heals any injury.',\n",
       " 'The Elixir of Renewal is a limited edition product that heals wounds, restores youth, and erases scars and aging by 5 years per sip, but at the cost of losing a memory for every year gained.',\n",
       " 'A rare, cursed elixir heals wounds instantly but transfers the injury to an unknown loved one, causing irreparable harm.',\n",
       " \"A mysterious vial containing an unknown substance is trying to escape, while a Whispering Quill, made from an unknown bird's feather, has ink that never runs dry, available for 100 SGD.\",\n",
       " 'The Whispering Quill is a mysterious writing instrument that can write messages from unknown spirits and sketch cryptic symbols on its own, revealing secrets and forgotten memories.',\n",
       " 'The Whispering Quill, a limited edition item, writes out prophecies and visions of the future in ink that changes color based on the danger of the fate being foretold, accompanied by a whispering voice.',\n",
       " 'The Whispering Quill writes the moment of death, with a blank date that fills in on the day of death, and costs 100SGD.',\n",
       " 'A limited edition crystal jar contains a shimmering starlight orb that responds to whispers, guiding the holder to their destiny, and dims in the presence of danger, available for 800 SGD.',\n",
       " 'A mysterious Starlight Jar with a Cursed Edition is for sale for 1200SGD, rumored to grant a single wish but at an unknown and potentially terrible cost.',\n",
       " \"A mysterious jar emits pure darkness, revealing invisible creatures, but it's unclear if they existed beforehand or were summoned by the jar.\",\n",
       " 'The Shadow Cloak, a midnight-black cloak made of void-silk, allows the wearer to step into one shadow and emerge from another nearby. It is available for 200 SGD.',\n",
       " 'The Shadow Cloak is a clothing item that grants 13 minutes of true invisibility per night, available in standard and limited editions, priced at 3,000 SGD.',\n",
       " \"Each use of erases a fragment of you from people's memories.\",\n",
       " 'A cursed cloak is for sale, reducing humanity with each use, starting at 5,000 SGD.',\n",
       " 'The Shadow Cloak (Cursed Edition) and Hourglass of Regret (Standard Edition) are two items with mysterious properties: the Shadow Cloak tightens on its own and may prevent return, while the price is 600 SGD.',\n",
       " 'A delicate golden hourglass reverses time by one hour when flipped, available for 900 SGD in a limited edition.',\n",
       " 'Two cursed hourglass items are for sale: the Hourglass of Regret, which grants a full hour of redo but causes reality fragments, and the Hourglass of Regret (Cursed Edition), which traps the user in a 60-second time loop.',\n",
       " 'The text describes an object, the Moonstone Compass, a beautifully crafted brass compass with a unique feature: its needle never points north.',\n",
       " \"The Moonstone Compass is a limited edition item that can lead to hidden realms, unlock pathways to forgotten places, and reveal one's true desires, while also serving as a warning for danger or deception.\",\n",
       " 'The Moonstone Compass (Cursed Edition) is a mysterious item that always points to the last person who thought of the owner, and has other unusual properties, including potentially spinning wildly when someone obsesses over the owner and feeling unnaturally warm to the touch.']"
      ]
     },
     "execution_count": 17,
     "metadata": {},
     "output_type": "execute_result"
    }
   ],
   "source": [
    "text_summaries"
   ]
  },
  {
   "cell_type": "markdown",
   "metadata": {},
   "source": [
    "## Load data and summaries to vectorstore"
   ]
  },
  {
   "cell_type": "markdown",
   "metadata": {},
   "source": [
    "### Create the vectorstore"
   ]
  },
  {
   "cell_type": "code",
   "execution_count": 20,
   "metadata": {},
   "outputs": [],
   "source": [
    "import uuid\n",
    "from langchain_openai import OpenAIEmbeddings\n",
    "from langchain_chroma import Chroma\n",
    "from langchain.storage import InMemoryStore\n",
    "from langchain.schema.document import Document\n",
    "from langchain.retrievers.multi_vector import MultiVectorRetriever\n",
    "\n",
    "# The vectorstore to use to index the child chunks\n",
    "vectorstore = Chroma(collection_name=\"multi_modal_rag_testing\", embedding_function=OpenAIEmbeddings())\n",
    "\n",
    "# The storage layer for the parent documents\n",
    "store = InMemoryStore()\n",
    "id_key = \"doc_id\"\n",
    "\n",
    "# The retriever (empty to start)\n",
    "retriever = MultiVectorRetriever(\n",
    "    vectorstore=vectorstore,\n",
    "    docstore=store,\n",
    "    id_key=id_key,\n",
    "    search_kwargs={\"k\": 4} \n",
    ")"
   ]
  },
  {
   "cell_type": "markdown",
   "metadata": {},
   "source": [
    "### Load the summaries and link the to the original data"
   ]
  },
  {
   "cell_type": "code",
   "execution_count": 21,
   "metadata": {},
   "outputs": [],
   "source": [
    "# Add texts\n",
    "doc_ids = [str(uuid.uuid4()) for _ in texts]\n",
    "summary_texts = [\n",
    "    Document(page_content=summary, metadata={id_key: doc_ids[i]}) for i, summary in enumerate(text_summaries)\n",
    "]\n",
    "retriever.vectorstore.add_documents(summary_texts)\n",
    "retriever.docstore.mset(list(zip(doc_ids, texts)))\n",
    "\n",
    "# # Add tables\n",
    "# table_ids = [str(uuid.uuid4()) for _ in tables]\n",
    "# summary_tables = [\n",
    "#     Document(page_content=summary, metadata={id_key: table_ids[i]}) for i, summary in enumerate(table_summaries)\n",
    "# ]\n",
    "# retriever.vectorstore.add_documents(summary_tables)\n",
    "# retriever.docstore.mset(list(zip(table_ids, tables)))\n",
    "\n",
    "# Add image summaries\n",
    "img_ids = [str(uuid.uuid4()) for _ in images]\n",
    "summary_img = [\n",
    "    Document(page_content=summary, metadata={id_key: img_ids[i]}) for i, summary in enumerate(image_summaries)\n",
    "]\n",
    "retriever.vectorstore.add_documents(summary_img)\n",
    "retriever.docstore.mset(list(zip(img_ids, images)))"
   ]
  },
  {
   "cell_type": "markdown",
   "metadata": {},
   "source": [
    "## Qdrant (outdated)"
   ]
  },
  {
   "cell_type": "code",
   "execution_count": null,
   "metadata": {
    "jupyter": {
     "source_hidden": true
    }
   },
   "outputs": [],
   "source": [
    "from qdrant_client import QdrantClient\n",
    "from qdrant_client.models import VectorParams, HnswConfig\n",
    "\n",
    "qdrant_client = QdrantClient()\n",
    "\n",
    "collection_name = \"your_collection_name\"\n",
    "\n",
    "vectors_config = {\n",
    "    \"embedding\": VectorParams(\n",
    "        size=1536,  # Set the correct vector size for OpenAI embeddings\n",
    "        distance=\"Cosine\",  # or \"Euclidean\" depending on your use case\n",
    "    )\n",
    "}\n",
    "\n",
    "print(f\"Creating collection {collection_name} with the correct configuration.\")\n",
    "qdrant_client.create_collection(\n",
    "    collection_name=collection_name,\n",
    "    vectors_config=vectors_config\n",
    ")\n"
   ]
  },
  {
   "cell_type": "code",
   "execution_count": null,
   "metadata": {
    "jupyter": {
     "source_hidden": true
    }
   },
   "outputs": [],
   "source": [
    "qdrant_client.delete_collection(collection_name=collection_name)\n"
   ]
  },
  {
   "cell_type": "code",
   "execution_count": null,
   "metadata": {
    "jupyter": {
     "source_hidden": true
    }
   },
   "outputs": [],
   "source": [
    "from qdrant_client import QdrantClient\n",
    "from qdrant_client.models import HnswConfigDiff\n",
    "\n",
    "qdrant_client = QdrantClient()\n",
    "\n",
    "# Update the collection with new HNSW configuration\n",
    "qdrant_client.update_collection(\n",
    "    collection_name=collection_name,\n",
    "    vectors_config={\n",
    "        \"embedding\": {\n",
    "            \"hnsw_config\": HnswConfigDiff(\n",
    "                ef_construct=200,  # Correct field name for ef_construction\n",
    "                m=16,\n",
    "                full_scan_threshold=100  # Add the missing field\n",
    "            )\n",
    "        }\n",
    "    }\n",
    ")"
   ]
  },
  {
   "cell_type": "code",
   "execution_count": null,
   "metadata": {
    "jupyter": {
     "source_hidden": true
    }
   },
   "outputs": [],
   "source": [
    "import uuid\n",
    "from langchain.vectorstores import Chroma\n",
    "from langchain.storage import InMemoryStore\n",
    "from langchain.schema import Document\n",
    "from langchain.embeddings import OpenAIEmbeddings\n",
    "from langchain.retrievers.multi_vector import MultiVectorRetriever\n",
    "from qdrant_client import QdrantClient\n",
    "from qdrant_client.models import PointStruct\n",
    "from sklearn.decomposition import PCA\n",
    "\n",
    "# Initialize Qdrant client\n",
    "qdrant_client = QdrantClient(\"http://localhost:6333\")  # Replace with your Qdrant instance URL\n",
    "collection_name = \"your_collection_name\"\n",
    "\n",
    "# Initialize the OpenAI Embeddings model\n",
    "embedding_function = OpenAIEmbeddings()\n",
    "\n",
    "# The vectorstore to use to index the child chunks\n",
    "vectorstore = Chroma(collection_name=\"multi_modal_rag\", embedding_function=embedding_function)\n",
    "\n",
    "# The storage layer for the parent documents\n",
    "store = InMemoryStore()\n",
    "id_key = \"doc_id\"\n",
    "\n",
    "# The retriever (empty to start)\n",
    "retriever = MultiVectorRetriever(\n",
    "    vectorstore=vectorstore,\n",
    "    docstore=store,\n",
    "    id_key=id_key,\n",
    ")\n",
    "\n",
    "# Generate document IDs for text and image data\n",
    "doc_ids = [str(uuid.uuid4()) for _ in texts]\n",
    "img_ids = [str(uuid.uuid4()) for _ in images]\n",
    "\n",
    "# Generate embeddings for texts using OpenAIEmbeddings\n",
    "def generate_text_embeddings(texts):\n",
    "    return embedding_function.embed_documents(texts)\n",
    "\n",
    "# Function to reduce dimensionality of embeddings to 512 using PCA\n",
    "def reduce_dimensionality(embeddings, target_dim=512):\n",
    "    n_samples, n_features = len(embeddings), len(embeddings[0]) if embeddings else 0\n",
    "    \n",
    "    if n_samples == 0 or n_features == 0:\n",
    "        raise ValueError(\"Embeddings are empty or improperly formatted.\")\n",
    "    \n",
    "    # Ensure n_components does not exceed min(n_samples, n_features)\n",
    "    n_components = min(target_dim, min(n_samples, n_features))\n",
    "\n",
    "    pca = PCA(n_components=n_components)\n",
    "    return pca.fit_transform(embeddings)\n",
    "\n",
    "# Function to store embeddings and metadata in Qdrant\n",
    "def store_embeddings_in_qdrant(doc_ids, embeddings, summaries, texts=None, images=None):\n",
    "    points = [\n",
    "        PointStruct(\n",
    "            id=doc_id,\n",
    "            vector={\"embedding\": embedding},  # Ensure correct vector name\n",
    "            payload={\"summary\": summary, \"text\": text, \"image\": image}\n",
    "        )\n",
    "        for doc_id, embedding, summary, text, image in zip(doc_ids, embeddings, summaries, texts or [None] * len(doc_ids), images or [None] * len(doc_ids))\n",
    "    ]\n",
    "    \n",
    "    # Upload the points into the Qdrant collection\n",
    "    qdrant_client.upsert(collection_name=collection_name, points=points)\n",
    "\n",
    "# Add texts to retriever (store texts and summaries in vectorstore)\n",
    "summary_texts = [\n",
    "    Document(page_content=summary, metadata={id_key: doc_ids[i]}) for i, summary in enumerate(text_summaries)\n",
    "]\n",
    "retriever.vectorstore.add_documents(summary_texts)\n",
    "retriever.docstore.mset(list(zip(doc_ids, texts)))\n",
    "\n",
    "# Generate embeddings for texts\n",
    "text_embeddings = generate_text_embeddings(texts)  # Generate embeddings for texts\n",
    "\n",
    "# Optionally reduce the dimensionality of the text embeddings to 512 if needed\n",
    "text_embeddings_512 = reduce_dimensionality(text_embeddings, target_dim=512)\n",
    "\n",
    "# Store embeddings and metadata in Qdrant for text summaries\n",
    "store_embeddings_in_qdrant(doc_ids, text_embeddings, text_summaries, texts=texts)\n",
    "\n",
    "# Add image summaries to retriever\n",
    "summary_img = [\n",
    "    Document(page_content=summary, metadata={id_key: img_ids[i]}) for i, summary in enumerate(image_summaries)\n",
    "]\n",
    "retriever.vectorstore.add_documents(summary_img)\n",
    "retriever.docstore.mset(list(zip(img_ids, images)))\n",
    "\n",
    "# Generate embeddings for images using a different model (e.g., CLIP)\n",
    "# This is a placeholder function. Replace with actual image embedding logic.\n",
    "def generate_image_embeddings(images):\n",
    "    # Placeholder: Replace with actual image embedding logic\n",
    "    return [[0.0] * 512 for _ in images]  # Example: Dummy embeddings with 512 dimension\n",
    "\n",
    "def pad_image_embeddings(image_embeddings, target_dim=1536):\n",
    "    return [embedding + [0.0] * (target_dim - len(embedding)) for embedding in image_embeddings]\n",
    "\n",
    "\n",
    "\n",
    "# Generate embeddings for images\n",
    "image_embeddings = generate_image_embeddings(images)  # Generate embeddings for images\n",
    "\n",
    "# Pad image embeddings to 1536 dimensions\n",
    "image_embeddings_1536 = pad_image_embeddings(image_embeddings, target_dim=1536)\n",
    "\n",
    "# Store embeddings and metadata in Qdrant for image summaries\n",
    "store_embeddings_in_qdrant(img_ids, image_embeddings_1536, image_summaries, images=images)\n"
   ]
  },
  {
   "cell_type": "markdown",
   "metadata": {},
   "source": [
    "## Chroma (latest)"
   ]
  },
  {
   "cell_type": "code",
   "execution_count": 62,
   "metadata": {
    "scrolled": true
   },
   "outputs": [
    {
     "name": "stdout",
     "output_type": "stream",
     "text": [
      "[Collection(name=multi_modal_rag_testing), Collection(name=multi_modal_rag)]\n",
      "--------------------\n"
     ]
    }
   ],
   "source": [
    "# testing for connectivity to chromadb\n",
    "import chromadb\n",
    "client = chromadb.HttpClient(host=\"chromadb\", port=8000)\n",
    "\n",
    "# Try listing collections or a simple operation\n",
    "print(client.list_collections())\n",
    "\n",
    "print(\"--------------------\")\n",
    "collection = client.get_collection(name=\"multi_modal_rag_testing\")\n",
    "\n",
    "# # Query documents in your collection\n",
    "# results = collection.query(\n",
    "#     query_texts=[\"your query text here\"],  # Or use query_embeddings=\n",
    "#     n_results=5\n",
    "# )\n",
    "\n",
    "# # Print the results\n",
    "# print(\"Query Results:\", results)\n",
    "\n"
   ]
  },
  {
   "cell_type": "code",
   "execution_count": 23,
   "metadata": {
    "collapsed": true,
    "jupyter": {
     "outputs_hidden": true,
     "source_hidden": true
    }
   },
   "outputs": [
    {
     "ename": "ModuleNotFoundError",
     "evalue": "No module named 'sklearn'",
     "output_type": "error",
     "traceback": [
      "\u001b[31m---------------------------------------------------------------------------\u001b[39m",
      "\u001b[31mModuleNotFoundError\u001b[39m                       Traceback (most recent call last)",
      "\u001b[36mCell\u001b[39m\u001b[36m \u001b[39m\u001b[32mIn[23]\u001b[39m\u001b[32m, line 10\u001b[39m\n\u001b[32m      8\u001b[39m \u001b[38;5;28;01mimport\u001b[39;00m\u001b[38;5;250m \u001b[39m\u001b[34;01mchromadb\u001b[39;00m\n\u001b[32m      9\u001b[39m \u001b[38;5;28;01mfrom\u001b[39;00m\u001b[38;5;250m \u001b[39m\u001b[34;01mchromadb\u001b[39;00m\u001b[34;01m.\u001b[39;00m\u001b[34;01mconfig\u001b[39;00m\u001b[38;5;250m \u001b[39m\u001b[38;5;28;01mimport\u001b[39;00m Settings  \u001b[38;5;66;03m# ✅ Import Settings\u001b[39;00m\n\u001b[32m---> \u001b[39m\u001b[32m10\u001b[39m \u001b[38;5;28;01mfrom\u001b[39;00m\u001b[38;5;250m \u001b[39m\u001b[34;01msklearn\u001b[39;00m\u001b[34;01m.\u001b[39;00m\u001b[34;01mdecomposition\u001b[39;00m\u001b[38;5;250m \u001b[39m\u001b[38;5;28;01mimport\u001b[39;00m PCA\n\u001b[32m     12\u001b[39m \u001b[38;5;66;03m# Initialize OpenAI Embeddings\u001b[39;00m\n\u001b[32m     13\u001b[39m embedding_function = OpenAIEmbeddings()\n",
      "\u001b[31mModuleNotFoundError\u001b[39m: No module named 'sklearn'"
     ]
    }
   ],
   "source": [
    "# old function (outdated)\n",
    "import uuid\n",
    "from langchain_openai import OpenAIEmbeddings\n",
    "from langchain_chroma import Chroma\n",
    "from langchain.storage._lc_store import create_kv_docstore\n",
    "from langchain.storage import LocalFileStore\n",
    "from langchain.schema import Document\n",
    "from langchain.retrievers.multi_vector import MultiVectorRetriever\n",
    "import chromadb\n",
    "from chromadb.config import Settings  # ✅ Import Settings\n",
    "from sklearn.decomposition import PCA\n",
    "\n",
    "# Initialize OpenAI Embeddings\n",
    "embedding_function = OpenAIEmbeddings()\n",
    "\n",
    "# ✅ Explicitly connect to the running ChromaDB server\n",
    "chroma_client = chromadb.HttpClient(\n",
    "    host=\"localhost\",  # Docker container name\n",
    "    port=8000\n",
    ")\n",
    "\n",
    "persist_directory = \"./chroma_db\"\n",
    "\n",
    "vectorstore = Chroma(\n",
    "    client=chroma_client,  \n",
    "    collection_name=\"multi_modal_rag_testing\",\n",
    "    embedding_function=embedding_function,\n",
    "    # persist_directory=persist_directory  # ✅ Match Docker volume mount\n",
    ")\n",
    "\n",
    "fs = LocalFileStore(\"./store_document_testing\")\n",
    "docstore = create_kv_docstore(fs)\n",
    "\n",
    "\n",
    "# The storage layer for parent documents\n",
    "id_key = \"doc_id\"\n",
    "\n",
    "# Initialize the retriever\n",
    "retriever = MultiVectorRetriever(\n",
    "    vectorstore=vectorstore,\n",
    "    docstore=docstore,\n",
    "    id_key=id_key,\n",
    "    search_kwargs={\"k\": 4} \n",
    ")\n",
    "\n",
    "# Generate unique document IDs\n",
    "doc_ids = [str(uuid.uuid4()) for _ in texts]\n",
    "img_ids = [str(uuid.uuid4()) for _ in images]\n",
    "\n",
    "# Generate text embeddings\n",
    "def generate_text_embeddings(texts):\n",
    "    return embedding_function.embed_documents(texts)\n",
    "\n",
    "# Store embeddings and metadata in ChromaDB\n",
    "def store_embeddings_in_chroma(doc_ids, embeddings, summaries, texts=None, images=None):\n",
    "    documents = [\n",
    "        Document(\n",
    "            page_content=summary,\n",
    "            metadata={\n",
    "                \"id\": doc_id,\n",
    "                \"text\": text if text is not None else \"\",  # Replace None with \"\"\n",
    "                \"image\": image if image is not None else \"\"  # Replace None with \"\"\n",
    "            }\n",
    "        )\n",
    "        for doc_id, embedding, summary, text, image in zip(\n",
    "            doc_ids, embeddings, summaries,\n",
    "            texts if texts is not None else [\"\"] * len(doc_ids), \n",
    "            images if images is not None else [\"\"] * len(doc_ids)\n",
    "        )\n",
    "    ]\n",
    "\n",
    "    # Store in ChromaDB\n",
    "    vectorstore.add_documents(documents)\n",
    "\n",
    "\n",
    "\n",
    "# Add text summaries to retriever\n",
    "summary_texts = [\n",
    "    Document(page_content=summary, metadata={id_key: doc_ids[i]}) for i, summary in enumerate(text_summaries)\n",
    "]\n",
    "retriever.vectorstore.add_documents(summary_texts)\n",
    "retriever.docstore.mset(list(zip(doc_ids, [Document(page_content=text) for text in texts])))\n",
    "\n",
    "# Generate and store text embeddings\n",
    "text_embeddings = generate_text_embeddings(texts)  \n",
    "\n",
    "store_embeddings_in_chroma(doc_ids, text_embeddings, text_summaries, texts=texts)\n",
    "\n",
    "# Add image summaries to retriever\n",
    "summary_img = [\n",
    "    Document(page_content=summary, metadata={id_key: img_ids[i]}) for i, summary in enumerate(image_summaries)\n",
    "]\n",
    "retriever.vectorstore.add_documents(summary_img)\n",
    "retriever.docstore.mset(list(zip(img_ids, [Document(page_content=image) for image in images])))\n",
    "\n",
    "# Placeholder function for generating image embeddings\n",
    "def generate_image_embeddings(images):\n",
    "    return [[0.0] * 512 for _ in images]  # Example: Dummy embeddings\n",
    "\n",
    "# Ensure image embeddings match required dimensionality\n",
    "def pad_image_embeddings(image_embeddings, target_dim=1536):\n",
    "    return [embedding + [0.0] * (target_dim - len(embedding)) for embedding in image_embeddings]\n",
    "\n",
    "# Generate and store image embeddings\n",
    "image_embeddings = generate_image_embeddings(images)\n",
    "\n",
    "store_embeddings_in_chroma(img_ids, image_embeddings, image_summaries, images=images)\n",
    "\n",
    "print(\"✅ All data (vectors & documents) are now stored in ChromaDB!\")"
   ]
  },
  {
   "cell_type": "code",
   "execution_count": 31,
   "metadata": {},
   "outputs": [],
   "source": [
    "# Initialize OpenAI Embeddings\n",
    "embedding_function = OpenAIEmbeddings()\n",
    "\n",
    "chroma_client = chromadb.HttpClient(\n",
    "    host=\"chromadb\",  # Docker container name\n",
    "    port=8000\n",
    ")\n",
    "\n",
    "persist_directory = \"./chroma_db\"\n",
    "\n",
    "vectorstore = Chroma(\n",
    "    client=chroma_client,  \n",
    "    collection_name=\"multi_modal_rag_testing\",\n",
    "    embedding_function=embedding_function,\n",
    "    # persist_directory=persist_directory  # ✅ Match Docker volume mount\n",
    ")\n",
    "\n",
    "fs = LocalFileStore(\"./store_document\")\n",
    "docstore = create_kv_docstore(fs)\n",
    "\n",
    "\n",
    "# The storage layer for parent documents\n",
    "id_key = \"doc_id\"\n",
    "\n",
    "# Initialize the retriever\n",
    "retriever = MultiVectorRetriever(\n",
    "    vectorstore=vectorstore,\n",
    "    docstore=docstore,\n",
    "    id_key=id_key,\n",
    "    search_kwargs={\"k\": 4} \n",
    ")\n",
    "\n",
    "\n",
    "# Add texts\n",
    "doc_ids = [str(uuid.uuid4()) for _ in texts]\n",
    "summary_texts = [\n",
    "    Document(page_content=summary, metadata={id_key: doc_ids[i]}) for i, summary in enumerate(text_summaries)\n",
    "]\n",
    "retriever.vectorstore.add_documents(summary_texts)\n",
    "documents = [Document(page_content=text, metadata={id_key: doc_id}) for doc_id, text in zip(doc_ids, texts)]\n",
    "retriever.docstore.mset(list(zip(doc_ids, documents)))\n",
    "\n",
    "# # Add tables\n",
    "# table_ids = [str(uuid.uuid4()) for _ in tables]\n",
    "# summary_tables = [\n",
    "#     Document(page_content=summary, metadata={id_key: table_ids[i]}) for i, summary in enumerate(table_summaries)\n",
    "# ]\n",
    "# retriever.vectorstore.add_documents(summary_tables)\n",
    "# retriever.docstore.mset(list(zip(table_ids, tables)))\n",
    "\n",
    "# Add image summaries\n",
    "img_ids = [str(uuid.uuid4()) for _ in images]\n",
    "summary_img = [\n",
    "    Document(page_content=summary, metadata={id_key: img_ids[i]}) for i, summary in enumerate(image_summaries)\n",
    "]\n",
    "retriever.vectorstore.add_documents(summary_img)\n",
    "image_documents = [Document(page_content=image, metadata={id_key: img_id}) for img_id, image in zip(img_ids, images)]\n",
    "retriever.docstore.mset(list(zip(img_ids, image_documents)))"
   ]
  },
  {
   "cell_type": "code",
   "execution_count": 54,
   "metadata": {
    "scrolled": true
   },
   "outputs": [
    {
     "name": "stdout",
     "output_type": "stream",
     "text": [
      "Number of retrieved documents: 4\n",
      "Document ID: 67733e96-ce69-4952-a274-5262e60eb4bd\n",
      "Content: /9j/4AAQSkZJRgABAQAAAQABAAD/2wBDAAgGBgcGBQgHBwcJCQgKDBQNDAsLDBkSEw8UHRofHh0aHBwgJC4nICIsIxwcKDcpLDAxNDQ0Hyc5PTgyPC4zNDL/2wBDAQkJCQwLDBgNDRgyIRwhMjIyMjIyMjIyMjIyMjIyMjIyMjIyMjIyMjIyMjIyMjIyMjIyMjIyMjIy...\n",
      "--------------------------------------------------------------------------------\n",
      "Document ID: 43da5c39-3796-4006-94c4-05be7a531cdf\n",
      "Content: e\n",
      "\n",
      "e Use it too often, and one day, you will never return from the shadows.\n",
      "\n",
      "e The cloak occasionally tightens on its own, as if reluctant to let go.\n",
      "\n",
      "e 600 SGD\n",
      "\n",
      "Shadow Cloak (Cursed Edition)\n",
      "\n",
      "Hourgla...\n",
      "--------------------------------------------------------------------------------\n",
      "Document ID: f4671d45-fda5-4f96-896a-eb06af4d40b8\n",
      "Content: another nearby.\n",
      "\n",
      "e Occasionally, whispers from unseen figures are heard when worn.\n",
      "\n",
      "3,000 SGD\n",
      "\n",
      "Aad\n",
      "\n",
      "Shadow Cloak\n",
      "\n",
      "Shadow Cloak (Standard Edition)\n",
      "\n",
      "Shadow Cloak (Limited Edition)\n",
      "\n",
      "e A Purple cloak.\n",
      "\n",
      "Gr...\n",
      "--------------------------------------------------------------------------------\n",
      "Document ID: e8205d4a-ccb9-488d-869d-87381836f736\n",
      "Content: e\n",
      "\n",
      "e The glass is unnervingly warm, like something is breathing inside.\n",
      "\n",
      "e 200 SGD\n",
      "\n",
      "Shadow Cloak (Standard Edition)\n",
      "\n",
      "e A midnight-black cloak woven from woven void-silk, cold to the touch.\n",
      "\n",
      "e Wrap it ...\n",
      "--------------------------------------------------------------------------------\n"
     ]
    }
   ],
   "source": [
    "# # Check number of vectors in the collection\n",
    "# num_vectors = vectorstore._collection.count()\n",
    "# print(f\"Number of vectors in ChromaDB collection: {num_vectors}\")\n",
    "\n",
    "# # Get all document IDs stored in the docstore\n",
    "# doc_ids = list(docstore.yield_keys())\n",
    "\n",
    "# # Print document count and a preview of some IDs\n",
    "# print(f\"Number of documents in docstore: {len(doc_ids)}\")\n",
    "# print(\"Sample document IDs:\", doc_ids[:5])  # Show first 5 document IDs\n",
    "\n",
    "retrieved_docs = retriever.invoke(\"what does Shadow Cloak (Cursed Edition) look like\")\n",
    "\n",
    "print(f\"Number of retrieved documents: {len(retrieved_docs)}\")\n",
    "# print(dir(retrieved_docs[2]))\n",
    "for doc in retrieved_docs:\n",
    "    print(f\"Document ID: {doc.metadata.get(id_key, 'Unknown')}\")\n",
    "    print(f\"Content: {doc.page_content[:200]}...\")  # Print first 200 characters\n",
    "    print(\"-\" * 80)\n"
   ]
  },
  {
   "cell_type": "code",
   "execution_count": 36,
   "metadata": {
    "collapsed": true,
    "jupyter": {
     "outputs_hidden": true,
     "source_hidden": true
    }
   },
   "outputs": [
    {
     "ename": "AttributeError",
     "evalue": "'Client' object has no attribute 'query'",
     "output_type": "error",
     "traceback": [
      "\u001b[31m---------------------------------------------------------------------------\u001b[39m",
      "\u001b[31mAttributeError\u001b[39m                            Traceback (most recent call last)",
      "\u001b[36mCell\u001b[39m\u001b[36m \u001b[39m\u001b[32mIn[36]\u001b[39m\u001b[32m, line 4\u001b[39m\n\u001b[32m      1\u001b[39m chroma_client = chromadb.Client()\n\u001b[32m      3\u001b[39m \u001b[38;5;66;03m# Query documents in your collection\u001b[39;00m\n\u001b[32m----> \u001b[39m\u001b[32m4\u001b[39m results = \u001b[43mchroma_client\u001b[49m\u001b[43m.\u001b[49m\u001b[43mquery\u001b[49m(\n\u001b[32m      5\u001b[39m     collection_name=\u001b[33m\"\u001b[39m\u001b[33mmulti_modal_rag_testing\u001b[39m\u001b[33m\"\u001b[39m,\n\u001b[32m      6\u001b[39m     query_embeddings=\u001b[38;5;28;01mNone\u001b[39;00m,  \u001b[38;5;66;03m# Optional: you can provide query embeddings if you want to filter based on similarity\u001b[39;00m\n\u001b[32m      7\u001b[39m     n_results=\u001b[32m5\u001b[39m  \u001b[38;5;66;03m# Number of results you want to retrieve\u001b[39;00m\n\u001b[32m      8\u001b[39m )\n\u001b[32m     10\u001b[39m \u001b[38;5;66;03m# Print the results\u001b[39;00m\n\u001b[32m     11\u001b[39m \u001b[38;5;28mprint\u001b[39m(\u001b[33m\"\u001b[39m\u001b[33mQuery Results:\u001b[39m\u001b[33m\"\u001b[39m, results)\n",
      "\u001b[31mAttributeError\u001b[39m: 'Client' object has no attribute 'query'"
     ]
    }
   ],
   "source": [
    "chroma_client = chromadb.Client()\n",
    "\n",
    "# Query documents in your collection\n",
    "results = chroma_client.query(\n",
    "    collection_name=\"multi_modal_rag_testing\",\n",
    "    query_embeddings=None,  # Optional: you can provide query embeddings if you want to filter based on similarity\n",
    "    n_results=5  # Number of results you want to retrieve\n",
    ")\n",
    "\n",
    "# Print the results\n",
    "print(\"Query Results:\", results)"
   ]
  },
  {
   "cell_type": "markdown",
   "metadata": {},
   "source": [
    "## RAG pipeline"
   ]
  },
  {
   "cell_type": "code",
   "execution_count": 67,
   "metadata": {
    "scrolled": true
   },
   "outputs": [
    {
     "name": "stdout",
     "output_type": "stream",
     "text": [
      "Response: The most expensive item in the shop is the ChronoLens Camera (Limited Edition), priced at 3,500 SGD.\n",
      "\n",
      "\n",
      "Context:\n"
     ]
    }
   ],
   "source": [
    "from langchain_core.runnables import RunnablePassthrough, RunnableLambda\n",
    "from langchain_openai import ChatOpenAI\n",
    "from langchain.schema import SystemMessage, HumanMessage\n",
    "from langchain_core.output_parsers import StrOutputParser\n",
    "from langchain.prompts import ChatPromptTemplate\n",
    "from base64 import b64decode\n",
    "\n",
    "\n",
    "# Helper functions\n",
    "def is_base64(s):\n",
    "    try:\n",
    "        return base64.b64encode(base64.b64decode(s)).decode() == s\n",
    "    except Exception:\n",
    "        return False\n",
    "\n",
    "def parse_docs(docs):\n",
    "    b64 = []\n",
    "    text = []\n",
    "    for doc in docs:\n",
    "        if isinstance(doc.page_content, str) and is_base64(doc.page_content):\n",
    "            b64.append(doc.page_content)\n",
    "        else:\n",
    "            text.append(doc.page_content)\n",
    "    return {\"images\": b64, \"texts\": text}\n",
    "\n",
    "\n",
    "def build_prompt(kwargs):\n",
    "    docs_by_type = kwargs[\"context\"]\n",
    "    user_question = kwargs[\"question\"]\n",
    "    context_text = \"\\n\".join(docs_by_type[\"texts\"])\n",
    "    prompt_template = f\"\"\"\n",
    "    Answer the question based only on the following context.\n",
    "    Context: {context_text}\n",
    "    Question: {user_question}\n",
    "    \"\"\"\n",
    "    prompt_content = [{\"type\": \"text\", \"text\": prompt_template}]\n",
    "    if len(docs_by_type[\"images\"]) > 0:\n",
    "        for image in docs_by_type[\"images\"]:\n",
    "            prompt_content.append(\n",
    "                {\"type\": \"image_url\", \"image_url\": {\"url\": f\"data:image/jpeg;base64,{image}\"}}\n",
    "            )\n",
    "    return ChatPromptTemplate.from_messages([HumanMessage(content=prompt_content)])\n",
    "\n",
    "\n",
    "# Define RAG pipeline\n",
    "chain_with_sources = {\n",
    "    \"context\": retriever | RunnableLambda(parse_docs),\n",
    "    \"question\": RunnablePassthrough(),\n",
    "} | RunnablePassthrough().assign(\n",
    "    response=(RunnableLambda(build_prompt) | ChatOpenAI(model=\"gpt-4o-mini\") | StrOutputParser())\n",
    ")\n",
    "\n",
    "\n",
    "response = chain_with_sources.invoke(\n",
    "    \"what is the most expensive item in the shop\"\n",
    ")\n",
    "# print(\"Response:\", response)\n",
    "\n",
    "\n",
    "print(\"Response:\", response['response'])\n",
    "\n",
    "print(\"\\n\\nContext:\")\n",
    "# for text in response['context']['texts']:\n",
    "#     print(text.text)\n",
    "#     print(\"Page number: \", text.metadata.page_number)\n",
    "#     print(\"\\n\" + \"-\"*50 + \"\\n\")\n",
    "for image in response['context']['images']:\n",
    "    display_base64_image(image)"
   ]
  },
  {
   "cell_type": "markdown",
   "metadata": {},
   "source": [
    "### Check retrieval"
   ]
  },
  {
   "cell_type": "code",
   "execution_count": 55,
   "metadata": {
    "collapsed": true,
    "jupyter": {
     "outputs_hidden": true,
     "source_hidden": true
    },
    "scrolled": true
   },
   "outputs": [
    {
     "name": "stdout",
     "output_type": "stream",
     "text": [
      "page_content='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' metadata={'doc_id': '21dc69a1-ad5f-4700-be24-46f39f8717f4'}\n",
      "\n",
      "--------------------------------------------------------------------------------\n",
      "page_content='e Ifthe photo develops in red hues, you have witnessed a moment fated to change your life forever.\n",
      "\n",
      "e The camera occasionally trembles in your hands, as if resisting the secrets it reveals.\n",
      "\n",
      "e 3,500SGD\n",
      "\n",
      "ChronoLens Camera (Limited Edition)\n",
      "\n",
      "ChronoLens Camera (Limited Edition)' metadata={'doc_id': 'fbf72d2e-23be-441b-8d1d-6de1c541fb18'}\n",
      "\n",
      "--------------------------------------------------------------------------------\n",
      "page_content='ChronoLens Camera (Cursed Edition)\n",
      "\n",
      "Every photograph contains a shadowy figure, lurking somewhere in the frame.\n",
      "\n",
      "Each time you use it, the figure appears closer to you in the next photo.\n",
      "\n",
      "The lens sometimes fogs up with an eerie breath, even when untouched. 500 SGD\n",
      "\n",
      "500 SGD\n",
      "\n",
      "U Q C F instax' metadata={'doc_id': '60aba232-b4fa-474f-85ac-8b5175c05129'}\n",
      "\n",
      "--------------------------------------------------------------------------------\n",
      "page_content='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' metadata={'doc_id': '2df7b6d8-96f9-4b7c-a471-ced9d7fc67a5'}\n",
      "\n",
      "--------------------------------------------------------------------------------\n"
     ]
    }
   ],
   "source": [
    "# Retrieve\n",
    "docs = retriever.invoke(\n",
    "    \"what is the picture of ChronoLens Camera (Limited Edi􀆟on)\"\n",
    ")\n",
    "\n",
    "for doc in docs:\n",
    "    print(str(doc) + \"\\n\\n\" + \"-\" * 80)"
   ]
  },
  {
   "cell_type": "code",
   "execution_count": 39,
   "metadata": {},
   "outputs": [
    {
     "data": {
      "text/plain": [
       "4"
      ]
     },
     "execution_count": 39,
     "metadata": {},
     "output_type": "execute_result"
    }
   ],
   "source": [
    "len(docs)"
   ]
  },
  {
   "cell_type": "code",
   "execution_count": 56,
   "metadata": {
    "scrolled": true
   },
   "outputs": [
    {
     "ename": "TypeError",
     "evalue": "can only concatenate str (not \"Document\") to str",
     "output_type": "error",
     "traceback": [
      "\u001b[31m---------------------------------------------------------------------------\u001b[39m",
      "\u001b[31mTypeError\u001b[39m                                 Traceback (most recent call last)",
      "\u001b[36mCell\u001b[39m\u001b[36m \u001b[39m\u001b[32mIn[56]\u001b[39m\u001b[32m, line 1\u001b[39m\n\u001b[32m----> \u001b[39m\u001b[32m1\u001b[39m response = \u001b[43mchain\u001b[49m\u001b[43m.\u001b[49m\u001b[43minvoke\u001b[49m\u001b[43m(\u001b[49m\n\u001b[32m      2\u001b[39m \u001b[43m    \u001b[49m\u001b[33;43m\"\u001b[39;49m\u001b[33;43mwhat is the picture of ChronoLens Camera (Limited Edi􀆟on)\u001b[39;49m\u001b[33;43m\"\u001b[39;49m\n\u001b[32m      3\u001b[39m \u001b[43m)\u001b[49m\n\u001b[32m      5\u001b[39m \u001b[38;5;28mprint\u001b[39m(response)\n",
      "\u001b[36mFile \u001b[39m\u001b[32m/usr/local/lib/python3.11/site-packages/langchain_core/runnables/base.py:3034\u001b[39m, in \u001b[36mRunnableSequence.invoke\u001b[39m\u001b[34m(self, input, config, **kwargs)\u001b[39m\n\u001b[32m   3032\u001b[39m                 \u001b[38;5;28minput\u001b[39m = context.run(step.invoke, \u001b[38;5;28minput\u001b[39m, config, **kwargs)\n\u001b[32m   3033\u001b[39m             \u001b[38;5;28;01melse\u001b[39;00m:\n\u001b[32m-> \u001b[39m\u001b[32m3034\u001b[39m                 \u001b[38;5;28minput\u001b[39m = context.run(step.invoke, \u001b[38;5;28minput\u001b[39m, config)\n\u001b[32m   3035\u001b[39m \u001b[38;5;66;03m# finish the root run\u001b[39;00m\n\u001b[32m   3036\u001b[39m \u001b[38;5;28;01mexcept\u001b[39;00m \u001b[38;5;167;01mBaseException\u001b[39;00m \u001b[38;5;28;01mas\u001b[39;00m e:\n",
      "\u001b[36mFile \u001b[39m\u001b[32m/usr/local/lib/python3.11/site-packages/langchain_core/runnables/base.py:4757\u001b[39m, in \u001b[36mRunnableLambda.invoke\u001b[39m\u001b[34m(self, input, config, **kwargs)\u001b[39m\n\u001b[32m   4743\u001b[39m \u001b[38;5;250m\u001b[39m\u001b[33;03m\"\"\"Invoke this Runnable synchronously.\u001b[39;00m\n\u001b[32m   4744\u001b[39m \n\u001b[32m   4745\u001b[39m \u001b[33;03mArgs:\u001b[39;00m\n\u001b[32m   (...)\u001b[39m\u001b[32m   4754\u001b[39m \u001b[33;03m    TypeError: If the Runnable is a coroutine function.\u001b[39;00m\n\u001b[32m   4755\u001b[39m \u001b[33;03m\"\"\"\u001b[39;00m\n\u001b[32m   4756\u001b[39m \u001b[38;5;28;01mif\u001b[39;00m \u001b[38;5;28mhasattr\u001b[39m(\u001b[38;5;28mself\u001b[39m, \u001b[33m\"\u001b[39m\u001b[33mfunc\u001b[39m\u001b[33m\"\u001b[39m):\n\u001b[32m-> \u001b[39m\u001b[32m4757\u001b[39m     \u001b[38;5;28;01mreturn\u001b[39;00m \u001b[38;5;28;43mself\u001b[39;49m\u001b[43m.\u001b[49m\u001b[43m_call_with_config\u001b[49m\u001b[43m(\u001b[49m\n\u001b[32m   4758\u001b[39m \u001b[43m        \u001b[49m\u001b[38;5;28;43mself\u001b[39;49m\u001b[43m.\u001b[49m\u001b[43m_invoke\u001b[49m\u001b[43m,\u001b[49m\n\u001b[32m   4759\u001b[39m \u001b[43m        \u001b[49m\u001b[38;5;28;43minput\u001b[39;49m\u001b[43m,\u001b[49m\n\u001b[32m   4760\u001b[39m \u001b[43m        \u001b[49m\u001b[43mensure_config\u001b[49m\u001b[43m(\u001b[49m\u001b[43mconfig\u001b[49m\u001b[43m)\u001b[49m\u001b[43m,\u001b[49m\n\u001b[32m   4761\u001b[39m \u001b[43m        \u001b[49m\u001b[43m*\u001b[49m\u001b[43m*\u001b[49m\u001b[43mkwargs\u001b[49m\u001b[43m,\u001b[49m\n\u001b[32m   4762\u001b[39m \u001b[43m    \u001b[49m\u001b[43m)\u001b[49m\n\u001b[32m   4763\u001b[39m msg = \u001b[33m\"\u001b[39m\u001b[33mCannot invoke a coroutine function synchronously.Use `ainvoke` instead.\u001b[39m\u001b[33m\"\u001b[39m\n\u001b[32m   4764\u001b[39m \u001b[38;5;28;01mraise\u001b[39;00m \u001b[38;5;167;01mTypeError\u001b[39;00m(msg)\n",
      "\u001b[36mFile \u001b[39m\u001b[32m/usr/local/lib/python3.11/site-packages/langchain_core/runnables/base.py:1930\u001b[39m, in \u001b[36mRunnable._call_with_config\u001b[39m\u001b[34m(self, func, input, config, run_type, serialized, **kwargs)\u001b[39m\n\u001b[32m   1926\u001b[39m     child_config = patch_config(config, callbacks=run_manager.get_child())\n\u001b[32m   1927\u001b[39m     \u001b[38;5;28;01mwith\u001b[39;00m set_config_context(child_config) \u001b[38;5;28;01mas\u001b[39;00m context:\n\u001b[32m   1928\u001b[39m         output = cast(\n\u001b[32m   1929\u001b[39m             \u001b[33m\"\u001b[39m\u001b[33mOutput\u001b[39m\u001b[33m\"\u001b[39m,\n\u001b[32m-> \u001b[39m\u001b[32m1930\u001b[39m             \u001b[43mcontext\u001b[49m\u001b[43m.\u001b[49m\u001b[43mrun\u001b[49m\u001b[43m(\u001b[49m\n\u001b[32m   1931\u001b[39m \u001b[43m                \u001b[49m\u001b[43mcall_func_with_variable_args\u001b[49m\u001b[43m,\u001b[49m\u001b[43m  \u001b[49m\u001b[38;5;66;43;03m# type: ignore[arg-type]\u001b[39;49;00m\n\u001b[32m   1932\u001b[39m \u001b[43m                \u001b[49m\u001b[43mfunc\u001b[49m\u001b[43m,\u001b[49m\n\u001b[32m   1933\u001b[39m \u001b[43m                \u001b[49m\u001b[38;5;28;43minput\u001b[39;49m\u001b[43m,\u001b[49m\n\u001b[32m   1934\u001b[39m \u001b[43m                \u001b[49m\u001b[43mconfig\u001b[49m\u001b[43m,\u001b[49m\n\u001b[32m   1935\u001b[39m \u001b[43m                \u001b[49m\u001b[43mrun_manager\u001b[49m\u001b[43m,\u001b[49m\n\u001b[32m   1936\u001b[39m \u001b[43m                \u001b[49m\u001b[43m*\u001b[49m\u001b[43m*\u001b[49m\u001b[43mkwargs\u001b[49m\u001b[43m,\u001b[49m\n\u001b[32m   1937\u001b[39m \u001b[43m            \u001b[49m\u001b[43m)\u001b[49m,\n\u001b[32m   1938\u001b[39m         )\n\u001b[32m   1939\u001b[39m \u001b[38;5;28;01mexcept\u001b[39;00m \u001b[38;5;167;01mBaseException\u001b[39;00m \u001b[38;5;28;01mas\u001b[39;00m e:\n\u001b[32m   1940\u001b[39m     run_manager.on_chain_error(e)\n",
      "\u001b[36mFile \u001b[39m\u001b[32m/usr/local/lib/python3.11/site-packages/langchain_core/runnables/config.py:428\u001b[39m, in \u001b[36mcall_func_with_variable_args\u001b[39m\u001b[34m(func, input, config, run_manager, **kwargs)\u001b[39m\n\u001b[32m    426\u001b[39m \u001b[38;5;28;01mif\u001b[39;00m run_manager \u001b[38;5;129;01mis\u001b[39;00m \u001b[38;5;129;01mnot\u001b[39;00m \u001b[38;5;28;01mNone\u001b[39;00m \u001b[38;5;129;01mand\u001b[39;00m accepts_run_manager(func):\n\u001b[32m    427\u001b[39m     kwargs[\u001b[33m\"\u001b[39m\u001b[33mrun_manager\u001b[39m\u001b[33m\"\u001b[39m] = run_manager\n\u001b[32m--> \u001b[39m\u001b[32m428\u001b[39m \u001b[38;5;28;01mreturn\u001b[39;00m \u001b[43mfunc\u001b[49m\u001b[43m(\u001b[49m\u001b[38;5;28;43minput\u001b[39;49m\u001b[43m,\u001b[49m\u001b[43m \u001b[49m\u001b[43m*\u001b[49m\u001b[43m*\u001b[49m\u001b[43mkwargs\u001b[49m\u001b[43m)\u001b[49m\n",
      "\u001b[36mFile \u001b[39m\u001b[32m/usr/local/lib/python3.11/site-packages/langchain_core/runnables/base.py:4615\u001b[39m, in \u001b[36mRunnableLambda._invoke\u001b[39m\u001b[34m(self, input, run_manager, config, **kwargs)\u001b[39m\n\u001b[32m   4613\u001b[39m                 output = chunk\n\u001b[32m   4614\u001b[39m \u001b[38;5;28;01melse\u001b[39;00m:\n\u001b[32m-> \u001b[39m\u001b[32m4615\u001b[39m     output = \u001b[43mcall_func_with_variable_args\u001b[49m\u001b[43m(\u001b[49m\n\u001b[32m   4616\u001b[39m \u001b[43m        \u001b[49m\u001b[38;5;28;43mself\u001b[39;49m\u001b[43m.\u001b[49m\u001b[43mfunc\u001b[49m\u001b[43m,\u001b[49m\u001b[43m \u001b[49m\u001b[38;5;28;43minput\u001b[39;49m\u001b[43m,\u001b[49m\u001b[43m \u001b[49m\u001b[43mconfig\u001b[49m\u001b[43m,\u001b[49m\u001b[43m \u001b[49m\u001b[43mrun_manager\u001b[49m\u001b[43m,\u001b[49m\u001b[43m \u001b[49m\u001b[43m*\u001b[49m\u001b[43m*\u001b[49m\u001b[43mkwargs\u001b[49m\n\u001b[32m   4617\u001b[39m \u001b[43m    \u001b[49m\u001b[43m)\u001b[49m\n\u001b[32m   4618\u001b[39m \u001b[38;5;66;03m# If the output is a Runnable, invoke it\u001b[39;00m\n\u001b[32m   4619\u001b[39m \u001b[38;5;28;01mif\u001b[39;00m \u001b[38;5;28misinstance\u001b[39m(output, Runnable):\n",
      "\u001b[36mFile \u001b[39m\u001b[32m/usr/local/lib/python3.11/site-packages/langchain_core/runnables/config.py:428\u001b[39m, in \u001b[36mcall_func_with_variable_args\u001b[39m\u001b[34m(func, input, config, run_manager, **kwargs)\u001b[39m\n\u001b[32m    426\u001b[39m \u001b[38;5;28;01mif\u001b[39;00m run_manager \u001b[38;5;129;01mis\u001b[39;00m \u001b[38;5;129;01mnot\u001b[39;00m \u001b[38;5;28;01mNone\u001b[39;00m \u001b[38;5;129;01mand\u001b[39;00m accepts_run_manager(func):\n\u001b[32m    427\u001b[39m     kwargs[\u001b[33m\"\u001b[39m\u001b[33mrun_manager\u001b[39m\u001b[33m\"\u001b[39m] = run_manager\n\u001b[32m--> \u001b[39m\u001b[32m428\u001b[39m \u001b[38;5;28;01mreturn\u001b[39;00m \u001b[43mfunc\u001b[49m\u001b[43m(\u001b[49m\u001b[38;5;28;43minput\u001b[39;49m\u001b[43m,\u001b[49m\u001b[43m \u001b[49m\u001b[43m*\u001b[49m\u001b[43m*\u001b[49m\u001b[43mkwargs\u001b[49m\u001b[43m)\u001b[49m\n",
      "\u001b[36mCell\u001b[39m\u001b[36m \u001b[39m\u001b[32mIn[40]\u001b[39m\u001b[32m, line 28\u001b[39m, in \u001b[36mbuild_prompt\u001b[39m\u001b[34m(kwargs)\u001b[39m\n\u001b[32m     26\u001b[39m \u001b[38;5;28;01mif\u001b[39;00m \u001b[38;5;28mlen\u001b[39m(docs_by_type[\u001b[33m\"\u001b[39m\u001b[33mtexts\u001b[39m\u001b[33m\"\u001b[39m]) > \u001b[32m0\u001b[39m:\n\u001b[32m     27\u001b[39m     \u001b[38;5;28;01mfor\u001b[39;00m text_element \u001b[38;5;129;01min\u001b[39;00m docs_by_type[\u001b[33m\"\u001b[39m\u001b[33mtexts\u001b[39m\u001b[33m\"\u001b[39m]:\n\u001b[32m---> \u001b[39m\u001b[32m28\u001b[39m         \u001b[43mcontext_text\u001b[49m\u001b[43m \u001b[49m\u001b[43m+\u001b[49m\u001b[43m=\u001b[49m\u001b[43m \u001b[49m\u001b[43mtext_element\u001b[49m  \u001b[38;5;66;03m# Assuming it's an object with `.text`\u001b[39;00m\n\u001b[32m     30\u001b[39m \u001b[38;5;66;03m# construct prompt with context (including images)\u001b[39;00m\n\u001b[32m     31\u001b[39m prompt_template = \u001b[33mf\u001b[39m\u001b[33m\"\"\"\u001b[39m\n\u001b[32m     32\u001b[39m \u001b[33mAnswer the question based only on the following context, which can include text, tables, and the below image.\u001b[39m\n\u001b[32m     33\u001b[39m \u001b[33mContext: \u001b[39m\u001b[38;5;132;01m{\u001b[39;00mcontext_text\u001b[38;5;132;01m}\u001b[39;00m\n\u001b[32m     34\u001b[39m \u001b[33mQuestion: \u001b[39m\u001b[38;5;132;01m{\u001b[39;00muser_question\u001b[38;5;132;01m}\u001b[39;00m\n\u001b[32m     35\u001b[39m \u001b[33m\u001b[39m\u001b[33m\"\"\"\u001b[39m\n",
      "\u001b[31mTypeError\u001b[39m: can only concatenate str (not \"Document\") to str"
     ]
    }
   ],
   "source": [
    "response = chain.invoke(\n",
    "    \"what is the picture of ChronoLens Camera (Limited Edi􀆟on)\"\n",
    ")\n",
    "\n",
    "print(response)"
   ]
  },
  {
   "cell_type": "code",
   "execution_count": 48,
   "metadata": {},
   "outputs": [
    {
     "name": "stdout",
     "output_type": "stream",
     "text": [
      "Response: The picture of the ChronoLens Camera (Limited Edition) is not provided in the context. It describes the camera features and pricing but does not include a visual representation or description of the image itself. The context highlights that this camera has a price of 3,500 SGD and mentions its potential to change your life forever along with a sense of mystery surrounding it.\n",
      "\n",
      "\n",
      "Context:\n"
     ]
    }
   ],
   "source": [
    "response = chain_with_sources.invoke(\"what is the picture of ChronoLens Camera (Limited Edi􀆟on)\")\n",
    "\n",
    "\n",
    "print(\"Response:\", response['response'])\n",
    "\n",
    "print(\"\\n\\nContext:\")\n",
    "# for text in response['context']['texts']:\n",
    "#     print(text.text)\n",
    "#     print(\"Page number: \", text.metadata.page_number)\n",
    "#     print(\"\\n\" + \"-\"*50 + \"\\n\")\n",
    "for image in response['context']['images']:\n",
    "    display_base64_image(image)"
   ]
  },
  {
   "cell_type": "code",
   "execution_count": 43,
   "metadata": {},
   "outputs": [
    {
     "data": {
      "text/plain": [
       "[Document(id='614a5a92-09e7-4e8c-948e-c49d4dddad99', metadata={'doc_id': '49071dbf-53bd-4426-a78a-2cd53ffc728c'}, page_content=\"The Wonderful Oddities Shop, a mysterious store in a forgotten alley, sells rare magical artifacts with secrets and potential curses, each with its own story that may alter the buyer's life.\"),\n",
       " Document(id='ff61446b-0f48-4b9b-baa9-8fae44341ebb', metadata={'doc_id': 'b2897883-f420-45ae-8837-4f3d4a02f9c4'}, page_content='The Wonderful Oddities Shop is home to \"The Oddities Collection\", a unique and fascinating accumulation of strange and unusual items.'),\n",
       " Document(id='cf564e6d-fa85-480c-bab5-ed4094b64424', metadata={'doc_id': 'f4671d45-fda5-4f96-896a-eb06af4d40b8'}, page_content='The Shadow Cloak is a clothing item that grants 13 minutes of true invisibility per night, available in standard and limited editions, priced at 3,000 SGD.'),\n",
       " Document(id='7103fcb5-fd4c-4096-8180-0d35c4102cca', metadata={'doc_id': '6d174030-d379-45ef-857c-ea55e4e65245'}, page_content=\"A mysterious vial containing an unknown substance is trying to escape, while a Whispering Quill, made from an unknown bird's feather, has ink that never runs dry, available for 100 SGD.\")]"
      ]
     },
     "execution_count": 43,
     "metadata": {},
     "output_type": "execute_result"
    }
   ],
   "source": [
    "vectorstore.similarity_search(\"what is the shop name?\")"
   ]
  },
  {
   "cell_type": "code",
   "execution_count": null,
   "metadata": {},
   "outputs": [],
   "source": []
  }
 ],
 "metadata": {
  "kernelspec": {
   "display_name": "Python 3 (ipykernel)",
   "language": "python",
   "name": "python3"
  },
  "language_info": {
   "codemirror_mode": {
    "name": "ipython",
    "version": 3
   },
   "file_extension": ".py",
   "mimetype": "text/x-python",
   "name": "python",
   "nbconvert_exporter": "python",
   "pygments_lexer": "ipython3",
   "version": "3.11.9"
  }
 },
 "nbformat": 4,
 "nbformat_minor": 4
}
