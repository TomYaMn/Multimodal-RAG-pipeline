{
 "cells": [
  {
   "cell_type": "code",
   "execution_count": null,
   "metadata": {},
   "outputs": [],
   "source": [
    "%pip install -Uq \"unstructured[pdf]\" pillow lxml\n",
    "%pip install -Uq chromadb tiktoken\n",
    "%pip install -Uq langchain langchain-community langchain-openai langchain-groq\n",
    "%pip install -Uq python_dotenv\n",
    "%pip install unstructured"
   ]
  },
  {
   "cell_type": "code",
   "execution_count": null,
   "metadata": {},
   "outputs": [],
   "source": [
    "import os\n",
    "\n",
    "# keys for the services we will use\n",
    "\n",
    "os.environ[\"OPENAI_API_KEY\"] = \"sk-...\"\n",
    "os.environ[\"GROQ_API_KEY\"] = \"sk-...\"\n",
    "os.environ[\"LANGCHAIN_API_KEY\"] = \"sk-...\"\n",
    "os.environ[\"LANGCHAIN_TRACING_V2\"] = \"true\""
   ]
  },
  {
   "cell_type": "code",
   "execution_count": 1,
   "metadata": {},
   "outputs": [
    {
     "data": {
      "text/plain": [
       "True"
      ]
     },
     "execution_count": 1,
     "metadata": {},
     "output_type": "execute_result"
    }
   ],
   "source": [
    "from dotenv import load_dotenv\n",
    "\n",
    "load_dotenv()"
   ]
  },
  {
   "cell_type": "code",
   "execution_count": null,
   "metadata": {},
   "outputs": [],
   "source": [
    "output_path = \"./content/\"\n",
    "# file_path = output_path + 'attention.pdf'\n",
    "file_path = output_path + 'product.pdf'\n",
    "print(file_path)"
   ]
  },
  {
   "cell_type": "markdown",
   "metadata": {},
   "source": [
    "## Extract the data\n",
    "\n",
    "Extract the elements of the PDF that we will be able to use in the retrieval process. These elements can be: Text, Images, Tables, etc."
   ]
  },
  {
   "cell_type": "code",
   "execution_count": 2,
   "metadata": {},
   "outputs": [
    {
     "name": "stdout",
     "output_type": "stream",
     "text": [
      "Wonderful Oddities Shop - The Oddities\n",
      "\n",
      "Collection\n",
      "Step into the Wonderful Oddities Shop, a place where the mysterious and the enchanted intertwine. Tucked away in a forgotten alley, this shop offers rare artifacts imbued with magic, each carrying its own secrets and curses. Browse with caution—every item has a story, and some may change yours\n",
      "forever.\n",
      "ChronoLens Camera (Standard Edi�on)\n",
      "\n",
      "• A beautifully aged polaroid camera wrapped in cracked leather, its buttons cold to the touch.\n",
      "\n",
      "• When you take a picture, the film develops into a moment in time—not the present, but either past or future.\n",
      "• A faint humming sound echoes before the image reveals itself.\n",
      "\n",
      "• 2,000 SGD\n",
      "\n",
      "| ChronoLens Camera (Standard Edition)\n",
      "\n",
      "ChronoLens Camera (Standard Edition)\n",
      "\n",
      "ChronoLens Camera (Limited Edi�on)\n",
      "\n",
      "• Prints moving ghostly images—a scene unfolding before your eyes.\n",
      "• If the photo develops in red hues, you have witnessed a moment fated to change your life forever.\n",
      "\n",
      "• The camera occasionally trembles in your hands, as if resisting the secrets it reveals.\n",
      "\n",
      "• 3,500 SGD\n",
      "\n",
      "ChronoLens Camera (Limited Edition)\n",
      "\n",
      "ChronoLens Camera (Limited Edition)\n",
      "ChronoLens Camera (Cursed Edi�on)\n",
      "\n",
      "• Every photograph contains a shadowy figure, lurking somewhere in the frame.\n",
      "\n",
      "Each time you use it, the figure appears closer to you in the next photo.\n",
      "\n",
      "• The lens sometimes fogs up with an eerie breath, even when untouched.\n",
      "\n",
      "• 500 SGD\n",
      "U Q C F instax ChronoLens Camera (Cursed Edition)\n",
      "\n",
      "ChronoLens Camera (Cursed Edition)\n",
      "\n",
      "Elixir of Renewal (Standard Edi�on)\n",
      "\n",
      "• A ruby-red liquid stored in a delicate glass vial, sealed with wax.\n",
      "\n",
      "• One sip, and any injury—from minor cuts to shattered bones—vanishes in seconds.\n",
      "• The air smells of fresh rain and blooming roses when uncorked, hinting at its purity.\n",
      "\n",
      "• 400 SGD\n",
      "\n",
      "Elixir of Renewal (Limited Edi�on)\n",
      "\n",
      "• Heals wounds and restores youth, erasing scars and aging by 5 years per sip.\n",
      "• But be warned: for every year gained, a memory is lost—a fair exchange, some might say.\n",
      "\n",
      "• The liquid swirls hypnotically, reflecting glimpses of forgotten moments.\n",
      "\n",
      "• 700 SGD\n",
      "\n",
      "Elixir of Renewal (Cursed Edi�on)\n",
      "• The elixir still heals any wound instantly, but the injury transfers to someone you love.\n",
      "\n",
      "• You won’t know who until it’s too late.\n",
      "\n",
      "• The vial occasionally shudders, as if something inside it is trying to escape.\n",
      "\n",
      "• 100 SGD\n",
      "\n",
      "Whispering Quill (Standard Edi�on)\n",
      "• A quill made from the feather of an unknown bird, always wet with black ink that never runs dry.\n",
      "\n",
      "• When left on parchment, it writes messages from unseen spirits, revealing secrets, forgotten memories, or hidden truths.\n",
      "\n",
      "• Sometimes, it moves on its own, sketching cryptic symbols.\n",
      "\n",
      "• 200 SGD\n",
      "Whispering Quill (Standard Edition)\n",
      "\n",
      "Whispering Quill (Limited Edi�on)\n",
      "\n",
      "Instead of spirits, the quill writes out prophecies, visions of what is to come.\n",
      "\n",
      "• The ink shifts in colour depending on the danger of the fate being foretold.\n",
      "• The whisper of a voice can sometimes be heard as it glides over paper.\n",
      "\n",
      "• 500 SGD\n",
      "\n",
      "Whispering Quill (Limited Edition)\n",
      "\n",
      "Whispering Quill (Cursed Edi�on)\n",
      "\n",
      "Instead of messages, the quill writes your exact moment of death.\n",
      "\n",
      "• The date remains blank—until the day arrives.\n",
      "• The ink never smudges, as if fate itself ensures clarity.\n",
      "\n",
      "• 100 SGD\n",
      "\n",
      "Whispering Quill (Cursed Edition)\n",
      "\n",
      "Starlight Jar (Standard Edi�on)\n",
      "\n",
      "• A crystal jar containing a shimmering orb of starlight, pulsating with warmth.\n",
      "• When whispered to, the light flickers to respond, guiding the holder towards a place of destiny.\n",
      "\n",
      "• The glow dims when danger is near.\n",
      "\n",
      "• 800 SGD\n",
      "\n",
      "Starlight Jar (Limited Edi�on)\n",
      "\n",
      "• Once in its lifetime, the star grants a wish—but no one knows the price it will demand.\n",
      "• Legends say some have wished for immortality, only to find themselves trapped in time.\n",
      "\n",
      "• The jar occasionally vibrates, as if something inside stirs restlessly.\n",
      "\n",
      "• 1200 SGD\n",
      "\n",
      "Starlight Jar (Cursed Edi�on)\n",
      "Instead of light, the jar emits pure darkness, revealing invisible creatures lurking around you.\n",
      "\n",
      "• But are they always there… or has the jar summoned them?\n",
      "\n",
      "• The glass is unnervingly warm, like something is breathing inside.\n",
      "\n",
      "• 200 SGD\n",
      "\n",
      "Shadow Cloak (Standard Edi�on)\n",
      "• A midnight-black cloak woven from woven void-silk, cold to the touch.\n",
      "\n",
      "• Wrap it around yourself, and you can step into any shadow and emerge from another nearby.\n",
      "another nearby.\n",
      "\n",
      "• Occasionally, whispers from unseen figures are heard when worn.\n",
      "\n",
      "• 3,000 SGD\n",
      "\n",
      "Aad Shadow Cloak (Standard Edition)\n",
      "\n",
      "Shadow Cloak (Limited Edi�on)\n",
      "\n",
      "• A Purple cloak.\n",
      "\n",
      "• Grants 13 minutes of true invisibility per night.\n",
      "\n",
      "• But each use erases a fragment of you from people’s memories.\n",
      "• The fabric feels heavier with each use, burdened by forgotten identity.\n",
      "\n",
      "• 5,000 SGD\n",
      "\n",
      "Aah Shadow Cloak (Limited Edition)\n",
      "\n",
      "Shadow Cloak (Cursed Edi�on)\n",
      "\n",
      "• Works the same as the standard version, but each time you use it, you become less human.\n",
      "• Use it too often, and one day, you will never return from the shadows.\n",
      "\n",
      "• The cloak occasionally tightens on its own, as if reluctant to let go.\n",
      "\n",
      "• 600 SGD\n",
      "\n",
      "Shadow Cloak (Cursed Edition)\n",
      "\n",
      "Hourglass of Regret (Standard Edi�on)\n",
      "• A delicate golden hourglass, its sand shimmering like crushed diamonds.\n",
      "\n",
      "• When flipped, time reverses by exactly one hour.\n",
      "\n",
      "• The glass vibrates slightly, as if resisting fate’s interference.\n",
      "\n",
      "• 900 SGD\n",
      "\n",
      "Hourglass of Regret (Limited Edi�on)\n",
      "• Grants the user a full hour of redo, but the more you use it, the more reality fragments.\n",
      "\n",
      "• Sometimes, echoes of past mistakes whisper from the glass.\n",
      "\n",
      "• 1500 SGD\n",
      "\n",
      "Hourglass of Regret (Cursed Edi�on)\n",
      "\n",
      "Instead of rewinding one hour, it traps you in an endless 60-second time loop.\n",
      "• The only way out is for someone else to break the glass.\n",
      "\n",
      "• A faint ticking sound grows louder the longer you hold it.\n",
      "\n",
      "• 100 SGD\n",
      "\n",
      "Moonstone Compass (Standard Edi�on)\n",
      "\n",
      "• A beautifully crafted brass compass, its needle never pointing north.\n",
      "\n",
      "Instead, it leads to what your heart secretly longs for.\n",
      "• The needle quivers when near great danger or deception.\n",
      "\n",
      "• 1,500 SGD\n",
      "\n",
      "Moonstone Compass (Limited Edi�on)\n",
      "\n",
      "• Can lead to hidden realms beyond our world.\n",
      "\n",
      "• Some say it unlocks pathways to forgotten places where time stands still.\n",
      "\n",
      "• 2,500 SGD\n",
      "\n",
      "Moonstone Compass (Cursed Edi�on)\n",
      "• Always points to the last person who thought of you.\n",
      "\n",
      "If it starts spinning wildly, someone obsesses over you dangerously.\n",
      "\n",
      "• The metal occasionally feels unnaturally warm, as if touched by unseen hands.\n",
      "\n",
      "• 150 SGD\n"
     ]
    }
   ],
   "source": [
    "# import os\n",
    "from unstructured.partition.pdf import partition_pdf\n",
    "\n",
    "# Set the Poppler path environment variable\n",
    "# os.environ[\"POPPLER_PATH\"] = r\"C:\\Program Files\\poppler\\poppler-24.08.0\\Library\\bin\"\n",
    "\n",
    "# Define your file path and output path\n",
    "output_path = \"content/\"\n",
    "file_path = output_path + 'product.pdf'\n",
    "\n",
    "# Reference: https://docs.unstructured.io/open-source/core-functionality/chunking\n",
    "try:\n",
    "    chunks = partition_pdf(\n",
    "        filename=r\"C:\\Users\\ECQ956\\Desktop\\jupyter\\Multimodal-Alejandra\\content\\product.pdf\",\n",
    "        infer_table_structure=True,            # extract tables\n",
    "        strategy=\"hi_res\",                     # mandatory to infer tables\n",
    "\n",
    "        extract_image_block_types=[\"Image\"],   # Add 'Table' to list to extract image of tables\n",
    "        # image_output_dir_path=output_path,   # if None, images and tables will be saved in base64\n",
    "\n",
    "        extract_image_block_to_payload=True,   # if true, will extract base64 for API usage\n",
    "\n",
    "        chunking_strategy=\"by_title\",          # or 'basic'\n",
    "        max_characters=300,                  # defaults to 500\n",
    "        combine_text_under_n_chars=100,       # defaults to 0\n",
    "        new_after_n_chars=400,\n",
    "\n",
    "        poppler_path=r\"C:\\Program Files\\poppler\\poppler-24.08.0\\Library\\bin\",  # Specify poppler_path here\n",
    "\n",
    "        # extract_images_in_pdf=True,          # deprecated\n",
    "    )\n",
    "except FileNotFoundError as e:\n",
    "    print(e)\n",
    "    raise\n",
    "\n",
    "# Optionally, print the chunks or process them as needed\n",
    "for chunk in chunks:\n",
    "    print(chunk)"
   ]
  },
  {
   "cell_type": "code",
   "execution_count": null,
   "metadata": {
    "jupyter": {
     "source_hidden": true
    }
   },
   "outputs": [],
   "source": [
    "# We get 2 types of elements from the partition_pdf function\n",
    "# set([str(type(el)) for el in chunks])\n",
    "\n",
    "len(chunks)\n",
    "# chunks[3].metadata.orig_elements"
   ]
  },
  {
   "cell_type": "code",
   "execution_count": null,
   "metadata": {
    "jupyter": {
     "source_hidden": true
    }
   },
   "outputs": [],
   "source": [
    "for ch in chunks[5].metadata.orig_elements:\n",
    "    if \"Table\" in str(type(ch)):\n",
    "        print (ch)"
   ]
  },
  {
   "cell_type": "code",
   "execution_count": null,
   "metadata": {
    "jupyter": {
     "source_hidden": true
    }
   },
   "outputs": [],
   "source": [
    "# Each CompositeElement containes a bunch of related elements.\n",
    "# This makes it easy to use these elements together in a RAG pipeline.\n",
    "\n",
    "tables=[]\n",
    "# chunks[3].metadata.orig_elements\n",
    "\n",
    "for chunk in chunks:\n",
    "    if \"Table\" in str(type(chunk)):\n",
    "        tables.append(chunk)"
   ]
  },
  {
   "cell_type": "code",
   "execution_count": null,
   "metadata": {
    "jupyter": {
     "source_hidden": true
    }
   },
   "outputs": [],
   "source": [
    "# This is what an extracted image looks like.\n",
    "# It contains the base64 representation only because we set the param extract_image_block_to_payload=True\n",
    "\n",
    "elements = chunks[3].metadata.orig_elements\n",
    "chunk_images = [el for el in elements if 'Image' in str(type(el))]\n",
    "chunk_images[0].to_dict()"
   ]
  },
  {
   "cell_type": "markdown",
   "metadata": {},
   "source": [
    "### Separate extracted elements into tables, text, and images"
   ]
  },
  {
   "cell_type": "code",
   "execution_count": 4,
   "metadata": {},
   "outputs": [],
   "source": [
    "# separate tables from texts\n",
    "tables = []\n",
    "texts = []\n",
    "\n",
    "for chunk in chunks:\n",
    "    if \"Table\" in str(type(chunk)):\n",
    "        tables.append(chunk)\n",
    "\n",
    "    if \"CompositeElement\" in str(type((chunk))):\n",
    "        texts.append(chunk)\n",
    "\n",
    "texts = [element.text for element in texts]  # Adjust this depending on the structure of your CompositeElement."
   ]
  },
  {
   "cell_type": "code",
   "execution_count": 9,
   "metadata": {},
   "outputs": [],
   "source": [
    "# Get the images from the CompositeElement objects\n",
    "def get_images_base64(chunks):\n",
    "    images_b64 = []\n",
    "    for chunk in chunks:\n",
    "        if \"CompositeElement\" in str(type(chunk)):\n",
    "            chunk_els = chunk.metadata.orig_elements\n",
    "            for el in chunk_els:\n",
    "                if \"Image\" in str(type(el)):\n",
    "                    images_b64.append(el.metadata.image_base64)\n",
    "    return images_b64\n",
    "\n",
    "images = get_images_base64(chunks)"
   ]
  },
  {
   "cell_type": "markdown",
   "metadata": {},
   "source": [
    "#### Check what the images look like"
   ]
  },
  {
   "cell_type": "code",
   "execution_count": 11,
   "metadata": {},
   "outputs": [
    {
     "data": {
      "image/jpeg": "[encoded data removed]",
      "text/plain": [
       "<IPython.core.display.Image object>"
      ]
     },
     "metadata": {},
     "output_type": "display_data"
    }
   ],
   "source": [
    "import base64\n",
    "from IPython.display import Image, display\n",
    "\n",
    "def display_base64_image(base64_code):\n",
    "    # Decode the base64 string to binary\n",
    "    image_data = base64.b64decode(base64_code)\n",
    "    # Display the image\n",
    "    display(Image(data=image_data))\n",
    "\n",
    "display_base64_image(images[7])"
   ]
  },
  {
   "cell_type": "markdown",
   "metadata": {},
   "source": [
    "## Summarize the data\n",
    "\n",
    "Create a summary of each element extracted from the PDF. This summary will be vectorized and used in the retrieval process."
   ]
  },
  {
   "cell_type": "markdown",
   "metadata": {},
   "source": [
    "### Text and Table summaries\n",
    "\n",
    "We don't need a multimodal model to generate the summaries of the tables and the text. I will use open source models available on Groq."
   ]
  },
  {
   "cell_type": "code",
   "execution_count": null,
   "metadata": {},
   "outputs": [],
   "source": [
    "%pip install -Uq langchain-groq"
   ]
  },
  {
   "cell_type": "code",
   "execution_count": 5,
   "metadata": {},
   "outputs": [],
   "source": [
    "from langchain_groq import ChatGroq\n",
    "from langchain_core.prompts import ChatPromptTemplate\n",
    "from langchain_core.output_parsers import StrOutputParser"
   ]
  },
  {
   "cell_type": "code",
   "execution_count": 12,
   "metadata": {},
   "outputs": [],
   "source": [
    "# Prompt\n",
    "prompt_text = \"\"\"\n",
    "You are an assistant tasked with summarizing text.\n",
    "Give a concise summary of the text.\n",
    "\n",
    "Respond only with the summary, no additionnal comment.\n",
    "Do not start your message by saying \"Here is a summary\" or anything like that.\n",
    "Just give the summary as it is.\n",
    "\n",
    "text chunk: {element}\n",
    "\n",
    "\"\"\"\n",
    "prompt = ChatPromptTemplate.from_template(prompt_text)\n",
    "\n",
    "# Summary chain\n",
    "model = ChatGroq(temperature=0.5, model=\"llama-3.1-8b-instant\")\n",
    "summarize_chain = {\"element\": lambda x: x} | prompt | model | StrOutputParser()"
   ]
  },
  {
   "cell_type": "code",
   "execution_count": 14,
   "metadata": {
    "scrolled": true
   },
   "outputs": [
    {
     "ename": "RateLimitError",
     "evalue": "Error code: 429 - {'error': {'message': 'Rate limit reached for model `llama-3.1-8b-instant` in organization `org_01jm6rjbykf3rsrx1vp679bhqk` service tier `on_demand` on requests per minute (RPM): Limit 30, Used 30, Requested 1. Please try again in 1.956s. Need more tokens? Upgrade to Dev Tier today at https://console.groq.com/settings/billing', 'type': 'requests', 'code': 'rate_limit_exceeded'}}",
     "output_type": "error",
     "traceback": [
      "\u001b[1;31m-----------------------------------------------------------------\u001b[0m",
      "\u001b[1;31mRateLimitError\u001b[0m                  Traceback (most recent call last)",
      "Cell \u001b[1;32mIn[14], line 2\u001b[0m\n\u001b[0;32m      1\u001b[0m \u001b[38;5;66;03m# Summarize text\u001b[39;00m\n\u001b[1;32m----> 2\u001b[0m text_summaries \u001b[38;5;241m=\u001b[39m \u001b[43msummarize_chain\u001b[49m\u001b[38;5;241;43m.\u001b[39;49m\u001b[43mbatch\u001b[49m\u001b[43m(\u001b[49m\u001b[43mtexts\u001b[49m\u001b[43m,\u001b[49m\u001b[43m \u001b[49m\u001b[43m{\u001b[49m\u001b[38;5;124;43m\"\u001b[39;49m\u001b[38;5;124;43mmax_concurrency\u001b[39;49m\u001b[38;5;124;43m\"\u001b[39;49m\u001b[43m:\u001b[49m\u001b[43m \u001b[49m\u001b[38;5;241;43m3\u001b[39;49m\u001b[43m}\u001b[49m\u001b[43m)\u001b[49m\n\u001b[0;32m      4\u001b[0m \u001b[38;5;66;03m# # Summarize tables\u001b[39;00m\n\u001b[0;32m      5\u001b[0m \u001b[38;5;66;03m# tables_html = [table.metadata.text_as_html for table in tables]\u001b[39;00m\n\u001b[0;32m      6\u001b[0m \u001b[38;5;66;03m# table_summaries = summarize_chain.batch(tables_html, {\"max_concurrency\": 3})\u001b[39;00m\n",
      "File \u001b[1;32m~\\Desktop\\jupyter\\Multimodal-Alejandra\\.venv\\Lib\\site-packages\\langchain_core\\runnables\\base.py:3170\u001b[0m, in \u001b[0;36mRunnableSequence.batch\u001b[1;34m(self, inputs, config, return_exceptions, **kwargs)\u001b[0m\n\u001b[0;32m   3168\u001b[0m     \u001b[38;5;28;01melse\u001b[39;00m:\n\u001b[0;32m   3169\u001b[0m         \u001b[38;5;28;01mfor\u001b[39;00m i, step \u001b[38;5;129;01min\u001b[39;00m \u001b[38;5;28menumerate\u001b[39m(\u001b[38;5;28mself\u001b[39m\u001b[38;5;241m.\u001b[39msteps):\n\u001b[1;32m-> 3170\u001b[0m             inputs \u001b[38;5;241m=\u001b[39m \u001b[43mstep\u001b[49m\u001b[38;5;241;43m.\u001b[39;49m\u001b[43mbatch\u001b[49m\u001b[43m(\u001b[49m\n\u001b[0;32m   3171\u001b[0m \u001b[43m                \u001b[49m\u001b[43minputs\u001b[49m\u001b[43m,\u001b[49m\n\u001b[0;32m   3172\u001b[0m \u001b[43m                \u001b[49m\u001b[43m[\u001b[49m\n\u001b[0;32m   3173\u001b[0m \u001b[43m                    \u001b[49m\u001b[38;5;66;43;03m# each step a child run of the corresponding root run\u001b[39;49;00m\n\u001b[0;32m   3174\u001b[0m \u001b[43m                    \u001b[49m\u001b[43mpatch_config\u001b[49m\u001b[43m(\u001b[49m\n\u001b[0;32m   3175\u001b[0m \u001b[43m                        \u001b[49m\u001b[43mconfig\u001b[49m\u001b[43m,\u001b[49m\u001b[43m \u001b[49m\u001b[43mcallbacks\u001b[49m\u001b[38;5;241;43m=\u001b[39;49m\u001b[43mrm\u001b[49m\u001b[38;5;241;43m.\u001b[39;49m\u001b[43mget_child\u001b[49m\u001b[43m(\u001b[49m\u001b[38;5;124;43mf\u001b[39;49m\u001b[38;5;124;43m\"\u001b[39;49m\u001b[38;5;124;43mseq:step:\u001b[39;49m\u001b[38;5;132;43;01m{\u001b[39;49;00m\u001b[43mi\u001b[49m\u001b[38;5;250;43m \u001b[39;49m\u001b[38;5;241;43m+\u001b[39;49m\u001b[38;5;250;43m \u001b[39;49m\u001b[38;5;241;43m1\u001b[39;49m\u001b[38;5;132;43;01m}\u001b[39;49;00m\u001b[38;5;124;43m\"\u001b[39;49m\u001b[43m)\u001b[49m\n\u001b[0;32m   3176\u001b[0m \u001b[43m                    \u001b[49m\u001b[43m)\u001b[49m\n\u001b[0;32m   3177\u001b[0m \u001b[43m                    \u001b[49m\u001b[38;5;28;43;01mfor\u001b[39;49;00m\u001b[43m \u001b[49m\u001b[43mrm\u001b[49m\u001b[43m,\u001b[49m\u001b[43m \u001b[49m\u001b[43mconfig\u001b[49m\u001b[43m \u001b[49m\u001b[38;5;129;43;01min\u001b[39;49;00m\u001b[43m \u001b[49m\u001b[38;5;28;43mzip\u001b[39;49m\u001b[43m(\u001b[49m\u001b[43mrun_managers\u001b[49m\u001b[43m,\u001b[49m\u001b[43m \u001b[49m\u001b[43mconfigs\u001b[49m\u001b[43m)\u001b[49m\n\u001b[0;32m   3178\u001b[0m \u001b[43m                \u001b[49m\u001b[43m]\u001b[49m\u001b[43m,\u001b[49m\n\u001b[0;32m   3179\u001b[0m \u001b[43m                \u001b[49m\u001b[43mreturn_exceptions\u001b[49m\u001b[38;5;241;43m=\u001b[39;49m\u001b[43mreturn_exceptions\u001b[49m\u001b[43m,\u001b[49m\n\u001b[0;32m   3180\u001b[0m \u001b[43m                \u001b[49m\u001b[38;5;241;43m*\u001b[39;49m\u001b[38;5;241;43m*\u001b[39;49m\u001b[43m(\u001b[49m\u001b[43mkwargs\u001b[49m\u001b[43m \u001b[49m\u001b[38;5;28;43;01mif\u001b[39;49;00m\u001b[43m \u001b[49m\u001b[43mi\u001b[49m\u001b[43m \u001b[49m\u001b[38;5;241;43m==\u001b[39;49m\u001b[43m \u001b[49m\u001b[38;5;241;43m0\u001b[39;49m\u001b[43m \u001b[49m\u001b[38;5;28;43;01melse\u001b[39;49;00m\u001b[43m \u001b[49m\u001b[43m{\u001b[49m\u001b[43m}\u001b[49m\u001b[43m)\u001b[49m\u001b[43m,\u001b[49m\n\u001b[0;32m   3181\u001b[0m \u001b[43m            \u001b[49m\u001b[43m)\u001b[49m\n\u001b[0;32m   3183\u001b[0m \u001b[38;5;66;03m# finish the root runs\u001b[39;00m\n\u001b[0;32m   3184\u001b[0m \u001b[38;5;28;01mexcept\u001b[39;00m \u001b[38;5;167;01mBaseException\u001b[39;00m \u001b[38;5;28;01mas\u001b[39;00m e:\n",
      "File \u001b[1;32m~\\Desktop\\jupyter\\Multimodal-Alejandra\\.venv\\Lib\\site-packages\\langchain_core\\runnables\\base.py:789\u001b[0m, in \u001b[0;36mRunnable.batch\u001b[1;34m(self, inputs, config, return_exceptions, **kwargs)\u001b[0m\n\u001b[0;32m    786\u001b[0m     \u001b[38;5;28;01mreturn\u001b[39;00m cast(\u001b[38;5;28mlist\u001b[39m[Output], [invoke(inputs[\u001b[38;5;241m0\u001b[39m], configs[\u001b[38;5;241m0\u001b[39m])])\n\u001b[0;32m    788\u001b[0m \u001b[38;5;28;01mwith\u001b[39;00m get_executor_for_config(configs[\u001b[38;5;241m0\u001b[39m]) \u001b[38;5;28;01mas\u001b[39;00m executor:\n\u001b[1;32m--> 789\u001b[0m     \u001b[38;5;28;01mreturn\u001b[39;00m cast(\u001b[38;5;28mlist\u001b[39m[Output], \u001b[38;5;28mlist\u001b[39m(executor\u001b[38;5;241m.\u001b[39mmap(invoke, inputs, configs)))\n",
      "File \u001b[1;32mC:\\Program Files\\Python\\Python-3.11.9\\Lib\\concurrent\\futures\\_base.py:619\u001b[0m, in \u001b[0;36mExecutor.map.<locals>.result_iterator\u001b[1;34m()\u001b[0m\n\u001b[0;32m    616\u001b[0m \u001b[38;5;28;01mwhile\u001b[39;00m fs:\n\u001b[0;32m    617\u001b[0m     \u001b[38;5;66;03m# Careful not to keep a reference to the popped future\u001b[39;00m\n\u001b[0;32m    618\u001b[0m     \u001b[38;5;28;01mif\u001b[39;00m timeout \u001b[38;5;129;01mis\u001b[39;00m \u001b[38;5;28;01mNone\u001b[39;00m:\n\u001b[1;32m--> 619\u001b[0m         \u001b[38;5;28;01myield\u001b[39;00m \u001b[43m_result_or_cancel\u001b[49m\u001b[43m(\u001b[49m\u001b[43mfs\u001b[49m\u001b[38;5;241;43m.\u001b[39;49m\u001b[43mpop\u001b[49m\u001b[43m(\u001b[49m\u001b[43m)\u001b[49m\u001b[43m)\u001b[49m\n\u001b[0;32m    620\u001b[0m     \u001b[38;5;28;01melse\u001b[39;00m:\n\u001b[0;32m    621\u001b[0m         \u001b[38;5;28;01myield\u001b[39;00m _result_or_cancel(fs\u001b[38;5;241m.\u001b[39mpop(), end_time \u001b[38;5;241m-\u001b[39m time\u001b[38;5;241m.\u001b[39mmonotonic())\n",
      "File \u001b[1;32mC:\\Program Files\\Python\\Python-3.11.9\\Lib\\concurrent\\futures\\_base.py:317\u001b[0m, in \u001b[0;36m_result_or_cancel\u001b[1;34m(***failed resolving arguments***)\u001b[0m\n\u001b[0;32m    315\u001b[0m \u001b[38;5;28;01mtry\u001b[39;00m:\n\u001b[0;32m    316\u001b[0m     \u001b[38;5;28;01mtry\u001b[39;00m:\n\u001b[1;32m--> 317\u001b[0m         \u001b[38;5;28;01mreturn\u001b[39;00m \u001b[43mfut\u001b[49m\u001b[38;5;241;43m.\u001b[39;49m\u001b[43mresult\u001b[49m\u001b[43m(\u001b[49m\u001b[43mtimeout\u001b[49m\u001b[43m)\u001b[49m\n\u001b[0;32m    318\u001b[0m     \u001b[38;5;28;01mfinally\u001b[39;00m:\n\u001b[0;32m    319\u001b[0m         fut\u001b[38;5;241m.\u001b[39mcancel()\n",
      "File \u001b[1;32mC:\\Program Files\\Python\\Python-3.11.9\\Lib\\concurrent\\futures\\_base.py:449\u001b[0m, in \u001b[0;36mFuture.result\u001b[1;34m(self, timeout)\u001b[0m\n\u001b[0;32m    447\u001b[0m     \u001b[38;5;28;01mraise\u001b[39;00m CancelledError()\n\u001b[0;32m    448\u001b[0m \u001b[38;5;28;01melif\u001b[39;00m \u001b[38;5;28mself\u001b[39m\u001b[38;5;241m.\u001b[39m_state \u001b[38;5;241m==\u001b[39m FINISHED:\n\u001b[1;32m--> 449\u001b[0m     \u001b[38;5;28;01mreturn\u001b[39;00m \u001b[38;5;28;43mself\u001b[39;49m\u001b[38;5;241;43m.\u001b[39;49m\u001b[43m__get_result\u001b[49m\u001b[43m(\u001b[49m\u001b[43m)\u001b[49m\n\u001b[0;32m    451\u001b[0m \u001b[38;5;28mself\u001b[39m\u001b[38;5;241m.\u001b[39m_condition\u001b[38;5;241m.\u001b[39mwait(timeout)\n\u001b[0;32m    453\u001b[0m \u001b[38;5;28;01mif\u001b[39;00m \u001b[38;5;28mself\u001b[39m\u001b[38;5;241m.\u001b[39m_state \u001b[38;5;129;01min\u001b[39;00m [CANCELLED, CANCELLED_AND_NOTIFIED]:\n",
      "File \u001b[1;32mC:\\Program Files\\Python\\Python-3.11.9\\Lib\\concurrent\\futures\\_base.py:401\u001b[0m, in \u001b[0;36mFuture.__get_result\u001b[1;34m(self)\u001b[0m\n\u001b[0;32m    399\u001b[0m \u001b[38;5;28;01mif\u001b[39;00m \u001b[38;5;28mself\u001b[39m\u001b[38;5;241m.\u001b[39m_exception:\n\u001b[0;32m    400\u001b[0m     \u001b[38;5;28;01mtry\u001b[39;00m:\n\u001b[1;32m--> 401\u001b[0m         \u001b[38;5;28;01mraise\u001b[39;00m \u001b[38;5;28mself\u001b[39m\u001b[38;5;241m.\u001b[39m_exception\n\u001b[0;32m    402\u001b[0m     \u001b[38;5;28;01mfinally\u001b[39;00m:\n\u001b[0;32m    403\u001b[0m         \u001b[38;5;66;03m# Break a reference cycle with the exception in self._exception\u001b[39;00m\n\u001b[0;32m    404\u001b[0m         \u001b[38;5;28mself\u001b[39m \u001b[38;5;241m=\u001b[39m \u001b[38;5;28;01mNone\u001b[39;00m\n",
      "File \u001b[1;32mC:\\Program Files\\Python\\Python-3.11.9\\Lib\\concurrent\\futures\\thread.py:58\u001b[0m, in \u001b[0;36m_WorkItem.run\u001b[1;34m(self)\u001b[0m\n\u001b[0;32m     55\u001b[0m     \u001b[38;5;28;01mreturn\u001b[39;00m\n\u001b[0;32m     57\u001b[0m \u001b[38;5;28;01mtry\u001b[39;00m:\n\u001b[1;32m---> 58\u001b[0m     result \u001b[38;5;241m=\u001b[39m \u001b[38;5;28;43mself\u001b[39;49m\u001b[38;5;241;43m.\u001b[39;49m\u001b[43mfn\u001b[49m\u001b[43m(\u001b[49m\u001b[38;5;241;43m*\u001b[39;49m\u001b[38;5;28;43mself\u001b[39;49m\u001b[38;5;241;43m.\u001b[39;49m\u001b[43margs\u001b[49m\u001b[43m,\u001b[49m\u001b[43m \u001b[49m\u001b[38;5;241;43m*\u001b[39;49m\u001b[38;5;241;43m*\u001b[39;49m\u001b[38;5;28;43mself\u001b[39;49m\u001b[38;5;241;43m.\u001b[39;49m\u001b[43mkwargs\u001b[49m\u001b[43m)\u001b[49m\n\u001b[0;32m     59\u001b[0m \u001b[38;5;28;01mexcept\u001b[39;00m \u001b[38;5;167;01mBaseException\u001b[39;00m \u001b[38;5;28;01mas\u001b[39;00m exc:\n\u001b[0;32m     60\u001b[0m     \u001b[38;5;28mself\u001b[39m\u001b[38;5;241m.\u001b[39mfuture\u001b[38;5;241m.\u001b[39mset_exception(exc)\n",
      "File \u001b[1;32m~\\Desktop\\jupyter\\Multimodal-Alejandra\\.venv\\Lib\\site-packages\\langchain_core\\runnables\\config.py:527\u001b[0m, in \u001b[0;36mContextThreadPoolExecutor.map.<locals>._wrapped_fn\u001b[1;34m(*args)\u001b[0m\n\u001b[0;32m    526\u001b[0m \u001b[38;5;28;01mdef\u001b[39;00m\u001b[38;5;250m \u001b[39m\u001b[38;5;21m_wrapped_fn\u001b[39m(\u001b[38;5;241m*\u001b[39margs: Any) \u001b[38;5;241m-\u001b[39m\u001b[38;5;241m>\u001b[39m T:\n\u001b[1;32m--> 527\u001b[0m     \u001b[38;5;28;01mreturn\u001b[39;00m \u001b[43mcontexts\u001b[49m\u001b[38;5;241;43m.\u001b[39;49m\u001b[43mpop\u001b[49m\u001b[43m(\u001b[49m\u001b[43m)\u001b[49m\u001b[38;5;241;43m.\u001b[39;49m\u001b[43mrun\u001b[49m\u001b[43m(\u001b[49m\u001b[43mfn\u001b[49m\u001b[43m,\u001b[49m\u001b[43m \u001b[49m\u001b[38;5;241;43m*\u001b[39;49m\u001b[43margs\u001b[49m\u001b[43m)\u001b[49m\n",
      "File \u001b[1;32m~\\Desktop\\jupyter\\Multimodal-Alejandra\\.venv\\Lib\\site-packages\\langchain_core\\runnables\\base.py:782\u001b[0m, in \u001b[0;36mRunnable.batch.<locals>.invoke\u001b[1;34m(input, config)\u001b[0m\n\u001b[0;32m    780\u001b[0m         \u001b[38;5;28;01mreturn\u001b[39;00m e\n\u001b[0;32m    781\u001b[0m \u001b[38;5;28;01melse\u001b[39;00m:\n\u001b[1;32m--> 782\u001b[0m     \u001b[38;5;28;01mreturn\u001b[39;00m \u001b[38;5;28;43mself\u001b[39;49m\u001b[38;5;241;43m.\u001b[39;49m\u001b[43minvoke\u001b[49m\u001b[43m(\u001b[49m\u001b[38;5;28;43minput\u001b[39;49m\u001b[43m,\u001b[49m\u001b[43m \u001b[49m\u001b[43mconfig\u001b[49m\u001b[43m,\u001b[49m\u001b[43m \u001b[49m\u001b[38;5;241;43m*\u001b[39;49m\u001b[38;5;241;43m*\u001b[39;49m\u001b[43mkwargs\u001b[49m\u001b[43m)\u001b[49m\n",
      "File \u001b[1;32m~\\Desktop\\jupyter\\Multimodal-Alejandra\\.venv\\Lib\\site-packages\\langchain_core\\language_models\\chat_models.py:284\u001b[0m, in \u001b[0;36mBaseChatModel.invoke\u001b[1;34m(self, input, config, stop, **kwargs)\u001b[0m\n\u001b[0;32m    273\u001b[0m \u001b[38;5;28;01mdef\u001b[39;00m\u001b[38;5;250m \u001b[39m\u001b[38;5;21minvoke\u001b[39m(\n\u001b[0;32m    274\u001b[0m     \u001b[38;5;28mself\u001b[39m,\n\u001b[0;32m    275\u001b[0m     \u001b[38;5;28minput\u001b[39m: LanguageModelInput,\n\u001b[1;32m   (...)\u001b[0m\n\u001b[0;32m    279\u001b[0m     \u001b[38;5;241m*\u001b[39m\u001b[38;5;241m*\u001b[39mkwargs: Any,\n\u001b[0;32m    280\u001b[0m ) \u001b[38;5;241m-\u001b[39m\u001b[38;5;241m>\u001b[39m BaseMessage:\n\u001b[0;32m    281\u001b[0m     config \u001b[38;5;241m=\u001b[39m ensure_config(config)\n\u001b[0;32m    282\u001b[0m     \u001b[38;5;28;01mreturn\u001b[39;00m cast(\n\u001b[0;32m    283\u001b[0m         ChatGeneration,\n\u001b[1;32m--> 284\u001b[0m         \u001b[38;5;28;43mself\u001b[39;49m\u001b[38;5;241;43m.\u001b[39;49m\u001b[43mgenerate_prompt\u001b[49m\u001b[43m(\u001b[49m\n\u001b[0;32m    285\u001b[0m \u001b[43m            \u001b[49m\u001b[43m[\u001b[49m\u001b[38;5;28;43mself\u001b[39;49m\u001b[38;5;241;43m.\u001b[39;49m\u001b[43m_convert_input\u001b[49m\u001b[43m(\u001b[49m\u001b[38;5;28;43minput\u001b[39;49m\u001b[43m)\u001b[49m\u001b[43m]\u001b[49m\u001b[43m,\u001b[49m\n\u001b[0;32m    286\u001b[0m \u001b[43m            \u001b[49m\u001b[43mstop\u001b[49m\u001b[38;5;241;43m=\u001b[39;49m\u001b[43mstop\u001b[49m\u001b[43m,\u001b[49m\n\u001b[0;32m    287\u001b[0m \u001b[43m            \u001b[49m\u001b[43mcallbacks\u001b[49m\u001b[38;5;241;43m=\u001b[39;49m\u001b[43mconfig\u001b[49m\u001b[38;5;241;43m.\u001b[39;49m\u001b[43mget\u001b[49m\u001b[43m(\u001b[49m\u001b[38;5;124;43m\"\u001b[39;49m\u001b[38;5;124;43mcallbacks\u001b[39;49m\u001b[38;5;124;43m\"\u001b[39;49m\u001b[43m)\u001b[49m\u001b[43m,\u001b[49m\n\u001b[0;32m    288\u001b[0m \u001b[43m            \u001b[49m\u001b[43mtags\u001b[49m\u001b[38;5;241;43m=\u001b[39;49m\u001b[43mconfig\u001b[49m\u001b[38;5;241;43m.\u001b[39;49m\u001b[43mget\u001b[49m\u001b[43m(\u001b[49m\u001b[38;5;124;43m\"\u001b[39;49m\u001b[38;5;124;43mtags\u001b[39;49m\u001b[38;5;124;43m\"\u001b[39;49m\u001b[43m)\u001b[49m\u001b[43m,\u001b[49m\n\u001b[0;32m    289\u001b[0m \u001b[43m            \u001b[49m\u001b[43mmetadata\u001b[49m\u001b[38;5;241;43m=\u001b[39;49m\u001b[43mconfig\u001b[49m\u001b[38;5;241;43m.\u001b[39;49m\u001b[43mget\u001b[49m\u001b[43m(\u001b[49m\u001b[38;5;124;43m\"\u001b[39;49m\u001b[38;5;124;43mmetadata\u001b[39;49m\u001b[38;5;124;43m\"\u001b[39;49m\u001b[43m)\u001b[49m\u001b[43m,\u001b[49m\n\u001b[0;32m    290\u001b[0m \u001b[43m            \u001b[49m\u001b[43mrun_name\u001b[49m\u001b[38;5;241;43m=\u001b[39;49m\u001b[43mconfig\u001b[49m\u001b[38;5;241;43m.\u001b[39;49m\u001b[43mget\u001b[49m\u001b[43m(\u001b[49m\u001b[38;5;124;43m\"\u001b[39;49m\u001b[38;5;124;43mrun_name\u001b[39;49m\u001b[38;5;124;43m\"\u001b[39;49m\u001b[43m)\u001b[49m\u001b[43m,\u001b[49m\n\u001b[0;32m    291\u001b[0m \u001b[43m            \u001b[49m\u001b[43mrun_id\u001b[49m\u001b[38;5;241;43m=\u001b[39;49m\u001b[43mconfig\u001b[49m\u001b[38;5;241;43m.\u001b[39;49m\u001b[43mpop\u001b[49m\u001b[43m(\u001b[49m\u001b[38;5;124;43m\"\u001b[39;49m\u001b[38;5;124;43mrun_id\u001b[39;49m\u001b[38;5;124;43m\"\u001b[39;49m\u001b[43m,\u001b[49m\u001b[43m \u001b[49m\u001b[38;5;28;43;01mNone\u001b[39;49;00m\u001b[43m)\u001b[49m\u001b[43m,\u001b[49m\n\u001b[0;32m    292\u001b[0m \u001b[43m            \u001b[49m\u001b[38;5;241;43m*\u001b[39;49m\u001b[38;5;241;43m*\u001b[39;49m\u001b[43mkwargs\u001b[49m\u001b[43m,\u001b[49m\n\u001b[0;32m    293\u001b[0m \u001b[43m        \u001b[49m\u001b[43m)\u001b[49m\u001b[38;5;241m.\u001b[39mgenerations[\u001b[38;5;241m0\u001b[39m][\u001b[38;5;241m0\u001b[39m],\n\u001b[0;32m    294\u001b[0m     )\u001b[38;5;241m.\u001b[39mmessage\n",
      "File \u001b[1;32m~\\Desktop\\jupyter\\Multimodal-Alejandra\\.venv\\Lib\\site-packages\\langchain_core\\language_models\\chat_models.py:860\u001b[0m, in \u001b[0;36mBaseChatModel.generate_prompt\u001b[1;34m(self, prompts, stop, callbacks, **kwargs)\u001b[0m\n\u001b[0;32m    852\u001b[0m \u001b[38;5;28;01mdef\u001b[39;00m\u001b[38;5;250m \u001b[39m\u001b[38;5;21mgenerate_prompt\u001b[39m(\n\u001b[0;32m    853\u001b[0m     \u001b[38;5;28mself\u001b[39m,\n\u001b[0;32m    854\u001b[0m     prompts: \u001b[38;5;28mlist\u001b[39m[PromptValue],\n\u001b[1;32m   (...)\u001b[0m\n\u001b[0;32m    857\u001b[0m     \u001b[38;5;241m*\u001b[39m\u001b[38;5;241m*\u001b[39mkwargs: Any,\n\u001b[0;32m    858\u001b[0m ) \u001b[38;5;241m-\u001b[39m\u001b[38;5;241m>\u001b[39m LLMResult:\n\u001b[0;32m    859\u001b[0m     prompt_messages \u001b[38;5;241m=\u001b[39m [p\u001b[38;5;241m.\u001b[39mto_messages() \u001b[38;5;28;01mfor\u001b[39;00m p \u001b[38;5;129;01min\u001b[39;00m prompts]\n\u001b[1;32m--> 860\u001b[0m     \u001b[38;5;28;01mreturn\u001b[39;00m \u001b[38;5;28;43mself\u001b[39;49m\u001b[38;5;241;43m.\u001b[39;49m\u001b[43mgenerate\u001b[49m\u001b[43m(\u001b[49m\u001b[43mprompt_messages\u001b[49m\u001b[43m,\u001b[49m\u001b[43m \u001b[49m\u001b[43mstop\u001b[49m\u001b[38;5;241;43m=\u001b[39;49m\u001b[43mstop\u001b[49m\u001b[43m,\u001b[49m\u001b[43m \u001b[49m\u001b[43mcallbacks\u001b[49m\u001b[38;5;241;43m=\u001b[39;49m\u001b[43mcallbacks\u001b[49m\u001b[43m,\u001b[49m\u001b[43m \u001b[49m\u001b[38;5;241;43m*\u001b[39;49m\u001b[38;5;241;43m*\u001b[39;49m\u001b[43mkwargs\u001b[49m\u001b[43m)\u001b[49m\n",
      "File \u001b[1;32m~\\Desktop\\jupyter\\Multimodal-Alejandra\\.venv\\Lib\\site-packages\\langchain_core\\language_models\\chat_models.py:690\u001b[0m, in \u001b[0;36mBaseChatModel.generate\u001b[1;34m(self, messages, stop, callbacks, tags, metadata, run_name, run_id, **kwargs)\u001b[0m\n\u001b[0;32m    687\u001b[0m \u001b[38;5;28;01mfor\u001b[39;00m i, m \u001b[38;5;129;01min\u001b[39;00m \u001b[38;5;28menumerate\u001b[39m(messages):\n\u001b[0;32m    688\u001b[0m     \u001b[38;5;28;01mtry\u001b[39;00m:\n\u001b[0;32m    689\u001b[0m         results\u001b[38;5;241m.\u001b[39mappend(\n\u001b[1;32m--> 690\u001b[0m             \u001b[38;5;28;43mself\u001b[39;49m\u001b[38;5;241;43m.\u001b[39;49m\u001b[43m_generate_with_cache\u001b[49m\u001b[43m(\u001b[49m\n\u001b[0;32m    691\u001b[0m \u001b[43m                \u001b[49m\u001b[43mm\u001b[49m\u001b[43m,\u001b[49m\n\u001b[0;32m    692\u001b[0m \u001b[43m                \u001b[49m\u001b[43mstop\u001b[49m\u001b[38;5;241;43m=\u001b[39;49m\u001b[43mstop\u001b[49m\u001b[43m,\u001b[49m\n\u001b[0;32m    693\u001b[0m \u001b[43m                \u001b[49m\u001b[43mrun_manager\u001b[49m\u001b[38;5;241;43m=\u001b[39;49m\u001b[43mrun_managers\u001b[49m\u001b[43m[\u001b[49m\u001b[43mi\u001b[49m\u001b[43m]\u001b[49m\u001b[43m \u001b[49m\u001b[38;5;28;43;01mif\u001b[39;49;00m\u001b[43m \u001b[49m\u001b[43mrun_managers\u001b[49m\u001b[43m \u001b[49m\u001b[38;5;28;43;01melse\u001b[39;49;00m\u001b[43m \u001b[49m\u001b[38;5;28;43;01mNone\u001b[39;49;00m\u001b[43m,\u001b[49m\n\u001b[0;32m    694\u001b[0m \u001b[43m                \u001b[49m\u001b[38;5;241;43m*\u001b[39;49m\u001b[38;5;241;43m*\u001b[39;49m\u001b[43mkwargs\u001b[49m\u001b[43m,\u001b[49m\n\u001b[0;32m    695\u001b[0m \u001b[43m            \u001b[49m\u001b[43m)\u001b[49m\n\u001b[0;32m    696\u001b[0m         )\n\u001b[0;32m    697\u001b[0m     \u001b[38;5;28;01mexcept\u001b[39;00m \u001b[38;5;167;01mBaseException\u001b[39;00m \u001b[38;5;28;01mas\u001b[39;00m e:\n\u001b[0;32m    698\u001b[0m         \u001b[38;5;28;01mif\u001b[39;00m run_managers:\n",
      "File \u001b[1;32m~\\Desktop\\jupyter\\Multimodal-Alejandra\\.venv\\Lib\\site-packages\\langchain_core\\language_models\\chat_models.py:925\u001b[0m, in \u001b[0;36mBaseChatModel._generate_with_cache\u001b[1;34m(self, messages, stop, run_manager, **kwargs)\u001b[0m\n\u001b[0;32m    923\u001b[0m \u001b[38;5;28;01melse\u001b[39;00m:\n\u001b[0;32m    924\u001b[0m     \u001b[38;5;28;01mif\u001b[39;00m inspect\u001b[38;5;241m.\u001b[39msignature(\u001b[38;5;28mself\u001b[39m\u001b[38;5;241m.\u001b[39m_generate)\u001b[38;5;241m.\u001b[39mparameters\u001b[38;5;241m.\u001b[39mget(\u001b[38;5;124m\"\u001b[39m\u001b[38;5;124mrun_manager\u001b[39m\u001b[38;5;124m\"\u001b[39m):\n\u001b[1;32m--> 925\u001b[0m         result \u001b[38;5;241m=\u001b[39m \u001b[38;5;28;43mself\u001b[39;49m\u001b[38;5;241;43m.\u001b[39;49m\u001b[43m_generate\u001b[49m\u001b[43m(\u001b[49m\n\u001b[0;32m    926\u001b[0m \u001b[43m            \u001b[49m\u001b[43mmessages\u001b[49m\u001b[43m,\u001b[49m\u001b[43m \u001b[49m\u001b[43mstop\u001b[49m\u001b[38;5;241;43m=\u001b[39;49m\u001b[43mstop\u001b[49m\u001b[43m,\u001b[49m\u001b[43m \u001b[49m\u001b[43mrun_manager\u001b[49m\u001b[38;5;241;43m=\u001b[39;49m\u001b[43mrun_manager\u001b[49m\u001b[43m,\u001b[49m\u001b[43m \u001b[49m\u001b[38;5;241;43m*\u001b[39;49m\u001b[38;5;241;43m*\u001b[39;49m\u001b[43mkwargs\u001b[49m\n\u001b[0;32m    927\u001b[0m \u001b[43m        \u001b[49m\u001b[43m)\u001b[49m\n\u001b[0;32m    928\u001b[0m     \u001b[38;5;28;01melse\u001b[39;00m:\n\u001b[0;32m    929\u001b[0m         result \u001b[38;5;241m=\u001b[39m \u001b[38;5;28mself\u001b[39m\u001b[38;5;241m.\u001b[39m_generate(messages, stop\u001b[38;5;241m=\u001b[39mstop, \u001b[38;5;241m*\u001b[39m\u001b[38;5;241m*\u001b[39mkwargs)\n",
      "File \u001b[1;32m~\\Desktop\\jupyter\\Multimodal-Alejandra\\.venv\\Lib\\site-packages\\langchain_groq\\chat_models.py:480\u001b[0m, in \u001b[0;36mChatGroq._generate\u001b[1;34m(self, messages, stop, run_manager, **kwargs)\u001b[0m\n\u001b[0;32m    475\u001b[0m message_dicts, params \u001b[38;5;241m=\u001b[39m \u001b[38;5;28mself\u001b[39m\u001b[38;5;241m.\u001b[39m_create_message_dicts(messages, stop)\n\u001b[0;32m    476\u001b[0m params \u001b[38;5;241m=\u001b[39m {\n\u001b[0;32m    477\u001b[0m     \u001b[38;5;241m*\u001b[39m\u001b[38;5;241m*\u001b[39mparams,\n\u001b[0;32m    478\u001b[0m     \u001b[38;5;241m*\u001b[39m\u001b[38;5;241m*\u001b[39mkwargs,\n\u001b[0;32m    479\u001b[0m }\n\u001b[1;32m--> 480\u001b[0m response \u001b[38;5;241m=\u001b[39m \u001b[38;5;28;43mself\u001b[39;49m\u001b[38;5;241;43m.\u001b[39;49m\u001b[43mclient\u001b[49m\u001b[38;5;241;43m.\u001b[39;49m\u001b[43mcreate\u001b[49m\u001b[43m(\u001b[49m\u001b[43mmessages\u001b[49m\u001b[38;5;241;43m=\u001b[39;49m\u001b[43mmessage_dicts\u001b[49m\u001b[43m,\u001b[49m\u001b[43m \u001b[49m\u001b[38;5;241;43m*\u001b[39;49m\u001b[38;5;241;43m*\u001b[39;49m\u001b[43mparams\u001b[49m\u001b[43m)\u001b[49m\n\u001b[0;32m    481\u001b[0m \u001b[38;5;28;01mreturn\u001b[39;00m \u001b[38;5;28mself\u001b[39m\u001b[38;5;241m.\u001b[39m_create_chat_result(response)\n",
      "File \u001b[1;32m~\\Desktop\\jupyter\\Multimodal-Alejandra\\.venv\\Lib\\site-packages\\groq\\resources\\chat\\completions.py:322\u001b[0m, in \u001b[0;36mCompletions.create\u001b[1;34m(self, messages, model, frequency_penalty, function_call, functions, logit_bias, logprobs, max_completion_tokens, max_tokens, n, parallel_tool_calls, presence_penalty, reasoning_format, response_format, seed, service_tier, stop, stream, temperature, tool_choice, tools, top_logprobs, top_p, user, extra_headers, extra_query, extra_body, timeout)\u001b[0m\n\u001b[0;32m    166\u001b[0m \u001b[38;5;28;01mdef\u001b[39;00m\u001b[38;5;250m \u001b[39m\u001b[38;5;21mcreate\u001b[39m(\n\u001b[0;32m    167\u001b[0m     \u001b[38;5;28mself\u001b[39m,\n\u001b[0;32m    168\u001b[0m     \u001b[38;5;241m*\u001b[39m,\n\u001b[1;32m   (...)\u001b[0m\n\u001b[0;32m    198\u001b[0m     timeout: \u001b[38;5;28mfloat\u001b[39m \u001b[38;5;241m|\u001b[39m httpx\u001b[38;5;241m.\u001b[39mTimeout \u001b[38;5;241m|\u001b[39m \u001b[38;5;28;01mNone\u001b[39;00m \u001b[38;5;241m|\u001b[39m NotGiven \u001b[38;5;241m=\u001b[39m NOT_GIVEN,\n\u001b[0;32m    199\u001b[0m ) \u001b[38;5;241m-\u001b[39m\u001b[38;5;241m>\u001b[39m ChatCompletion \u001b[38;5;241m|\u001b[39m Stream[ChatCompletionChunk]:\n\u001b[0;32m    200\u001b[0m \u001b[38;5;250m    \u001b[39m\u001b[38;5;124;03m\"\"\"\u001b[39;00m\n\u001b[0;32m    201\u001b[0m \u001b[38;5;124;03m    Creates a model response for the given chat conversation.\u001b[39;00m\n\u001b[0;32m    202\u001b[0m \n\u001b[1;32m   (...)\u001b[0m\n\u001b[0;32m    320\u001b[0m \u001b[38;5;124;03m      timeout: Override the client-level default timeout for this request, in seconds\u001b[39;00m\n\u001b[0;32m    321\u001b[0m \u001b[38;5;124;03m    \"\"\"\u001b[39;00m\n\u001b[1;32m--> 322\u001b[0m     \u001b[38;5;28;01mreturn\u001b[39;00m \u001b[38;5;28;43mself\u001b[39;49m\u001b[38;5;241;43m.\u001b[39;49m\u001b[43m_post\u001b[49m\u001b[43m(\u001b[49m\n\u001b[0;32m    323\u001b[0m \u001b[43m        \u001b[49m\u001b[38;5;124;43m\"\u001b[39;49m\u001b[38;5;124;43m/openai/v1/chat/completions\u001b[39;49m\u001b[38;5;124;43m\"\u001b[39;49m\u001b[43m,\u001b[49m\n\u001b[0;32m    324\u001b[0m \u001b[43m        \u001b[49m\u001b[43mbody\u001b[49m\u001b[38;5;241;43m=\u001b[39;49m\u001b[43mmaybe_transform\u001b[49m\u001b[43m(\u001b[49m\n\u001b[0;32m    325\u001b[0m \u001b[43m            \u001b[49m\u001b[43m{\u001b[49m\n\u001b[0;32m    326\u001b[0m \u001b[43m                \u001b[49m\u001b[38;5;124;43m\"\u001b[39;49m\u001b[38;5;124;43mmessages\u001b[39;49m\u001b[38;5;124;43m\"\u001b[39;49m\u001b[43m:\u001b[49m\u001b[43m \u001b[49m\u001b[43mmessages\u001b[49m\u001b[43m,\u001b[49m\n\u001b[0;32m    327\u001b[0m \u001b[43m                \u001b[49m\u001b[38;5;124;43m\"\u001b[39;49m\u001b[38;5;124;43mmodel\u001b[39;49m\u001b[38;5;124;43m\"\u001b[39;49m\u001b[43m:\u001b[49m\u001b[43m \u001b[49m\u001b[43mmodel\u001b[49m\u001b[43m,\u001b[49m\n\u001b[0;32m    328\u001b[0m \u001b[43m                \u001b[49m\u001b[38;5;124;43m\"\u001b[39;49m\u001b[38;5;124;43mfrequency_penalty\u001b[39;49m\u001b[38;5;124;43m\"\u001b[39;49m\u001b[43m:\u001b[49m\u001b[43m \u001b[49m\u001b[43mfrequency_penalty\u001b[49m\u001b[43m,\u001b[49m\n\u001b[0;32m    329\u001b[0m \u001b[43m                \u001b[49m\u001b[38;5;124;43m\"\u001b[39;49m\u001b[38;5;124;43mfunction_call\u001b[39;49m\u001b[38;5;124;43m\"\u001b[39;49m\u001b[43m:\u001b[49m\u001b[43m \u001b[49m\u001b[43mfunction_call\u001b[49m\u001b[43m,\u001b[49m\n\u001b[0;32m    330\u001b[0m \u001b[43m                \u001b[49m\u001b[38;5;124;43m\"\u001b[39;49m\u001b[38;5;124;43mfunctions\u001b[39;49m\u001b[38;5;124;43m\"\u001b[39;49m\u001b[43m:\u001b[49m\u001b[43m \u001b[49m\u001b[43mfunctions\u001b[49m\u001b[43m,\u001b[49m\n\u001b[0;32m    331\u001b[0m \u001b[43m                \u001b[49m\u001b[38;5;124;43m\"\u001b[39;49m\u001b[38;5;124;43mlogit_bias\u001b[39;49m\u001b[38;5;124;43m\"\u001b[39;49m\u001b[43m:\u001b[49m\u001b[43m \u001b[49m\u001b[43mlogit_bias\u001b[49m\u001b[43m,\u001b[49m\n\u001b[0;32m    332\u001b[0m \u001b[43m                \u001b[49m\u001b[38;5;124;43m\"\u001b[39;49m\u001b[38;5;124;43mlogprobs\u001b[39;49m\u001b[38;5;124;43m\"\u001b[39;49m\u001b[43m:\u001b[49m\u001b[43m \u001b[49m\u001b[43mlogprobs\u001b[49m\u001b[43m,\u001b[49m\n\u001b[0;32m    333\u001b[0m \u001b[43m                \u001b[49m\u001b[38;5;124;43m\"\u001b[39;49m\u001b[38;5;124;43mmax_completion_tokens\u001b[39;49m\u001b[38;5;124;43m\"\u001b[39;49m\u001b[43m:\u001b[49m\u001b[43m \u001b[49m\u001b[43mmax_completion_tokens\u001b[49m\u001b[43m,\u001b[49m\n\u001b[0;32m    334\u001b[0m \u001b[43m                \u001b[49m\u001b[38;5;124;43m\"\u001b[39;49m\u001b[38;5;124;43mmax_tokens\u001b[39;49m\u001b[38;5;124;43m\"\u001b[39;49m\u001b[43m:\u001b[49m\u001b[43m \u001b[49m\u001b[43mmax_tokens\u001b[49m\u001b[43m,\u001b[49m\n\u001b[0;32m    335\u001b[0m \u001b[43m                \u001b[49m\u001b[38;5;124;43m\"\u001b[39;49m\u001b[38;5;124;43mn\u001b[39;49m\u001b[38;5;124;43m\"\u001b[39;49m\u001b[43m:\u001b[49m\u001b[43m \u001b[49m\u001b[43mn\u001b[49m\u001b[43m,\u001b[49m\n\u001b[0;32m    336\u001b[0m \u001b[43m                \u001b[49m\u001b[38;5;124;43m\"\u001b[39;49m\u001b[38;5;124;43mparallel_tool_calls\u001b[39;49m\u001b[38;5;124;43m\"\u001b[39;49m\u001b[43m:\u001b[49m\u001b[43m \u001b[49m\u001b[43mparallel_tool_calls\u001b[49m\u001b[43m,\u001b[49m\n\u001b[0;32m    337\u001b[0m \u001b[43m                \u001b[49m\u001b[38;5;124;43m\"\u001b[39;49m\u001b[38;5;124;43mpresence_penalty\u001b[39;49m\u001b[38;5;124;43m\"\u001b[39;49m\u001b[43m:\u001b[49m\u001b[43m \u001b[49m\u001b[43mpresence_penalty\u001b[49m\u001b[43m,\u001b[49m\n\u001b[0;32m    338\u001b[0m \u001b[43m                \u001b[49m\u001b[38;5;124;43m\"\u001b[39;49m\u001b[38;5;124;43mreasoning_format\u001b[39;49m\u001b[38;5;124;43m\"\u001b[39;49m\u001b[43m:\u001b[49m\u001b[43m \u001b[49m\u001b[43mreasoning_format\u001b[49m\u001b[43m,\u001b[49m\n\u001b[0;32m    339\u001b[0m \u001b[43m                \u001b[49m\u001b[38;5;124;43m\"\u001b[39;49m\u001b[38;5;124;43mresponse_format\u001b[39;49m\u001b[38;5;124;43m\"\u001b[39;49m\u001b[43m:\u001b[49m\u001b[43m \u001b[49m\u001b[43mresponse_format\u001b[49m\u001b[43m,\u001b[49m\n\u001b[0;32m    340\u001b[0m \u001b[43m                \u001b[49m\u001b[38;5;124;43m\"\u001b[39;49m\u001b[38;5;124;43mseed\u001b[39;49m\u001b[38;5;124;43m\"\u001b[39;49m\u001b[43m:\u001b[49m\u001b[43m \u001b[49m\u001b[43mseed\u001b[49m\u001b[43m,\u001b[49m\n\u001b[0;32m    341\u001b[0m \u001b[43m                \u001b[49m\u001b[38;5;124;43m\"\u001b[39;49m\u001b[38;5;124;43mservice_tier\u001b[39;49m\u001b[38;5;124;43m\"\u001b[39;49m\u001b[43m:\u001b[49m\u001b[43m \u001b[49m\u001b[43mservice_tier\u001b[49m\u001b[43m,\u001b[49m\n\u001b[0;32m    342\u001b[0m \u001b[43m                \u001b[49m\u001b[38;5;124;43m\"\u001b[39;49m\u001b[38;5;124;43mstop\u001b[39;49m\u001b[38;5;124;43m\"\u001b[39;49m\u001b[43m:\u001b[49m\u001b[43m \u001b[49m\u001b[43mstop\u001b[49m\u001b[43m,\u001b[49m\n\u001b[0;32m    343\u001b[0m \u001b[43m                \u001b[49m\u001b[38;5;124;43m\"\u001b[39;49m\u001b[38;5;124;43mstream\u001b[39;49m\u001b[38;5;124;43m\"\u001b[39;49m\u001b[43m:\u001b[49m\u001b[43m \u001b[49m\u001b[43mstream\u001b[49m\u001b[43m,\u001b[49m\n\u001b[0;32m    344\u001b[0m \u001b[43m                \u001b[49m\u001b[38;5;124;43m\"\u001b[39;49m\u001b[38;5;124;43mtemperature\u001b[39;49m\u001b[38;5;124;43m\"\u001b[39;49m\u001b[43m:\u001b[49m\u001b[43m \u001b[49m\u001b[43mtemperature\u001b[49m\u001b[43m,\u001b[49m\n\u001b[0;32m    345\u001b[0m \u001b[43m                \u001b[49m\u001b[38;5;124;43m\"\u001b[39;49m\u001b[38;5;124;43mtool_choice\u001b[39;49m\u001b[38;5;124;43m\"\u001b[39;49m\u001b[43m:\u001b[49m\u001b[43m \u001b[49m\u001b[43mtool_choice\u001b[49m\u001b[43m,\u001b[49m\n\u001b[0;32m    346\u001b[0m \u001b[43m                \u001b[49m\u001b[38;5;124;43m\"\u001b[39;49m\u001b[38;5;124;43mtools\u001b[39;49m\u001b[38;5;124;43m\"\u001b[39;49m\u001b[43m:\u001b[49m\u001b[43m \u001b[49m\u001b[43mtools\u001b[49m\u001b[43m,\u001b[49m\n\u001b[0;32m    347\u001b[0m \u001b[43m                \u001b[49m\u001b[38;5;124;43m\"\u001b[39;49m\u001b[38;5;124;43mtop_logprobs\u001b[39;49m\u001b[38;5;124;43m\"\u001b[39;49m\u001b[43m:\u001b[49m\u001b[43m \u001b[49m\u001b[43mtop_logprobs\u001b[49m\u001b[43m,\u001b[49m\n\u001b[0;32m    348\u001b[0m \u001b[43m                \u001b[49m\u001b[38;5;124;43m\"\u001b[39;49m\u001b[38;5;124;43mtop_p\u001b[39;49m\u001b[38;5;124;43m\"\u001b[39;49m\u001b[43m:\u001b[49m\u001b[43m \u001b[49m\u001b[43mtop_p\u001b[49m\u001b[43m,\u001b[49m\n\u001b[0;32m    349\u001b[0m \u001b[43m                \u001b[49m\u001b[38;5;124;43m\"\u001b[39;49m\u001b[38;5;124;43muser\u001b[39;49m\u001b[38;5;124;43m\"\u001b[39;49m\u001b[43m:\u001b[49m\u001b[43m \u001b[49m\u001b[43muser\u001b[49m\u001b[43m,\u001b[49m\n\u001b[0;32m    350\u001b[0m \u001b[43m            \u001b[49m\u001b[43m}\u001b[49m\u001b[43m,\u001b[49m\n\u001b[0;32m    351\u001b[0m \u001b[43m            \u001b[49m\u001b[43mcompletion_create_params\u001b[49m\u001b[38;5;241;43m.\u001b[39;49m\u001b[43mCompletionCreateParams\u001b[49m\u001b[43m,\u001b[49m\n\u001b[0;32m    352\u001b[0m \u001b[43m        \u001b[49m\u001b[43m)\u001b[49m\u001b[43m,\u001b[49m\n\u001b[0;32m    353\u001b[0m \u001b[43m        \u001b[49m\u001b[43moptions\u001b[49m\u001b[38;5;241;43m=\u001b[39;49m\u001b[43mmake_request_options\u001b[49m\u001b[43m(\u001b[49m\n\u001b[0;32m    354\u001b[0m \u001b[43m            \u001b[49m\u001b[43mextra_headers\u001b[49m\u001b[38;5;241;43m=\u001b[39;49m\u001b[43mextra_headers\u001b[49m\u001b[43m,\u001b[49m\u001b[43m \u001b[49m\u001b[43mextra_query\u001b[49m\u001b[38;5;241;43m=\u001b[39;49m\u001b[43mextra_query\u001b[49m\u001b[43m,\u001b[49m\u001b[43m \u001b[49m\u001b[43mextra_body\u001b[49m\u001b[38;5;241;43m=\u001b[39;49m\u001b[43mextra_body\u001b[49m\u001b[43m,\u001b[49m\u001b[43m \u001b[49m\u001b[43mtimeout\u001b[49m\u001b[38;5;241;43m=\u001b[39;49m\u001b[43mtimeout\u001b[49m\n\u001b[0;32m    355\u001b[0m \u001b[43m        \u001b[49m\u001b[43m)\u001b[49m\u001b[43m,\u001b[49m\n\u001b[0;32m    356\u001b[0m \u001b[43m        \u001b[49m\u001b[43mcast_to\u001b[49m\u001b[38;5;241;43m=\u001b[39;49m\u001b[43mChatCompletion\u001b[49m\u001b[43m,\u001b[49m\n\u001b[0;32m    357\u001b[0m \u001b[43m        \u001b[49m\u001b[43mstream\u001b[49m\u001b[38;5;241;43m=\u001b[39;49m\u001b[43mstream\u001b[49m\u001b[43m \u001b[49m\u001b[38;5;129;43;01mor\u001b[39;49;00m\u001b[43m \u001b[49m\u001b[38;5;28;43;01mFalse\u001b[39;49;00m\u001b[43m,\u001b[49m\n\u001b[0;32m    358\u001b[0m \u001b[43m        \u001b[49m\u001b[43mstream_cls\u001b[49m\u001b[38;5;241;43m=\u001b[39;49m\u001b[43mStream\u001b[49m\u001b[43m[\u001b[49m\u001b[43mChatCompletionChunk\u001b[49m\u001b[43m]\u001b[49m\u001b[43m,\u001b[49m\n\u001b[0;32m    359\u001b[0m \u001b[43m    \u001b[49m\u001b[43m)\u001b[49m\n",
      "File \u001b[1;32m~\\Desktop\\jupyter\\Multimodal-Alejandra\\.venv\\Lib\\site-packages\\groq\\_base_client.py:1266\u001b[0m, in \u001b[0;36mSyncAPIClient.post\u001b[1;34m(self, path, cast_to, body, options, files, stream, stream_cls)\u001b[0m\n\u001b[0;32m   1252\u001b[0m \u001b[38;5;28;01mdef\u001b[39;00m\u001b[38;5;250m \u001b[39m\u001b[38;5;21mpost\u001b[39m(\n\u001b[0;32m   1253\u001b[0m     \u001b[38;5;28mself\u001b[39m,\n\u001b[0;32m   1254\u001b[0m     path: \u001b[38;5;28mstr\u001b[39m,\n\u001b[1;32m   (...)\u001b[0m\n\u001b[0;32m   1261\u001b[0m     stream_cls: \u001b[38;5;28mtype\u001b[39m[_StreamT] \u001b[38;5;241m|\u001b[39m \u001b[38;5;28;01mNone\u001b[39;00m \u001b[38;5;241m=\u001b[39m \u001b[38;5;28;01mNone\u001b[39;00m,\n\u001b[0;32m   1262\u001b[0m ) \u001b[38;5;241m-\u001b[39m\u001b[38;5;241m>\u001b[39m ResponseT \u001b[38;5;241m|\u001b[39m _StreamT:\n\u001b[0;32m   1263\u001b[0m     opts \u001b[38;5;241m=\u001b[39m FinalRequestOptions\u001b[38;5;241m.\u001b[39mconstruct(\n\u001b[0;32m   1264\u001b[0m         method\u001b[38;5;241m=\u001b[39m\u001b[38;5;124m\"\u001b[39m\u001b[38;5;124mpost\u001b[39m\u001b[38;5;124m\"\u001b[39m, url\u001b[38;5;241m=\u001b[39mpath, json_data\u001b[38;5;241m=\u001b[39mbody, files\u001b[38;5;241m=\u001b[39mto_httpx_files(files), \u001b[38;5;241m*\u001b[39m\u001b[38;5;241m*\u001b[39moptions\n\u001b[0;32m   1265\u001b[0m     )\n\u001b[1;32m-> 1266\u001b[0m     \u001b[38;5;28;01mreturn\u001b[39;00m cast(ResponseT, \u001b[38;5;28;43mself\u001b[39;49m\u001b[38;5;241;43m.\u001b[39;49m\u001b[43mrequest\u001b[49m\u001b[43m(\u001b[49m\u001b[43mcast_to\u001b[49m\u001b[43m,\u001b[49m\u001b[43m \u001b[49m\u001b[43mopts\u001b[49m\u001b[43m,\u001b[49m\u001b[43m \u001b[49m\u001b[43mstream\u001b[49m\u001b[38;5;241;43m=\u001b[39;49m\u001b[43mstream\u001b[49m\u001b[43m,\u001b[49m\u001b[43m \u001b[49m\u001b[43mstream_cls\u001b[49m\u001b[38;5;241;43m=\u001b[39;49m\u001b[43mstream_cls\u001b[49m\u001b[43m)\u001b[49m)\n",
      "File \u001b[1;32m~\\Desktop\\jupyter\\Multimodal-Alejandra\\.venv\\Lib\\site-packages\\groq\\_base_client.py:958\u001b[0m, in \u001b[0;36mSyncAPIClient.request\u001b[1;34m(self, cast_to, options, remaining_retries, stream, stream_cls)\u001b[0m\n\u001b[0;32m    955\u001b[0m \u001b[38;5;28;01melse\u001b[39;00m:\n\u001b[0;32m    956\u001b[0m     retries_taken \u001b[38;5;241m=\u001b[39m \u001b[38;5;241m0\u001b[39m\n\u001b[1;32m--> 958\u001b[0m \u001b[38;5;28;01mreturn\u001b[39;00m \u001b[38;5;28;43mself\u001b[39;49m\u001b[38;5;241;43m.\u001b[39;49m\u001b[43m_request\u001b[49m\u001b[43m(\u001b[49m\n\u001b[0;32m    959\u001b[0m \u001b[43m    \u001b[49m\u001b[43mcast_to\u001b[49m\u001b[38;5;241;43m=\u001b[39;49m\u001b[43mcast_to\u001b[49m\u001b[43m,\u001b[49m\n\u001b[0;32m    960\u001b[0m \u001b[43m    \u001b[49m\u001b[43moptions\u001b[49m\u001b[38;5;241;43m=\u001b[39;49m\u001b[43moptions\u001b[49m\u001b[43m,\u001b[49m\n\u001b[0;32m    961\u001b[0m \u001b[43m    \u001b[49m\u001b[43mstream\u001b[49m\u001b[38;5;241;43m=\u001b[39;49m\u001b[43mstream\u001b[49m\u001b[43m,\u001b[49m\n\u001b[0;32m    962\u001b[0m \u001b[43m    \u001b[49m\u001b[43mstream_cls\u001b[49m\u001b[38;5;241;43m=\u001b[39;49m\u001b[43mstream_cls\u001b[49m\u001b[43m,\u001b[49m\n\u001b[0;32m    963\u001b[0m \u001b[43m    \u001b[49m\u001b[43mretries_taken\u001b[49m\u001b[38;5;241;43m=\u001b[39;49m\u001b[43mretries_taken\u001b[49m\u001b[43m,\u001b[49m\n\u001b[0;32m    964\u001b[0m \u001b[43m\u001b[49m\u001b[43m)\u001b[49m\n",
      "File \u001b[1;32m~\\Desktop\\jupyter\\Multimodal-Alejandra\\.venv\\Lib\\site-packages\\groq\\_base_client.py:1046\u001b[0m, in \u001b[0;36mSyncAPIClient._request\u001b[1;34m(self, cast_to, options, retries_taken, stream, stream_cls)\u001b[0m\n\u001b[0;32m   1044\u001b[0m \u001b[38;5;28;01mif\u001b[39;00m remaining_retries \u001b[38;5;241m>\u001b[39m \u001b[38;5;241m0\u001b[39m \u001b[38;5;129;01mand\u001b[39;00m \u001b[38;5;28mself\u001b[39m\u001b[38;5;241m.\u001b[39m_should_retry(err\u001b[38;5;241m.\u001b[39mresponse):\n\u001b[0;32m   1045\u001b[0m     err\u001b[38;5;241m.\u001b[39mresponse\u001b[38;5;241m.\u001b[39mclose()\n\u001b[1;32m-> 1046\u001b[0m     \u001b[38;5;28;01mreturn\u001b[39;00m \u001b[38;5;28;43mself\u001b[39;49m\u001b[38;5;241;43m.\u001b[39;49m\u001b[43m_retry_request\u001b[49m\u001b[43m(\u001b[49m\n\u001b[0;32m   1047\u001b[0m \u001b[43m        \u001b[49m\u001b[43minput_options\u001b[49m\u001b[43m,\u001b[49m\n\u001b[0;32m   1048\u001b[0m \u001b[43m        \u001b[49m\u001b[43mcast_to\u001b[49m\u001b[43m,\u001b[49m\n\u001b[0;32m   1049\u001b[0m \u001b[43m        \u001b[49m\u001b[43mretries_taken\u001b[49m\u001b[38;5;241;43m=\u001b[39;49m\u001b[43mretries_taken\u001b[49m\u001b[43m,\u001b[49m\n\u001b[0;32m   1050\u001b[0m \u001b[43m        \u001b[49m\u001b[43mresponse_headers\u001b[49m\u001b[38;5;241;43m=\u001b[39;49m\u001b[43merr\u001b[49m\u001b[38;5;241;43m.\u001b[39;49m\u001b[43mresponse\u001b[49m\u001b[38;5;241;43m.\u001b[39;49m\u001b[43mheaders\u001b[49m\u001b[43m,\u001b[49m\n\u001b[0;32m   1051\u001b[0m \u001b[43m        \u001b[49m\u001b[43mstream\u001b[49m\u001b[38;5;241;43m=\u001b[39;49m\u001b[43mstream\u001b[49m\u001b[43m,\u001b[49m\n\u001b[0;32m   1052\u001b[0m \u001b[43m        \u001b[49m\u001b[43mstream_cls\u001b[49m\u001b[38;5;241;43m=\u001b[39;49m\u001b[43mstream_cls\u001b[49m\u001b[43m,\u001b[49m\n\u001b[0;32m   1053\u001b[0m \u001b[43m    \u001b[49m\u001b[43m)\u001b[49m\n\u001b[0;32m   1055\u001b[0m \u001b[38;5;66;03m# If the response is streamed then we need to explicitly read the response\u001b[39;00m\n\u001b[0;32m   1056\u001b[0m \u001b[38;5;66;03m# to completion before attempting to access the response text.\u001b[39;00m\n\u001b[0;32m   1057\u001b[0m \u001b[38;5;28;01mif\u001b[39;00m \u001b[38;5;129;01mnot\u001b[39;00m err\u001b[38;5;241m.\u001b[39mresponse\u001b[38;5;241m.\u001b[39mis_closed:\n",
      "File \u001b[1;32m~\\Desktop\\jupyter\\Multimodal-Alejandra\\.venv\\Lib\\site-packages\\groq\\_base_client.py:1095\u001b[0m, in \u001b[0;36mSyncAPIClient._retry_request\u001b[1;34m(self, options, cast_to, retries_taken, response_headers, stream, stream_cls)\u001b[0m\n\u001b[0;32m   1091\u001b[0m \u001b[38;5;66;03m# In a synchronous context we are blocking the entire thread. Up to the library user to run the client in a\u001b[39;00m\n\u001b[0;32m   1092\u001b[0m \u001b[38;5;66;03m# different thread if necessary.\u001b[39;00m\n\u001b[0;32m   1093\u001b[0m time\u001b[38;5;241m.\u001b[39msleep(timeout)\n\u001b[1;32m-> 1095\u001b[0m \u001b[38;5;28;01mreturn\u001b[39;00m \u001b[38;5;28;43mself\u001b[39;49m\u001b[38;5;241;43m.\u001b[39;49m\u001b[43m_request\u001b[49m\u001b[43m(\u001b[49m\n\u001b[0;32m   1096\u001b[0m \u001b[43m    \u001b[49m\u001b[43moptions\u001b[49m\u001b[38;5;241;43m=\u001b[39;49m\u001b[43moptions\u001b[49m\u001b[43m,\u001b[49m\n\u001b[0;32m   1097\u001b[0m \u001b[43m    \u001b[49m\u001b[43mcast_to\u001b[49m\u001b[38;5;241;43m=\u001b[39;49m\u001b[43mcast_to\u001b[49m\u001b[43m,\u001b[49m\n\u001b[0;32m   1098\u001b[0m \u001b[43m    \u001b[49m\u001b[43mretries_taken\u001b[49m\u001b[38;5;241;43m=\u001b[39;49m\u001b[43mretries_taken\u001b[49m\u001b[43m \u001b[49m\u001b[38;5;241;43m+\u001b[39;49m\u001b[43m \u001b[49m\u001b[38;5;241;43m1\u001b[39;49m\u001b[43m,\u001b[49m\n\u001b[0;32m   1099\u001b[0m \u001b[43m    \u001b[49m\u001b[43mstream\u001b[49m\u001b[38;5;241;43m=\u001b[39;49m\u001b[43mstream\u001b[49m\u001b[43m,\u001b[49m\n\u001b[0;32m   1100\u001b[0m \u001b[43m    \u001b[49m\u001b[43mstream_cls\u001b[49m\u001b[38;5;241;43m=\u001b[39;49m\u001b[43mstream_cls\u001b[49m\u001b[43m,\u001b[49m\n\u001b[0;32m   1101\u001b[0m \u001b[43m\u001b[49m\u001b[43m)\u001b[49m\n",
      "File \u001b[1;32m~\\Desktop\\jupyter\\Multimodal-Alejandra\\.venv\\Lib\\site-packages\\groq\\_base_client.py:1046\u001b[0m, in \u001b[0;36mSyncAPIClient._request\u001b[1;34m(self, cast_to, options, retries_taken, stream, stream_cls)\u001b[0m\n\u001b[0;32m   1044\u001b[0m \u001b[38;5;28;01mif\u001b[39;00m remaining_retries \u001b[38;5;241m>\u001b[39m \u001b[38;5;241m0\u001b[39m \u001b[38;5;129;01mand\u001b[39;00m \u001b[38;5;28mself\u001b[39m\u001b[38;5;241m.\u001b[39m_should_retry(err\u001b[38;5;241m.\u001b[39mresponse):\n\u001b[0;32m   1045\u001b[0m     err\u001b[38;5;241m.\u001b[39mresponse\u001b[38;5;241m.\u001b[39mclose()\n\u001b[1;32m-> 1046\u001b[0m     \u001b[38;5;28;01mreturn\u001b[39;00m \u001b[38;5;28;43mself\u001b[39;49m\u001b[38;5;241;43m.\u001b[39;49m\u001b[43m_retry_request\u001b[49m\u001b[43m(\u001b[49m\n\u001b[0;32m   1047\u001b[0m \u001b[43m        \u001b[49m\u001b[43minput_options\u001b[49m\u001b[43m,\u001b[49m\n\u001b[0;32m   1048\u001b[0m \u001b[43m        \u001b[49m\u001b[43mcast_to\u001b[49m\u001b[43m,\u001b[49m\n\u001b[0;32m   1049\u001b[0m \u001b[43m        \u001b[49m\u001b[43mretries_taken\u001b[49m\u001b[38;5;241;43m=\u001b[39;49m\u001b[43mretries_taken\u001b[49m\u001b[43m,\u001b[49m\n\u001b[0;32m   1050\u001b[0m \u001b[43m        \u001b[49m\u001b[43mresponse_headers\u001b[49m\u001b[38;5;241;43m=\u001b[39;49m\u001b[43merr\u001b[49m\u001b[38;5;241;43m.\u001b[39;49m\u001b[43mresponse\u001b[49m\u001b[38;5;241;43m.\u001b[39;49m\u001b[43mheaders\u001b[49m\u001b[43m,\u001b[49m\n\u001b[0;32m   1051\u001b[0m \u001b[43m        \u001b[49m\u001b[43mstream\u001b[49m\u001b[38;5;241;43m=\u001b[39;49m\u001b[43mstream\u001b[49m\u001b[43m,\u001b[49m\n\u001b[0;32m   1052\u001b[0m \u001b[43m        \u001b[49m\u001b[43mstream_cls\u001b[49m\u001b[38;5;241;43m=\u001b[39;49m\u001b[43mstream_cls\u001b[49m\u001b[43m,\u001b[49m\n\u001b[0;32m   1053\u001b[0m \u001b[43m    \u001b[49m\u001b[43m)\u001b[49m\n\u001b[0;32m   1055\u001b[0m \u001b[38;5;66;03m# If the response is streamed then we need to explicitly read the response\u001b[39;00m\n\u001b[0;32m   1056\u001b[0m \u001b[38;5;66;03m# to completion before attempting to access the response text.\u001b[39;00m\n\u001b[0;32m   1057\u001b[0m \u001b[38;5;28;01mif\u001b[39;00m \u001b[38;5;129;01mnot\u001b[39;00m err\u001b[38;5;241m.\u001b[39mresponse\u001b[38;5;241m.\u001b[39mis_closed:\n",
      "File \u001b[1;32m~\\Desktop\\jupyter\\Multimodal-Alejandra\\.venv\\Lib\\site-packages\\groq\\_base_client.py:1095\u001b[0m, in \u001b[0;36mSyncAPIClient._retry_request\u001b[1;34m(self, options, cast_to, retries_taken, response_headers, stream, stream_cls)\u001b[0m\n\u001b[0;32m   1091\u001b[0m \u001b[38;5;66;03m# In a synchronous context we are blocking the entire thread. Up to the library user to run the client in a\u001b[39;00m\n\u001b[0;32m   1092\u001b[0m \u001b[38;5;66;03m# different thread if necessary.\u001b[39;00m\n\u001b[0;32m   1093\u001b[0m time\u001b[38;5;241m.\u001b[39msleep(timeout)\n\u001b[1;32m-> 1095\u001b[0m \u001b[38;5;28;01mreturn\u001b[39;00m \u001b[38;5;28;43mself\u001b[39;49m\u001b[38;5;241;43m.\u001b[39;49m\u001b[43m_request\u001b[49m\u001b[43m(\u001b[49m\n\u001b[0;32m   1096\u001b[0m \u001b[43m    \u001b[49m\u001b[43moptions\u001b[49m\u001b[38;5;241;43m=\u001b[39;49m\u001b[43moptions\u001b[49m\u001b[43m,\u001b[49m\n\u001b[0;32m   1097\u001b[0m \u001b[43m    \u001b[49m\u001b[43mcast_to\u001b[49m\u001b[38;5;241;43m=\u001b[39;49m\u001b[43mcast_to\u001b[49m\u001b[43m,\u001b[49m\n\u001b[0;32m   1098\u001b[0m \u001b[43m    \u001b[49m\u001b[43mretries_taken\u001b[49m\u001b[38;5;241;43m=\u001b[39;49m\u001b[43mretries_taken\u001b[49m\u001b[43m \u001b[49m\u001b[38;5;241;43m+\u001b[39;49m\u001b[43m \u001b[49m\u001b[38;5;241;43m1\u001b[39;49m\u001b[43m,\u001b[49m\n\u001b[0;32m   1099\u001b[0m \u001b[43m    \u001b[49m\u001b[43mstream\u001b[49m\u001b[38;5;241;43m=\u001b[39;49m\u001b[43mstream\u001b[49m\u001b[43m,\u001b[49m\n\u001b[0;32m   1100\u001b[0m \u001b[43m    \u001b[49m\u001b[43mstream_cls\u001b[49m\u001b[38;5;241;43m=\u001b[39;49m\u001b[43mstream_cls\u001b[49m\u001b[43m,\u001b[49m\n\u001b[0;32m   1101\u001b[0m \u001b[43m\u001b[49m\u001b[43m)\u001b[49m\n",
      "File \u001b[1;32m~\\Desktop\\jupyter\\Multimodal-Alejandra\\.venv\\Lib\\site-packages\\groq\\_base_client.py:1061\u001b[0m, in \u001b[0;36mSyncAPIClient._request\u001b[1;34m(self, cast_to, options, retries_taken, stream, stream_cls)\u001b[0m\n\u001b[0;32m   1058\u001b[0m         err\u001b[38;5;241m.\u001b[39mresponse\u001b[38;5;241m.\u001b[39mread()\n\u001b[0;32m   1060\u001b[0m     log\u001b[38;5;241m.\u001b[39mdebug(\u001b[38;5;124m\"\u001b[39m\u001b[38;5;124mRe-raising status error\u001b[39m\u001b[38;5;124m\"\u001b[39m)\n\u001b[1;32m-> 1061\u001b[0m     \u001b[38;5;28;01mraise\u001b[39;00m \u001b[38;5;28mself\u001b[39m\u001b[38;5;241m.\u001b[39m_make_status_error_from_response(err\u001b[38;5;241m.\u001b[39mresponse) \u001b[38;5;28;01mfrom\u001b[39;00m\u001b[38;5;250m \u001b[39m\u001b[38;5;28;01mNone\u001b[39;00m\n\u001b[0;32m   1063\u001b[0m \u001b[38;5;28;01mreturn\u001b[39;00m \u001b[38;5;28mself\u001b[39m\u001b[38;5;241m.\u001b[39m_process_response(\n\u001b[0;32m   1064\u001b[0m     cast_to\u001b[38;5;241m=\u001b[39mcast_to,\n\u001b[0;32m   1065\u001b[0m     options\u001b[38;5;241m=\u001b[39moptions,\n\u001b[1;32m   (...)\u001b[0m\n\u001b[0;32m   1069\u001b[0m     retries_taken\u001b[38;5;241m=\u001b[39mretries_taken,\n\u001b[0;32m   1070\u001b[0m )\n",
      "\u001b[1;31mRateLimitError\u001b[0m: Error code: 429 - {'error': {'message': 'Rate limit reached for model `llama-3.1-8b-instant` in organization `org_01jm6rjbykf3rsrx1vp679bhqk` service tier `on_demand` on requests per minute (RPM): Limit 30, Used 30, Requested 1. Please try again in 1.956s. Need more tokens? Upgrade to Dev Tier today at https://console.groq.com/settings/billing', 'type': 'requests', 'code': 'rate_limit_exceeded'}}"
     ]
    }
   ],
   "source": [
    "# Summarize text\n",
    "text_summaries = summarize_chain.batch(texts, {\"max_concurrency\": 3})\n",
    "\n",
    "# # Summarize tables\n",
    "# tables_html = [table.metadata.text_as_html for table in tables]\n",
    "# table_summaries = summarize_chain.batch(tables_html, {\"max_concurrency\": 3})"
   ]
  },
  {
   "cell_type": "markdown",
   "metadata": {},
   "source": [
    "### Image summaries\n",
    "\n",
    "We will use gpt-4o-mini to produce the image summaries."
   ]
  },
  {
   "cell_type": "code",
   "execution_count": null,
   "metadata": {},
   "outputs": [],
   "source": [
    "%pip install -Uq langchain_openai"
   ]
  },
  {
   "cell_type": "code",
   "execution_count": 15,
   "metadata": {},
   "outputs": [],
   "source": [
    "from langchain_openai import ChatOpenAI\n",
    "\n",
    "prompt_template = \"\"\"Describe the image in detail. For context,\n",
    "                  the image is exactly the product that being sold in the wonderful oddities shop\n",
    "                  \"\"\"\n",
    "messages = [\n",
    "    (\n",
    "        \"user\",\n",
    "        [\n",
    "            {\"type\": \"text\", \"text\": prompt_template},\n",
    "            {\n",
    "                \"type\": \"image_url\",\n",
    "                \"image_url\": {\"url\": \"data:image/jpeg;base64,{image}\"},\n",
    "            },\n",
    "        ],\n",
    "    )\n",
    "]\n",
    "\n",
    "prompt = ChatPromptTemplate.from_messages(messages)\n",
    "\n",
    "chain = prompt | ChatOpenAI(model=\"gpt-4o-mini\") | StrOutputParser()\n",
    "\n",
    "\n",
    "image_summaries = chain.batch(images)"
   ]
  },
  {
   "cell_type": "code",
   "execution_count": 53,
   "metadata": {
    "scrolled": true
   },
   "outputs": [
    {
     "data": {
      "text/plain": [
       "['The Wonderful Oddities Shop, known as \"The Oddities Collection\", is a store featuring unusual and rare items, including taxidermy, medical specimens, and other bizarre artifacts.',\n",
       " 'The Wonderful Oddities Shop is a mysterious store in a forgotten alley, selling rare magical artifacts with secrets and curses.',\n",
       " 'An endless, timeless state of existence.',\n",
       " 'The ChronoLens Camera is a polaroid camera that captures images of past or future moments when developed, rather than the present.',\n",
       " 'The ChronoLens Camera, a Standard Edition, prints moving ghostly images of scenes unfolding in real-time, costing 2,000 SGD.',\n",
       " \"The ChronoLens Camera (Limited Edition) is a special camera priced at 3,500 SGD, which may capture life-changing moments and sometimes shakes in the user's hands.\",\n",
       " 'The ChronoLens Camera, a cursed edition, captures photographs with a shadowy figure that appears closer in each subsequent image, also exhibiting eerie and unexplained phenomena such as lens fogging.',\n",
       " 'The ChronoLens Camera (Cursed Edition) is a mysterious item, while the Elixir of Renewal is a magical liquid that instantly heals any injury upon consumption.',\n",
       " 'A luxurious, limited-edition wine called Elixir of Renewal, priced at 400 SGD, is said to have healing properties that restore youth and erase scars.',\n",
       " 'The Elixir of Renewal, a 700 SGD liquid, is said to grant a year of life in exchange for a lost memory, with its hypnotic appearance reflecting forgotten moments.',\n",
       " \"A mysterious elixir heals wounds instantly but transfers the injury to a loved one, whose identity is unknown until it's too late, and is available for 100 SGD.\",\n",
       " \"A mysterious quill that writes messages from unseen spirits and draws cryptic symbols, made from an unknown bird's feather, is for sale for 200 SGD.\",\n",
       " 'The Whispering Quill writes prophecies, with ink color shifting to indicate the danger of the fate being foretold.',\n",
       " \"A limited edition quill, the Whispering Quill, writes one's exact moment of death, with the date remaining blank until it arrives.\",\n",
       " 'The Whispering Quill (Cursed Edition) and Starlight Jar (Standard Edition) are available for 100 SGD, with descriptions of the products.',\n",
       " 'The Starlight Jar is a limited edition item that responds to whispers, guiding the holder towards destiny, but dims in danger. It costs 800 SGD and grants a single wish, but at an unknown price.',\n",
       " 'The Starlight Jar, possibly cursed, occasionally vibrates, hinting at something trapped inside, and is priced at 1200 SGD.',\n",
       " 'A mysterious jar emits pure darkness, summoning invisible creatures, and its warm glass suggests an unseen presence inside, available for 200 SGD.',\n",
       " 'A midnight-black cloak woven from void-silk allows its wearer to step into any shadow and emerge from another nearby location.',\n",
       " \"The Aad Shadow Cloak is a mysterious item that grants 13 minutes of true invisibility per night, but each use erases a fragment of the user's identity from people's memories, leaving behind an unknown presence.\",\n",
       " 'The Shadow Cloak, a limited edition item, has a cursed effect: each use makes the user less human, and its price is 5,000 SGD.',\n",
       " 'The Shadow Cloak, a cursed item, has a tendency to tighten on its own and warns of irreversible consequences if used excessively, costing 600 SGD.',\n",
       " 'The Hourglass of Regret is a unique, limited edition timepiece that can reverse time by one hour when flipped, with a delicate golden hourglass design and a price of 900 SGD.',\n",
       " 'The Hourglass of Regret is a cursed item that offers two different abilities: a full hour of redo with increasing reality fragmentation, or an endless 60-second time loop that traps the user.',\n",
       " \"The item, a Moonstone Compass, is a beautifully crafted brass compass that leads to a person's deepest desires, but requires someone else to break a glass to escape a seemingly trapped situation.\",\n",
       " 'The Moonstone Compass, available in Limited Edition and Cursed Edition, is a mysterious item that can lead to hidden realms and unlock pathways to forgotten places, but comes with a high price tag of 1,500 SGD and 2,500 SGD respectively.',\n",
       " \"The text describes a supernatural object that reacts to the owner's emotional state, potentially indicating obsession or supernatural intervention, and is available for purchase at 150 SGD.\"]"
      ]
     },
     "execution_count": 53,
     "metadata": {},
     "output_type": "execute_result"
    }
   ],
   "source": [
    "text_summaries"
   ]
  },
  {
   "cell_type": "markdown",
   "metadata": {},
   "source": [
    "## Load data and summaries to vectorstore"
   ]
  },
  {
   "cell_type": "markdown",
   "metadata": {},
   "source": [
    "### Create the vectorstore"
   ]
  },
  {
   "cell_type": "code",
   "execution_count": 22,
   "metadata": {},
   "outputs": [],
   "source": [
    "import uuid\n",
    "from langchain_openai import OpenAIEmbeddings\n",
    "from langchain_chroma import Chroma\n",
    "from langchain.storage import InMemoryStore\n",
    "from langchain.schema.document import Document\n",
    "from langchain.retrievers.multi_vector import MultiVectorRetriever\n",
    "\n",
    "# The vectorstore to use to index the child chunks\n",
    "vectorstore = Chroma(collection_name=\"multi_modal_rag\", embedding_function=OpenAIEmbeddings())\n",
    "\n",
    "# The storage layer for the parent documents\n",
    "store = InMemoryStore()\n",
    "id_key = \"doc_id\"\n",
    "\n",
    "# The retriever (empty to start)\n",
    "retriever = MultiVectorRetriever(\n",
    "    vectorstore=vectorstore,\n",
    "    docstore=store,\n",
    "    id_key=id_key,\n",
    "    search_kwargs={\"k\": 4} \n",
    ")"
   ]
  },
  {
   "cell_type": "markdown",
   "metadata": {},
   "source": [
    "### Load the summaries and link the to the original data"
   ]
  },
  {
   "cell_type": "code",
   "execution_count": 23,
   "metadata": {},
   "outputs": [],
   "source": [
    "# Add texts\n",
    "doc_ids = [str(uuid.uuid4()) for _ in texts]\n",
    "summary_texts = [\n",
    "    Document(page_content=summary, metadata={id_key: doc_ids[i]}) for i, summary in enumerate(text_summaries)\n",
    "]\n",
    "retriever.vectorstore.add_documents(summary_texts)\n",
    "retriever.docstore.mset(list(zip(doc_ids, texts)))\n",
    "\n",
    "# # Add tables\n",
    "# table_ids = [str(uuid.uuid4()) for _ in tables]\n",
    "# summary_tables = [\n",
    "#     Document(page_content=summary, metadata={id_key: table_ids[i]}) for i, summary in enumerate(table_summaries)\n",
    "# ]\n",
    "# retriever.vectorstore.add_documents(summary_tables)\n",
    "# retriever.docstore.mset(list(zip(table_ids, tables)))\n",
    "\n",
    "# Add image summaries\n",
    "img_ids = [str(uuid.uuid4()) for _ in images]\n",
    "summary_img = [\n",
    "    Document(page_content=summary, metadata={id_key: img_ids[i]}) for i, summary in enumerate(image_summaries)\n",
    "]\n",
    "retriever.vectorstore.add_documents(summary_img)\n",
    "retriever.docstore.mset(list(zip(img_ids, images)))"
   ]
  },
  {
   "cell_type": "markdown",
   "metadata": {},
   "source": [
    "## Qdrant (outdated)"
   ]
  },
  {
   "cell_type": "code",
   "execution_count": null,
   "metadata": {
    "jupyter": {
     "source_hidden": true
    }
   },
   "outputs": [],
   "source": [
    "from qdrant_client import QdrantClient\n",
    "from qdrant_client.models import VectorParams, HnswConfig\n",
    "\n",
    "qdrant_client = QdrantClient()\n",
    "\n",
    "collection_name = \"your_collection_name\"\n",
    "\n",
    "vectors_config = {\n",
    "    \"embedding\": VectorParams(\n",
    "        size=1536,  # Set the correct vector size for OpenAI embeddings\n",
    "        distance=\"Cosine\",  # or \"Euclidean\" depending on your use case\n",
    "    )\n",
    "}\n",
    "\n",
    "print(f\"Creating collection {collection_name} with the correct configuration.\")\n",
    "qdrant_client.create_collection(\n",
    "    collection_name=collection_name,\n",
    "    vectors_config=vectors_config\n",
    ")\n"
   ]
  },
  {
   "cell_type": "code",
   "execution_count": null,
   "metadata": {
    "jupyter": {
     "source_hidden": true
    }
   },
   "outputs": [],
   "source": [
    "qdrant_client.delete_collection(collection_name=collection_name)\n"
   ]
  },
  {
   "cell_type": "code",
   "execution_count": null,
   "metadata": {
    "jupyter": {
     "source_hidden": true
    }
   },
   "outputs": [],
   "source": [
    "from qdrant_client import QdrantClient\n",
    "from qdrant_client.models import HnswConfigDiff\n",
    "\n",
    "qdrant_client = QdrantClient()\n",
    "\n",
    "# Update the collection with new HNSW configuration\n",
    "qdrant_client.update_collection(\n",
    "    collection_name=collection_name,\n",
    "    vectors_config={\n",
    "        \"embedding\": {\n",
    "            \"hnsw_config\": HnswConfigDiff(\n",
    "                ef_construct=200,  # Correct field name for ef_construction\n",
    "                m=16,\n",
    "                full_scan_threshold=100  # Add the missing field\n",
    "            )\n",
    "        }\n",
    "    }\n",
    ")"
   ]
  },
  {
   "cell_type": "code",
   "execution_count": null,
   "metadata": {
    "jupyter": {
     "source_hidden": true
    }
   },
   "outputs": [],
   "source": [
    "import uuid\n",
    "from langchain.vectorstores import Chroma\n",
    "from langchain.storage import InMemoryStore\n",
    "from langchain.schema import Document\n",
    "from langchain.embeddings import OpenAIEmbeddings\n",
    "from langchain.retrievers.multi_vector import MultiVectorRetriever\n",
    "from qdrant_client import QdrantClient\n",
    "from qdrant_client.models import PointStruct\n",
    "from sklearn.decomposition import PCA\n",
    "\n",
    "# Initialize Qdrant client\n",
    "qdrant_client = QdrantClient(\"http://localhost:6333\")  # Replace with your Qdrant instance URL\n",
    "collection_name = \"your_collection_name\"\n",
    "\n",
    "# Initialize the OpenAI Embeddings model\n",
    "embedding_function = OpenAIEmbeddings()\n",
    "\n",
    "# The vectorstore to use to index the child chunks\n",
    "vectorstore = Chroma(collection_name=\"multi_modal_rag\", embedding_function=embedding_function)\n",
    "\n",
    "# The storage layer for the parent documents\n",
    "store = InMemoryStore()\n",
    "id_key = \"doc_id\"\n",
    "\n",
    "# The retriever (empty to start)\n",
    "retriever = MultiVectorRetriever(\n",
    "    vectorstore=vectorstore,\n",
    "    docstore=store,\n",
    "    id_key=id_key,\n",
    ")\n",
    "\n",
    "# Generate document IDs for text and image data\n",
    "doc_ids = [str(uuid.uuid4()) for _ in texts]\n",
    "img_ids = [str(uuid.uuid4()) for _ in images]\n",
    "\n",
    "# Generate embeddings for texts using OpenAIEmbeddings\n",
    "def generate_text_embeddings(texts):\n",
    "    return embedding_function.embed_documents(texts)\n",
    "\n",
    "# Function to reduce dimensionality of embeddings to 512 using PCA\n",
    "def reduce_dimensionality(embeddings, target_dim=512):\n",
    "    n_samples, n_features = len(embeddings), len(embeddings[0]) if embeddings else 0\n",
    "    \n",
    "    if n_samples == 0 or n_features == 0:\n",
    "        raise ValueError(\"Embeddings are empty or improperly formatted.\")\n",
    "    \n",
    "    # Ensure n_components does not exceed min(n_samples, n_features)\n",
    "    n_components = min(target_dim, min(n_samples, n_features))\n",
    "\n",
    "    pca = PCA(n_components=n_components)\n",
    "    return pca.fit_transform(embeddings)\n",
    "\n",
    "# Function to store embeddings and metadata in Qdrant\n",
    "def store_embeddings_in_qdrant(doc_ids, embeddings, summaries, texts=None, images=None):\n",
    "    points = [\n",
    "        PointStruct(\n",
    "            id=doc_id,\n",
    "            vector={\"embedding\": embedding},  # Ensure correct vector name\n",
    "            payload={\"summary\": summary, \"text\": text, \"image\": image}\n",
    "        )\n",
    "        for doc_id, embedding, summary, text, image in zip(doc_ids, embeddings, summaries, texts or [None] * len(doc_ids), images or [None] * len(doc_ids))\n",
    "    ]\n",
    "    \n",
    "    # Upload the points into the Qdrant collection\n",
    "    qdrant_client.upsert(collection_name=collection_name, points=points)\n",
    "\n",
    "# Add texts to retriever (store texts and summaries in vectorstore)\n",
    "summary_texts = [\n",
    "    Document(page_content=summary, metadata={id_key: doc_ids[i]}) for i, summary in enumerate(text_summaries)\n",
    "]\n",
    "retriever.vectorstore.add_documents(summary_texts)\n",
    "retriever.docstore.mset(list(zip(doc_ids, texts)))\n",
    "\n",
    "# Generate embeddings for texts\n",
    "text_embeddings = generate_text_embeddings(texts)  # Generate embeddings for texts\n",
    "\n",
    "# Optionally reduce the dimensionality of the text embeddings to 512 if needed\n",
    "text_embeddings_512 = reduce_dimensionality(text_embeddings, target_dim=512)\n",
    "\n",
    "# Store embeddings and metadata in Qdrant for text summaries\n",
    "store_embeddings_in_qdrant(doc_ids, text_embeddings, text_summaries, texts=texts)\n",
    "\n",
    "# Add image summaries to retriever\n",
    "summary_img = [\n",
    "    Document(page_content=summary, metadata={id_key: img_ids[i]}) for i, summary in enumerate(image_summaries)\n",
    "]\n",
    "retriever.vectorstore.add_documents(summary_img)\n",
    "retriever.docstore.mset(list(zip(img_ids, images)))\n",
    "\n",
    "# Generate embeddings for images using a different model (e.g., CLIP)\n",
    "# This is a placeholder function. Replace with actual image embedding logic.\n",
    "def generate_image_embeddings(images):\n",
    "    # Placeholder: Replace with actual image embedding logic\n",
    "    return [[0.0] * 512 for _ in images]  # Example: Dummy embeddings with 512 dimension\n",
    "\n",
    "def pad_image_embeddings(image_embeddings, target_dim=1536):\n",
    "    return [embedding + [0.0] * (target_dim - len(embedding)) for embedding in image_embeddings]\n",
    "\n",
    "\n",
    "\n",
    "# Generate embeddings for images\n",
    "image_embeddings = generate_image_embeddings(images)  # Generate embeddings for images\n",
    "\n",
    "# Pad image embeddings to 1536 dimensions\n",
    "image_embeddings_1536 = pad_image_embeddings(image_embeddings, target_dim=1536)\n",
    "\n",
    "# Store embeddings and metadata in Qdrant for image summaries\n",
    "store_embeddings_in_qdrant(img_ids, image_embeddings_1536, image_summaries, images=images)\n"
   ]
  },
  {
   "cell_type": "markdown",
   "metadata": {},
   "source": [
    "## Chroma (latest)"
   ]
  },
  {
   "cell_type": "code",
   "execution_count": 27,
   "metadata": {},
   "outputs": [
    {
     "name": "stdout",
     "output_type": "stream",
     "text": [
      "✅ All data (vectors & documents) are now stored in ChromaDB!\n"
     ]
    }
   ],
   "source": [
    "import uuid\n",
    "from langchain_openai import OpenAIEmbeddings\n",
    "from langchain_chroma import Chroma\n",
    "from langchain.storage._lc_store import create_kv_docstore\n",
    "from langchain.storage import LocalFileStore\n",
    "from langchain.schema import Document\n",
    "from langchain.retrievers.multi_vector import MultiVectorRetriever\n",
    "import chromadb\n",
    "from chromadb.config import Settings  # ✅ Import Settings\n",
    "from sklearn.decomposition import PCA\n",
    "\n",
    "# Initialize OpenAI Embeddings\n",
    "embedding_function = OpenAIEmbeddings()\n",
    "\n",
    "# ✅ Explicitly connect to the running ChromaDB server\n",
    "chroma_client = chromadb.HttpClient(\n",
    "    host=\"localhost\",  # Docker container name\n",
    "    port=8000\n",
    ")\n",
    "\n",
    "persist_directory = \"./chroma_db\"\n",
    "\n",
    "vectorstore = Chroma(\n",
    "    client=chroma_client,  \n",
    "    collection_name=\"multi_modal_rag\",\n",
    "    embedding_function=embedding_function,\n",
    "    persist_directory=persist_directory  # ✅ Match Docker volume mount\n",
    ")\n",
    "\n",
    "fs = LocalFileStore(\"./store_document\")\n",
    "docstore = create_kv_docstore(fs)\n",
    "\n",
    "\n",
    "# The storage layer for parent documents\n",
    "id_key = \"doc_id\"\n",
    "\n",
    "# Initialize the retriever\n",
    "retriever = MultiVectorRetriever(\n",
    "    vectorstore=vectorstore,\n",
    "    docstore=docstore,\n",
    "    id_key=id_key,\n",
    "    search_kwargs={\"k\": 4} \n",
    ")\n",
    "\n",
    "# Generate unique document IDs\n",
    "doc_ids = [str(uuid.uuid4()) for _ in texts]\n",
    "img_ids = [str(uuid.uuid4()) for _ in images]\n",
    "\n",
    "# Generate text embeddings\n",
    "def generate_text_embeddings(texts):\n",
    "    return embedding_function.embed_documents(texts)\n",
    "\n",
    "# Store embeddings and metadata in ChromaDB\n",
    "def store_embeddings_in_chroma(doc_ids, embeddings, summaries, texts=None, images=None):\n",
    "    documents = [\n",
    "        Document(\n",
    "            page_content=summary,\n",
    "            metadata={\n",
    "                \"id\": doc_id,\n",
    "                \"text\": text if text is not None else \"\",  # Replace None with \"\"\n",
    "                \"image\": image if image is not None else \"\"  # Replace None with \"\"\n",
    "            }\n",
    "        )\n",
    "        for doc_id, embedding, summary, text, image in zip(\n",
    "            doc_ids, embeddings, summaries,\n",
    "            texts if texts is not None else [\"\"] * len(doc_ids), \n",
    "            images if images is not None else [\"\"] * len(doc_ids)\n",
    "        )\n",
    "    ]\n",
    "\n",
    "    # Store in ChromaDB\n",
    "    vectorstore.add_documents(documents)\n",
    "\n",
    "\n",
    "\n",
    "# Add text summaries to retriever\n",
    "summary_texts = [\n",
    "    Document(page_content=summary, metadata={id_key: doc_ids[i]}) for i, summary in enumerate(text_summaries)\n",
    "]\n",
    "retriever.vectorstore.add_documents(summary_texts)\n",
    "retriever.docstore.mset(list(zip(doc_ids, [Document(page_content=text) for text in texts])))\n",
    "\n",
    "# Generate and store text embeddings\n",
    "text_embeddings = generate_text_embeddings(texts)  \n",
    "\n",
    "store_embeddings_in_chroma(doc_ids, text_embeddings, text_summaries, texts=texts)\n",
    "\n",
    "# Add image summaries to retriever\n",
    "summary_img = [\n",
    "    Document(page_content=summary, metadata={id_key: img_ids[i]}) for i, summary in enumerate(image_summaries)\n",
    "]\n",
    "retriever.vectorstore.add_documents(summary_img)\n",
    "retriever.docstore.mset(list(zip(img_ids, [Document(page_content=image) for image in images])))\n",
    "\n",
    "# Placeholder function for generating image embeddings\n",
    "def generate_image_embeddings(images):\n",
    "    return [[0.0] * 512 for _ in images]  # Example: Dummy embeddings\n",
    "\n",
    "# Ensure image embeddings match required dimensionality\n",
    "def pad_image_embeddings(image_embeddings, target_dim=1536):\n",
    "    return [embedding + [0.0] * (target_dim - len(embedding)) for embedding in image_embeddings]\n",
    "\n",
    "# Generate and store image embeddings\n",
    "image_embeddings = generate_image_embeddings(images)\n",
    "\n",
    "store_embeddings_in_chroma(img_ids, image_embeddings, image_summaries, images=images)\n",
    "\n",
    "print(\"✅ All data (vectors & documents) are now stored in ChromaDB!\")"
   ]
  },
  {
   "cell_type": "code",
   "execution_count": 34,
   "metadata": {},
   "outputs": [],
   "source": [
    "# Initialize OpenAI Embeddings\n",
    "embedding_function = OpenAIEmbeddings()\n",
    "\n",
    "chroma_client = chromadb.HttpClient(\n",
    "    host=\"localhost\",  # Docker container name\n",
    "    port=8000\n",
    ")\n",
    "\n",
    "persist_directory = \"./chroma_db\"\n",
    "\n",
    "vectorstore = Chroma(\n",
    "    client=chroma_client,  \n",
    "    collection_name=\"multi_modal_rag\",\n",
    "    embedding_function=embedding_function,\n",
    "    persist_directory=persist_directory  # ✅ Match Docker volume mount\n",
    ")\n",
    "\n",
    "fs = LocalFileStore(\"./store_document\")\n",
    "docstore = create_kv_docstore(fs)\n",
    "\n",
    "\n",
    "# The storage layer for parent documents\n",
    "id_key = \"doc_id\"\n",
    "\n",
    "# Initialize the retriever\n",
    "retriever = MultiVectorRetriever(\n",
    "    vectorstore=vectorstore,\n",
    "    docstore=docstore,\n",
    "    id_key=id_key,\n",
    "    search_kwargs={\"k\": 4} \n",
    ")\n",
    "\n",
    "\n",
    "# Add texts\n",
    "doc_ids = [str(uuid.uuid4()) for _ in texts]\n",
    "summary_texts = [\n",
    "    Document(page_content=summary, metadata={id_key: doc_ids[i]}) for i, summary in enumerate(text_summaries)\n",
    "]\n",
    "retriever.vectorstore.add_documents(summary_texts)\n",
    "documents = [Document(page_content=text, metadata={id_key: doc_id}) for doc_id, text in zip(doc_ids, texts)]\n",
    "retriever.docstore.mset(list(zip(doc_ids, documents)))\n",
    "\n",
    "# # Add tables\n",
    "# table_ids = [str(uuid.uuid4()) for _ in tables]\n",
    "# summary_tables = [\n",
    "#     Document(page_content=summary, metadata={id_key: table_ids[i]}) for i, summary in enumerate(table_summaries)\n",
    "# ]\n",
    "# retriever.vectorstore.add_documents(summary_tables)\n",
    "# retriever.docstore.mset(list(zip(table_ids, tables)))\n",
    "\n",
    "# Add image summaries\n",
    "img_ids = [str(uuid.uuid4()) for _ in images]\n",
    "summary_img = [\n",
    "    Document(page_content=summary, metadata={id_key: img_ids[i]}) for i, summary in enumerate(image_summaries)\n",
    "]\n",
    "retriever.vectorstore.add_documents(summary_img)\n",
    "image_documents = [Document(page_content=image, metadata={id_key: img_id}) for img_id, image in zip(img_ids, images)]\n",
    "retriever.docstore.mset(list(zip(img_ids, image_documents)))"
   ]
  },
  {
   "cell_type": "code",
   "execution_count": 35,
   "metadata": {},
   "outputs": [
    {
     "name": "stdout",
     "output_type": "stream",
     "text": [
      "Number of vectors in ChromaDB collection: 39\n",
      "Number of documents in docstore: 39\n",
      "Sample document IDs: ['0e085b4c-39fd-458b-9708-475d0d929c67', '0f4d6c58-1f35-406e-b4a0-715d8aec5fae', '1e002ead-ab4b-4a0d-a188-e3570ca548c5', '24daf6b1-2475-4889-9942-b91ff621308a', '423550d7-0224-4577-9171-814ab183cf6e']\n",
      "Number of retrieved documents: 4\n",
      "['__abstractmethods__', '__annotations__', '__class__', '__class_getitem__', '__class_vars__', '__copy__', '__deepcopy__', '__delattr__', '__dict__', '__dir__', '__doc__', '__eq__', '__fields__', '__fields_set__', '__format__', '__ge__', '__get_pydantic_core_schema__', '__get_pydantic_json_schema__', '__getattr__', '__getattribute__', '__getstate__', '__gt__', '__hash__', '__init__', '__init_subclass__', '__iter__', '__le__', '__lt__', '__module__', '__ne__', '__new__', '__pretty__', '__private_attributes__', '__pydantic_complete__', '__pydantic_computed_fields__', '__pydantic_core_schema__', '__pydantic_custom_init__', '__pydantic_decorators__', '__pydantic_extra__', '__pydantic_fields__', '__pydantic_fields_set__', '__pydantic_generic_metadata__', '__pydantic_init_subclass__', '__pydantic_parent_namespace__', '__pydantic_post_init__', '__pydantic_private__', '__pydantic_root_model__', '__pydantic_serializer__', '__pydantic_validator__', '__reduce__', '__reduce_ex__', '__replace__', '__repr__', '__repr_args__', '__repr_name__', '__repr_recursion__', '__repr_str__', '__rich_repr__', '__setattr__', '__setstate__', '__signature__', '__sizeof__', '__slots__', '__str__', '__subclasshook__', '__weakref__', '_abc_impl', '_calculate_keys', '_check_frozen', '_copy_and_set_values', '_get_value', '_iter', 'cast_id_to_str', 'construct', 'copy', 'dict', 'from_orm', 'get_lc_namespace', 'id', 'is_lc_serializable', 'json', 'lc_attributes', 'lc_id', 'lc_secrets', 'metadata', 'model_computed_fields', 'model_config', 'model_construct', 'model_copy', 'model_dump', 'model_dump_json', 'model_extra', 'model_fields', 'model_fields_set', 'model_json_schema', 'model_parametrized_name', 'model_post_init', 'model_rebuild', 'model_validate', 'model_validate_json', 'model_validate_strings', 'page_content', 'parse_file', 'parse_obj', 'parse_raw', 'schema', 'schema_json', 'to_json', 'to_json_not_implemented', 'type', 'update_forward_refs', 'validate']\n"
     ]
    }
   ],
   "source": [
    "# Check number of vectors in the collection\n",
    "num_vectors = vectorstore._collection.count()\n",
    "print(f\"Number of vectors in ChromaDB collection: {num_vectors}\")\n",
    "\n",
    "# Get all document IDs stored in the docstore\n",
    "doc_ids = list(docstore.yield_keys())\n",
    "\n",
    "# Print document count and a preview of some IDs\n",
    "print(f\"Number of documents in docstore: {len(doc_ids)}\")\n",
    "print(\"Sample document IDs:\", doc_ids[:5])  # Show first 5 document IDs\n",
    "\n",
    "retrieved_docs = retriever.invoke(\"ChronoLens Camera (Limited Edi􀆟on)\")\n",
    "\n",
    "print(f\"Number of retrieved documents: {len(retrieved_docs)}\")\n",
    "print(dir(retrieved_docs[2]))\n",
    "# for doc in retrieved_docs:\n",
    "#     print(f\"Document ID: {doc.metadata.get(id_key, 'Unknown')}\")\n",
    "#     print(f\"Content: {doc.page_content[:200]}...\")  # Print first 200 characters\n",
    "#     print(\"-\" * 80)\n"
   ]
  },
  {
   "cell_type": "code",
   "execution_count": 19,
   "metadata": {},
   "outputs": [
    {
     "ename": "AttributeError",
     "evalue": "'Client' object has no attribute 'query'",
     "output_type": "error",
     "traceback": [
      "\u001b[1;31m-----------------------------------------------------------------\u001b[0m",
      "\u001b[1;31mAttributeError\u001b[0m                  Traceback (most recent call last)",
      "Cell \u001b[1;32mIn[19], line 4\u001b[0m\n\u001b[0;32m      1\u001b[0m chroma_client \u001b[38;5;241m=\u001b[39m chromadb\u001b[38;5;241m.\u001b[39mClient()\n\u001b[0;32m      3\u001b[0m \u001b[38;5;66;03m# Query documents in your collection\u001b[39;00m\n\u001b[1;32m----> 4\u001b[0m results \u001b[38;5;241m=\u001b[39m \u001b[43mchroma_client\u001b[49m\u001b[38;5;241;43m.\u001b[39;49m\u001b[43mquery\u001b[49m(\n\u001b[0;32m      5\u001b[0m     collection_name\u001b[38;5;241m=\u001b[39m\u001b[38;5;124m\"\u001b[39m\u001b[38;5;124mmulti_modal_rag\u001b[39m\u001b[38;5;124m\"\u001b[39m,\n\u001b[0;32m      6\u001b[0m     query_embeddings\u001b[38;5;241m=\u001b[39m\u001b[38;5;28;01mNone\u001b[39;00m,  \u001b[38;5;66;03m# Optional: you can provide query embeddings if you want to filter based on similarity\u001b[39;00m\n\u001b[0;32m      7\u001b[0m     n_results\u001b[38;5;241m=\u001b[39m\u001b[38;5;241m5\u001b[39m  \u001b[38;5;66;03m# Number of results you want to retrieve\u001b[39;00m\n\u001b[0;32m      8\u001b[0m )\n\u001b[0;32m     10\u001b[0m \u001b[38;5;66;03m# Print the results\u001b[39;00m\n\u001b[0;32m     11\u001b[0m \u001b[38;5;28mprint\u001b[39m(\u001b[38;5;124m\"\u001b[39m\u001b[38;5;124mQuery Results:\u001b[39m\u001b[38;5;124m\"\u001b[39m, results)\n",
      "\u001b[1;31mAttributeError\u001b[0m: 'Client' object has no attribute 'query'"
     ]
    }
   ],
   "source": [
    "chroma_client = chromadb.Client()\n",
    "\n",
    "# Query documents in your collection\n",
    "results = chroma_client.query(\n",
    "    collection_name=\"multi_modal_rag\",\n",
    "    query_embeddings=None,  # Optional: you can provide query embeddings if you want to filter based on similarity\n",
    "    n_results=5  # Number of results you want to retrieve\n",
    ")\n",
    "\n",
    "# Print the results\n",
    "print(\"Query Results:\", results)"
   ]
  },
  {
   "cell_type": "code",
   "execution_count": null,
   "metadata": {},
   "outputs": [],
   "source": [
    "from langchain_core.runnables import RunnablePassthrough, RunnableLambda\n",
    "from langchain_openai import ChatOpenAI\n",
    "from langchain.schema import SystemMessage, HumanMessage\n",
    "from langchain_core.output_parsers import StrOutputParser\n",
    "from langchain.prompts import ChatPromptTemplate\n",
    "from base64 import b64decode\n",
    "\n",
    "\n",
    "def parse_docs(docs):\n",
    "    \"\"\"Split base64-encoded images and texts\"\"\"\n",
    "    b64 = []\n",
    "    text = []\n",
    "    for doc in docs:\n",
    "        try:\n",
    "            b64decode(doc)\n",
    "            b64.append(doc)\n",
    "        except Exception:\n",
    "            text.append(doc)\n",
    "    return {\"images\": b64, \"texts\": text}\n",
    "\n",
    "\n",
    "def build_prompt(kwargs):\n",
    "    docs_by_type = kwargs[\"context\"]\n",
    "    user_question = kwargs[\"question\"]\n",
    "\n",
    "    context_text = \"\"\n",
    "    if len(docs_by_type[\"texts\"]) > 0:\n",
    "        for text_element in docs_by_type[\"texts\"]:\n",
    "            context_text += text_element\n",
    "\n",
    "    # Construct prompt with retrieved context\n",
    "    prompt_template = f\"\"\"\n",
    "    Answer the question based only on the following context, which can include text, tables, and images.\n",
    "    Context: {context_text}\n",
    "    Question: {user_question}\n",
    "    \"\"\"\n",
    "\n",
    "    prompt_content = [{\"type\": \"text\", \"text\": prompt_template}]\n",
    "\n",
    "    if len(docs_by_type[\"images\"]) > 0:\n",
    "        for image in docs_by_type[\"images\"]:\n",
    "            prompt_content.append(\n",
    "                {\n",
    "                    \"type\": \"image_url\",\n",
    "                    \"image_url\": {\"url\": f\"data:image/jpeg;base64,{image}\"},\n",
    "                }\n",
    "            )\n",
    "\n",
    "    return ChatPromptTemplate.from_messages([HumanMessage(content=prompt_content)])\n",
    "\n",
    "\n",
    "# Define RAG pipeline with retriever\n",
    "chain_with_sources = {\n",
    "    \"context\": retriever | RunnableLambda(parse_docs),\n",
    "    \"question\": RunnablePassthrough(),\n",
    "} | RunnablePassthrough().assign(\n",
    "    response=(\n",
    "        RunnableLambda(build_prompt)\n",
    "        | ChatOpenAI(model=\"gpt-4o-mini\")\n",
    "        | StrOutputParser()\n",
    "    )\n",
    ")\n",
    "\n",
    "response = chain_with_sources.invoke(\n",
    "    \"what does Shadow Cloak (Cursed Edi􀆟on) look like\"\n",
    ")\n",
    "print(\"Response:\", response)\n"
   ]
  },
  {
   "cell_type": "markdown",
   "metadata": {},
   "source": [
    "### Check retrieval"
   ]
  },
  {
   "cell_type": "code",
   "execution_count": 16,
   "metadata": {
    "scrolled": true
   },
   "outputs": [
    {
     "name": "stdout",
     "output_type": "stream",
     "text": [
      "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\n",
      "\n",
      "--------------------------------------------------------------------------------\n",
      "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\n",
      "\n",
      "--------------------------------------------------------------------------------\n",
      "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\n",
      "\n",
      "--------------------------------------------------------------------------------\n",
      "• If the photo develops in red hues, you have witnessed a moment fated to change your life forever.\n",
      "\n",
      "• The camera occasionally trembles in your hands, as if resisting the secrets it reveals.\n",
      "\n",
      "• 3,500 SGD\n",
      "\n",
      "ChronoLens Camera (Limited Edition)\n",
      "\n",
      "ChronoLens Camera (Limited Edition)\n",
      "\n",
      "--------------------------------------------------------------------------------\n"
     ]
    }
   ],
   "source": [
    "# Retrieve\n",
    "docs = retriever.invoke(\n",
    "    \"what is the picture of ChronoLens Camera (Limited Edi􀆟on)\"\n",
    ")\n",
    "\n",
    "for doc in docs:\n",
    "    print(str(doc) + \"\\n\\n\" + \"-\" * 80)"
   ]
  },
  {
   "cell_type": "code",
   "execution_count": 15,
   "metadata": {},
   "outputs": [
    {
     "ename": "NameError",
     "evalue": "name 'docs' is not defined",
     "output_type": "error",
     "traceback": [
      "\u001b[1;31m---------------------------------------------------------------------------\u001b[0m",
      "\u001b[1;31mNameError\u001b[0m                                 Traceback (most recent call last)",
      "Cell \u001b[1;32mIn[15], line 1\u001b[0m\n\u001b[1;32m----> 1\u001b[0m \u001b[38;5;28mlen\u001b[39m(\u001b[43mdocs\u001b[49m)\n",
      "\u001b[1;31mNameError\u001b[0m: name 'docs' is not defined"
     ]
    }
   ],
   "source": [
    "len(docs)"
   ]
  },
  {
   "cell_type": "markdown",
   "metadata": {},
   "source": [
    "## RAG pipeline"
   ]
  },
  {
   "cell_type": "code",
   "execution_count": 13,
   "metadata": {},
   "outputs": [],
   "source": [
    "from langchain_core.runnables import RunnablePassthrough, RunnableLambda\n",
    "from langchain_core.messages import SystemMessage, HumanMessage\n",
    "from langchain_openai import ChatOpenAI\n",
    "from base64 import b64decode\n",
    "\n",
    "\n",
    "def parse_docs(docs):\n",
    "    \"\"\"Split base64-encoded images and texts\"\"\"\n",
    "    b64 = []\n",
    "    text = []\n",
    "    for doc in docs:\n",
    "        try:\n",
    "            b64decode(doc)\n",
    "            b64.append(doc)\n",
    "        except Exception as e:\n",
    "            text.append(doc)\n",
    "    return {\"images\": b64, \"texts\": text}\n",
    "\n",
    "\n",
    "def build_prompt(kwargs):\n",
    "\n",
    "    docs_by_type = kwargs[\"context\"]\n",
    "    user_question = kwargs[\"question\"]\n",
    "\n",
    "    context_text = \"\"\n",
    "    if len(docs_by_type[\"texts\"]) > 0:\n",
    "        for text_element in docs_by_type[\"texts\"]:\n",
    "            context_text += text_element  # Assuming it's an object with `.text`\n",
    "\n",
    "    # construct prompt with context (including images)\n",
    "    prompt_template = f\"\"\"\n",
    "    Answer the question based only on the following context, which can include text, tables, and the below image.\n",
    "    Context: {context_text}\n",
    "    Question: {user_question}\n",
    "    \"\"\"\n",
    "\n",
    "    prompt_content = [{\"type\": \"text\", \"text\": prompt_template}]\n",
    "\n",
    "    if len(docs_by_type[\"images\"]) > 0:\n",
    "        for image in docs_by_type[\"images\"]:\n",
    "            prompt_content.append(\n",
    "                {\n",
    "                    \"type\": \"image_url\",\n",
    "                    \"image_url\": {\"url\": f\"data:image/jpeg;base64,{image}\"},\n",
    "                }\n",
    "            )\n",
    "\n",
    "    return ChatPromptTemplate.from_messages(\n",
    "        [\n",
    "            HumanMessage(content=prompt_content),\n",
    "        ]\n",
    "    )\n",
    "\n",
    "\n",
    "chain = (\n",
    "    {\n",
    "        \"context\": retriever | RunnableLambda(parse_docs),\n",
    "        \"question\": RunnablePassthrough(),\n",
    "    }\n",
    "    | RunnableLambda(build_prompt)\n",
    "    | ChatOpenAI(model=\"gpt-4o-mini\")\n",
    "    | StrOutputParser()\n",
    ")\n",
    "\n",
    "chain_with_sources = {\n",
    "    \"context\": retriever | RunnableLambda(parse_docs),\n",
    "    \"question\": RunnablePassthrough(),\n",
    "} | RunnablePassthrough().assign(\n",
    "    response=(\n",
    "        RunnableLambda(build_prompt)\n",
    "        | ChatOpenAI(model=\"gpt-4o-mini\")\n",
    "        | StrOutputParser()\n",
    "    )\n",
    ")"
   ]
  },
  {
   "cell_type": "code",
   "execution_count": 14,
   "metadata": {
    "scrolled": true
   },
   "outputs": [
    {
     "name": "stdout",
     "output_type": "stream",
     "text": [
      "The ChronoLens Camera (Limited Edition) is depicted in the first two images. The first image shows the back view of the camera, while the second image displays the front view. Both versions highlight the unique design and color of the limited edition. The third image shows the ChronoLens Camera (Standard Edition) in a different color and style.\n"
     ]
    }
   ],
   "source": [
    "response = chain.invoke(\n",
    "    \"what is the picture of ChronoLens Camera (Limited Edi􀆟on)\"\n",
    ")\n",
    "\n",
    "print(response)"
   ]
  },
  {
   "cell_type": "code",
   "execution_count": 17,
   "metadata": {},
   "outputs": [
    {
     "name": "stdout",
     "output_type": "stream",
     "text": [
      "Response: The picture of the ChronoLens Camera (Limited Edition) shows a camera with a vibrant orange exterior, featuring a prominent lens and a textured grip on the side. The camera design is stylish and modern, distinguishing it from the standard edition, which has a black finish.\n",
      "\n",
      "\n",
      "Context:\n"
     ]
    },
    {
     "data": {
      "image/jpeg": "[encoded data removed]",
      "text/plain": [
       "<IPython.core.display.Image object>"
      ]
     },
     "metadata": {},
     "output_type": "display_data"
    },
    {
     "data": {
      "image/jpeg": "[encoded data removed]",
      "text/plain": [
       "<IPython.core.display.Image object>"
      ]
     },
     "metadata": {},
     "output_type": "display_data"
    },
    {
     "data": {
      "image/jpeg": "[encoded data removed]",
      "text/plain": [
       "<IPython.core.display.Image object>"
      ]
     },
     "metadata": {},
     "output_type": "display_data"
    }
   ],
   "source": [
    "response = chain_with_sources.invoke(\"what is the picture of ChronoLens Camera (Limited Edi􀆟on)\")\n",
    "\n",
    "\n",
    "print(\"Response:\", response['response'])\n",
    "\n",
    "print(\"\\n\\nContext:\")\n",
    "# for text in response['context']['texts']:\n",
    "#     print(text.text)\n",
    "#     print(\"Page number: \", text.metadata.page_number)\n",
    "#     print(\"\\n\" + \"-\"*50 + \"\\n\")\n",
    "for image in response['context']['images']:\n",
    "    display_base64_image(image)"
   ]
  },
  {
   "cell_type": "code",
   "execution_count": 39,
   "metadata": {},
   "outputs": [
    {
     "data": {
      "text/plain": [
       "[Document(metadata={'doc_id': '66b66048-7f9b-4828-9a1e-79e8d26f59ba'}, page_content='The Wonderful Oddities Shop is a mysterious store selling enchanted artifacts with secrets and curses, where customers browse at their own risk.'),\n",
       " Document(metadata={'doc_id': 'ada6d4dc-23d4-48fb-9e44-ea40725d143c'}, page_content='The Wonderful Oddities Shop is a mysterious store selling enchanted artifacts with secrets and curses, where customers browse at their own risk.'),\n",
       " Document(metadata={'doc_id': '499fbd04-5c39-425f-a3db-f8adf3151cfc'}, page_content='The Wonderful Oddities Shop, also known as \"The Oddities Collection\", is a unique store featuring unusual and bizarre items, including taxidermied animals, medical oddities, and other rare and unusual artifacts.'),\n",
       " Document(metadata={'doc_id': '1e84921e-84c2-40f0-b39c-f42585d49aac'}, page_content='The Wonderful Oddities Shop, also known as \"The Oddities Collection\", is a unique store featuring unusual and bizarre items, including taxidermied animals, medical oddities, and other rare and unusual artifacts.')]"
      ]
     },
     "execution_count": 39,
     "metadata": {},
     "output_type": "execute_result"
    }
   ],
   "source": [
    "vectorstore.similarity_search(\"what is the shop name?\")"
   ]
  }
 ],
 "metadata": {
  "kernelspec": {
   "display_name": "Python 3 (ipykernel)",
   "language": "python",
   "name": "python3"
  },
  "language_info": {
   "codemirror_mode": {
    "name": "ipython",
    "version": 3
   },
   "file_extension": ".py",
   "mimetype": "text/x-python",
   "name": "python",
   "nbconvert_exporter": "python",
   "pygments_lexer": "ipython3",
   "version": "3.11.9"
  }
 },
 "nbformat": 4,
 "nbformat_minor": 4
}
